{
 "cells": [
  {
   "metadata": {
    "ExecuteTime": {
     "end_time": "2024-09-18T08:35:19.763957Z",
     "start_time": "2024-09-18T08:35:19.743760Z"
    }
   },
   "cell_type": "code",
   "source": [
    "import re\n",
    "import json\n",
    "\n",
    "def extract_json_using_patterns(text):\n",
    "    \"\"\"使用一组正则表达式模式来提取 JSON\"\"\"\n",
    "    # 保留原始文本的换行符\n",
    "    text = text.strip()\n",
    "    print(\"text:\", text)\n",
    "    \n",
    "    patterns = [\n",
    "        r'\\{[\\s\\S]*\\}',  # 新的正则表达式模式，匹配第一个 '{' 和最后一个 '}' 之间的内容\n",
    "        # 保留其他原有模式\n",
    "        r'(\\{[\\s\\S]*?\\})\\s*\\}$',\n",
    "        r'\\{\\s*\"result\"\\s*:\\s*\\[[\\s\\S]*?\\]\\s*\\}',\n",
    "        r'\"\"\"json\\s*(\\{[\\s\\S]*?\\})\\s*\"\"\"',\n",
    "        r'```json\\s*(\\{[\\s\\S]*?\\})\\s*```',\n",
    "    ]\n",
    "\n",
    "    # 依次尝试使用每个正则表达式模式进行匹配\n",
    "    for pattern in patterns:\n",
    "        match = re.search(pattern, text, re.DOTALL)\n",
    "        if match:\n",
    "            # 检查正则表达式是否使用了捕获组\n",
    "            if match.lastindex:\n",
    "                json_str = match.group(1)  # 获取捕获组中的内容\n",
    "            else:\n",
    "                json_str = match.group(0)  # 获取整个匹配的内容\n",
    "            print(f\"匹配到的 JSON: {json_str}\")\n",
    "            try:\n",
    "                # 尝试将提取到的字符串解析为 JSON\n",
    "                result_data = json.loads(json_str)\n",
    "                return result_data\n",
    "            except json.JSONDecodeError as e:\n",
    "                # 如果 JSON 解析失败，继续尝试下一个模式\n",
    "                print(f\"JSON 解析失败: {e}\")\n",
    "                continue\n",
    "\n",
    "    # 如果没有找到匹配的 JSON 数据\n",
    "    print(\"未找到符合模式的 JSON 数据\")\n",
    "    return {}\n",
    "\n",
    "# 测试代码\n",
    "text = '''\n",
    "一些前置文本\n",
    "{\n",
    "    \"result\": [\n",
    "        {\"type\": \"发起\", \"content\": \"具你，为什么要我买？这是第一套。\"},\n",
    "        {\"type\": \"其它\", \"content\": \"\"}\n",
    "    ],\n",
    "    \"compliance\": \"低\"\n",
    "}\n",
    "一些后置文本\n",
    "'''\n",
    "\n",
    "result = extract_json_using_patterns(text)\n",
    "print(\"提取结果:\", result)\n"
   ],
   "id": "e554c740ac69f309",
   "outputs": [
    {
     "name": "stdout",
     "output_type": "stream",
     "text": [
      "text: 一些前置文本\n",
      "{\n",
      "    \"result\": [\n",
      "        {\"type\": \"发起\", \"content\": \"具你，为什么要我买？这是第一套。\"},\n",
      "        {\"type\": \"其它\", \"content\": \"\"}\n",
      "    ],\n",
      "    \"compliance\": \"低\"\n",
      "}\n",
      "一些后置文本\n",
      "匹配到的 JSON: {\n",
      "    \"result\": [\n",
      "        {\"type\": \"发起\", \"content\": \"具你，为什么要我买？这是第一套。\"},\n",
      "        {\"type\": \"其它\", \"content\": \"\"}\n",
      "    ],\n",
      "    \"compliance\": \"低\"\n",
      "}\n",
      "提取结果: {'result': [{'type': '发起', 'content': '具你，为什么要我买？这是第一套。'}, {'type': '其它', 'content': ''}], 'compliance': '低'}\n"
     ]
    }
   ],
   "execution_count": 159
  },
  {
   "metadata": {
    "ExecuteTime": {
     "end_time": "2024-09-18T08:32:11.634896Z",
     "start_time": "2024-09-18T08:32:11.615403Z"
    }
   },
   "cell_type": "code",
   "source": "extract_json_using_patterns(text)",
   "id": "b614a8fcaf7020a8",
   "outputs": [
    {
     "name": "stdout",
     "output_type": "stream",
     "text": [
      "text: ```json\n",
      "{\n",
      "\"result\":\n",
      "[{\"type\":\"发起\",\"content\": \"具你，为什么要我买？这是第一套。\"},\n",
      "{\"type\":\"其它\",\"content\": \"\"}],\n",
      "\"compliance\": \"低\"\n",
      "}\n",
      "匹配到的 JSON: {\n",
      "\"result\":\n",
      "[{\"type\":\"发起\",\"content\": \"具你，为什么要我买？这是第一套。\"}\n",
      "JSON 解析失败: Expecting ',' delimiter: line 3 column 45 (char 56)\n",
      "未找到符合模式的 JSON 数据\n"
     ]
    },
    {
     "data": {
      "text/plain": [
       "{}"
      ]
     },
     "execution_count": 157,
     "metadata": {},
     "output_type": "execute_result"
    }
   ],
   "execution_count": 157
  },
  {
   "metadata": {
    "ExecuteTime": {
     "end_time": "2024-09-18T08:32:38.462578Z",
     "start_time": "2024-09-18T08:32:38.451559Z"
    }
   },
   "cell_type": "code",
   "source": [
    "{\n",
    "\"result\":\n",
    "[{\"type\":\"发起\",\"content\": \"具你，为什么要我买？这是第一套。\"},\n",
    "{\"type\":\"其它\",\"content\": \"\"}],\n",
    "\"compliance\": \"低\"\n",
    "}"
   ],
   "id": "7ed6de766cae453d",
   "outputs": [
    {
     "data": {
      "text/plain": [
       "{'result': [{'type': '发起', 'content': '具你，为什么要我买？这是第一套。'},\n",
       "  {'type': '其它', 'content': ''}],\n",
       " 'compliance': '低'}"
      ]
     },
     "execution_count": 158,
     "metadata": {},
     "output_type": "execute_result"
    }
   ],
   "execution_count": 158
  },
  {
   "metadata": {},
   "cell_type": "code",
   "outputs": [],
   "execution_count": null,
   "source": "",
   "id": "ffd1dbed4c5b65d5"
  }
 ],
 "metadata": {
  "kernelspec": {
   "display_name": "Python 3",
   "language": "python",
   "name": "python3"
  },
  "language_info": {
   "codemirror_mode": {
    "name": "ipython",
    "version": 2
   },
   "file_extension": ".py",
   "mimetype": "text/x-python",
   "name": "python",
   "nbconvert_exporter": "python",
   "pygments_lexer": "ipython2",
   "version": "2.7.6"
  }
 },
 "nbformat": 4,
 "nbformat_minor": 5
}
