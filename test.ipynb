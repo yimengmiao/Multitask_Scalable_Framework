{
 "cells": [
  {
   "metadata": {
    "ExecuteTime": {
     "end_time": "2024-09-18T08:35:19.763957Z",
     "start_time": "2024-09-18T08:35:19.743760Z"
    }
   },
   "cell_type": "code",
   "source": [
    "import re\n",
    "import json\n",
    "\n",
    "def extract_json_using_patterns(text):\n",
    "    \"\"\"使用一组正则表达式模式来提取 JSON\"\"\"\n",
    "    # 保留原始文本的换行符\n",
    "    text = text.strip()\n",
    "    print(\"text:\", text)\n",
    "    \n",
    "    patterns = [\n",
    "        r'\\{[\\s\\S]*\\}',  # 新的正则表达式模式，匹配第一个 '{' 和最后一个 '}' 之间的内容\n",
    "        # 保留其他原有模式\n",
    "        r'(\\{[\\s\\S]*?\\})\\s*\\}$',\n",
    "        r'\\{\\s*\"result\"\\s*:\\s*\\[[\\s\\S]*?\\]\\s*\\}',\n",
    "        r'\"\"\"json\\s*(\\{[\\s\\S]*?\\})\\s*\"\"\"',\n",
    "        r'```json\\s*(\\{[\\s\\S]*?\\})\\s*```',\n",
    "    ]\n",
    "\n",
    "    # 依次尝试使用每个正则表达式模式进行匹配\n",
    "    for pattern in patterns:\n",
    "        match = re.search(pattern, text, re.DOTALL)\n",
    "        if match:\n",
    "            # 检查正则表达式是否使用了捕获组\n",
    "            if match.lastindex:\n",
    "                json_str = match.group(1)  # 获取捕获组中的内容\n",
    "            else:\n",
    "                json_str = match.group(0)  # 获取整个匹配的内容\n",
    "            print(f\"匹配到的 JSON: {json_str}\")\n",
    "            try:\n",
    "                # 尝试将提取到的字符串解析为 JSON\n",
    "                result_data = json.loads(json_str)\n",
    "                return result_data\n",
    "            except json.JSONDecodeError as e:\n",
    "                # 如果 JSON 解析失败，继续尝试下一个模式\n",
    "                print(f\"JSON 解析失败: {e}\")\n",
    "                continue\n",
    "\n",
    "    # 如果没有找到匹配的 JSON 数据\n",
    "    print(\"未找到符合模式的 JSON 数据\")\n",
    "    return {}\n",
    "\n",
    "# 测试代码\n",
    "text = '''\n",
    "一些前置文本\n",
    "{\n",
    "    \"result\": [\n",
    "        {\"type\": \"发起\", \"content\": \"具你，为什么要我买？这是第一套。\"},\n",
    "        {\"type\": \"其它\", \"content\": \"\"}\n",
    "    ],\n",
    "    \"compliance\": \"低\"\n",
    "}\n",
    "一些后置文本\n",
    "'''\n",
    "\n",
    "result = extract_json_using_patterns(text)\n",
    "print(\"提取结果:\", result)\n"
   ],
   "id": "e554c740ac69f309",
   "outputs": [
    {
     "name": "stdout",
     "output_type": "stream",
     "text": [
      "text: 一些前置文本\n",
      "{\n",
      "    \"result\": [\n",
      "        {\"type\": \"发起\", \"content\": \"具你，为什么要我买？这是第一套。\"},\n",
      "        {\"type\": \"其它\", \"content\": \"\"}\n",
      "    ],\n",
      "    \"compliance\": \"低\"\n",
      "}\n",
      "一些后置文本\n",
      "匹配到的 JSON: {\n",
      "    \"result\": [\n",
      "        {\"type\": \"发起\", \"content\": \"具你，为什么要我买？这是第一套。\"},\n",
      "        {\"type\": \"其它\", \"content\": \"\"}\n",
      "    ],\n",
      "    \"compliance\": \"低\"\n",
      "}\n",
      "提取结果: {'result': [{'type': '发起', 'content': '具你，为什么要我买？这是第一套。'}, {'type': '其它', 'content': ''}], 'compliance': '低'}\n"
     ]
    }
   ],
   "execution_count": 159
  },
  {
   "metadata": {
    "ExecuteTime": {
     "end_time": "2024-09-18T08:32:11.634896Z",
     "start_time": "2024-09-18T08:32:11.615403Z"
    }
   },
   "cell_type": "code",
   "source": "extract_json_using_patterns(text)",
   "id": "b614a8fcaf7020a8",
   "outputs": [
    {
     "name": "stdout",
     "output_type": "stream",
     "text": [
      "text: ```json\n",
      "{\n",
      "\"result\":\n",
      "[{\"type\":\"发起\",\"content\": \"具你，为什么要我买？这是第一套。\"},\n",
      "{\"type\":\"其它\",\"content\": \"\"}],\n",
      "\"compliance\": \"低\"\n",
      "}\n",
      "匹配到的 JSON: {\n",
      "\"result\":\n",
      "[{\"type\":\"发起\",\"content\": \"具你，为什么要我买？这是第一套。\"}\n",
      "JSON 解析失败: Expecting ',' delimiter: line 3 column 45 (char 56)\n",
      "未找到符合模式的 JSON 数据\n"
     ]
    },
    {
     "data": {
      "text/plain": [
       "{}"
      ]
     },
     "execution_count": 157,
     "metadata": {},
     "output_type": "execute_result"
    }
   ],
   "execution_count": 157
  },
  {
   "metadata": {
    "ExecuteTime": {
     "end_time": "2024-09-18T08:32:38.462578Z",
     "start_time": "2024-09-18T08:32:38.451559Z"
    }
   },
   "cell_type": "code",
   "source": [
    "{\n",
    "\"result\":\n",
    "[{\"type\":\"发起\",\"content\": \"具你，为什么要我买？这是第一套。\"},\n",
    "{\"type\":\"其它\",\"content\": \"\"}],\n",
    "\"compliance\": \"低\"\n",
    "}"
   ],
   "id": "7ed6de766cae453d",
   "outputs": [
    {
     "data": {
      "text/plain": [
       "{'result': [{'type': '发起', 'content': '具你，为什么要我买？这是第一套。'},\n",
       "  {'type': '其它', 'content': ''}],\n",
       " 'compliance': '低'}"
      ]
     },
     "execution_count": 158,
     "metadata": {},
     "output_type": "execute_result"
    }
   ],
   "execution_count": 158
  },
  {
   "metadata": {
    "ExecuteTime": {
     "end_time": "2024-09-25T03:08:27.639252Z",
     "start_time": "2024-09-25T03:08:27.593642Z"
    }
   },
   "cell_type": "code",
   "source": [
    "import pandas as pd \n",
    "def parse_test_result(test_result):\n",
    "    \"\"\"解析模型返回的结果，提取 JSON\"\"\"\n",
    "    if test_result:\n",
    "        try:\n",
    "            result_data = json.loads(test_result)\n",
    "            \n",
    "            return result_data\n",
    "        except json.JSONDecodeError:\n",
    "            return extract_json_using_patterns(test_result)\n",
    "    else:\n",
    "        return {}\n",
    "def remove_punctuation(text):\n",
    "    # 中英文标点符号的正则表达式\n",
    "    punctuation_pattern = r'[，。！？、；：“”‘’（）《》【】…—]+' + r'[.,\\/#!$%\\^&\\*;:{}=\\-_`~()]'\n",
    "    # 使用正则表达式替换标点符号为空字符串\n",
    "    no_punctuation_text = re.sub(punctuation_pattern, '', text)\n",
    "    return no_punctuation_text\n",
    "\n",
    "output_result = [[{\"start_time\": 27300, \"end_time\": 32940, \"text\": \"具你，为什么要我买？这是第一套。\", \"label\": 0}, {\"start_time\": 35310, \"end_time\": 39510, \"text\": \"喂，你，吃你吃你狗，你，\", \"label\": 1}, {\"model_input\": \"\\n                “老师话语”：具你，为什么要我买？这是第一套。 \\n                “学生话语”：喂，你，吃你吃你狗，你，\\n                \"}, {\"soikit_test_result\": \"{\\n  \\\"result\\\": [\\n    {\\\"type\\\": \\\"发起\\\", \\\"content\\\": \\\"具你，为什么要我买？这是第一套。\\\"}\\n  ],\\n  \\\"compliance\\\": \\\"低\\\"\\n}\"}], [{\"start_time\": 40560, \"end_time\": 42710, \"text\": \"好，把语文书翻到第50页，\", \"label\": 0}, {\"start_time\": 40560, \"end_time\": 42710, \"text\": \"\", \"label\": 1}, {\"model_input\": \"“老师话语”：好，把语文书翻到第50页， \"}, {\"soikit_test_result\": \"{\\n  \\\"result\\\": [\\n    {\\\"type\\\": \\\"其它\\\", \\\"content\\\": \\\"好，把语文书翻到第50页，\\\"}\\n  ],\\n  \\\"compliance\\\": \\\"无\\\"\\n}\"}], [{\"start_time\": 45590, \"end_time\": 47190, \"text\": \"然后铅笔收起来把，\", \"label\": 0}, {\"start_time\": 47910, \"end_time\": 49590, \"text\": \"课堂练习放到左上角，\", \"label\": 1}, {\"model_input\": \"\\n                “老师话语”：然后铅笔收起来把， \\n                “学生话语”：课堂练习放到左上角，\\n                \"}, {\"soikit_test_result\": \"{\\n  \\\"result\\\": [\\n    {\\\"type\\\": \\\"其它\\\", \\\"content\\\": \\\"然后铅笔收起来吧\\\"}\\n  ],\\n  \\\"compliance\\\": \\\"无\\\"\\n}\"}], [{\"start_time\": 50070, \"end_time\": 52760, \"text\": \"先把语文书翻到翻到第50页，翻到这里，\", \"label\": 0}, {\"start_time\": 52780, \"end_time\": 52790, \"text\": \"没有，50。我现在这个阳猫世，\", \"label\": 1}, {\"model_input\": \"\\n                “老师话语”：先把语文书翻到翻到第50页，翻到这里， \\n                “学生话语”：没有，50。我现在这个阳猫世，\\n                \"}, {\"soikit_test_result\": \"{\\n  \\\"result\\\": [\\n    {\\\"type\\\": \\\"其它\\\", \\\"content\\\": \\\"先把语文书翻到翻到第50页，翻到这里，\\\"}\\n  ],\\n  \\\"compliance\\\": \\\"无\\\"\\n}\"}], [{\"start_time\": 53000, \"end_time\": 69880, \"text\": \"我看谁今天坐姿有问题啊啊，\", \"label\": 0}, {\"start_time\": 53000, \"end_time\": 69880, \"text\": \"\", \"label\": 1}, {\"model_input\": \"“老师话语”：我看谁今天坐姿有问题啊啊， \"}, {\"soikit_test_result\": \"{\\n\\\"result\\\": [\\n  {\\\"type\\\":\\\"发起\\\",\\\"content\\\":\\\"我看谁今天坐姿有问题啊啊，\\\"}\\n],\\n\\\"compliance\\\": \\\"无\\\"\\n}\"}]]\n",
    "model_name = \"soikit_test\"\n",
    "# def process_output_result(output_result, model_name):\n",
    "\"\"\"处理模型的输出结果，生成最终的 DataFrame\"\"\"\n",
    "result_list = []\n",
    "\n",
    "for sublist in output_result:\n",
    "    print(\"sub_list\",sublist)\n",
    "    test_result = None\n",
    "    if len(sublist) >= 4:\n",
    "        third_item = sublist[3]\n",
    "        test_result = next(iter(third_item.values()))\n",
    "    else:\n",
    "        test_result = None\n",
    "    \n",
    "    contents = parse_test_result(test_result)\n",
    "    print(\"contents\",contents)\n",
    "    new_sublist = []\n",
    "    if not contents:\n",
    "        for item in sublist:\n",
    "            print(\"item\",item)\n",
    "            if 'start_time' in item:\n",
    "                new_item = item.copy()\n",
    "                new_item[f'{model_name}_predict'] = '{}'\n",
    "                new_sublist.append(new_item)\n",
    "        result_list.append(new_sublist)\n",
    "        continue\n",
    "    for item in sublist:\n",
    "        if 'start_time' in item:\n",
    "            new_item = item.copy()\n",
    "\n",
    "            match_found = False\n",
    "            for content in contents[\"result\"]:\n",
    "                if content['content'] != \"\":\n",
    "                    if remove_punctuation(content['content']) in remove_punctuation(item['text']):\n",
    "                        new_item[f'{model_name}_predict'] = test_result\n",
    "                        match_found = True\n",
    "                        break\n",
    "            if not match_found:\n",
    "                new_item[f'{model_name}_predict'] = ''\n",
    "\n",
    "            new_sublist.append(new_item)\n",
    "    result_list.append(new_sublist)\n",
    "    # return df_result"
   ],
   "id": "ffd1dbed4c5b65d5",
   "outputs": [
    {
     "name": "stdout",
     "output_type": "stream",
     "text": [
      "sub_list [{'start_time': 27300, 'end_time': 32940, 'text': '具你，为什么要我买？这是第一套。', 'label': 0}, {'start_time': 35310, 'end_time': 39510, 'text': '喂，你，吃你吃你狗，你，', 'label': 1}, {'model_input': '\\n                “老师话语”：具你，为什么要我买？这是第一套。 \\n                “学生话语”：喂，你，吃你吃你狗，你，\\n                '}, {'soikit_test_result': '{\\n  \"result\": [\\n    {\"type\": \"发起\", \"content\": \"具你，为什么要我买？这是第一套。\"}\\n  ],\\n  \"compliance\": \"低\"\\n}'}]\n",
      "contents {'result': [{'type': '发起', 'content': '具你，为什么要我买？这是第一套。'}], 'compliance': '低'}\n",
      "sub_list [{'start_time': 40560, 'end_time': 42710, 'text': '好，把语文书翻到第50页，', 'label': 0}, {'start_time': 40560, 'end_time': 42710, 'text': '', 'label': 1}, {'model_input': '“老师话语”：好，把语文书翻到第50页， '}, {'soikit_test_result': '{\\n  \"result\": [\\n    {\"type\": \"其它\", \"content\": \"好，把语文书翻到第50页，\"}\\n  ],\\n  \"compliance\": \"无\"\\n}'}]\n",
      "contents {'result': [{'type': '其它', 'content': '好，把语文书翻到第50页，'}], 'compliance': '无'}\n",
      "sub_list [{'start_time': 45590, 'end_time': 47190, 'text': '然后铅笔收起来把，', 'label': 0}, {'start_time': 47910, 'end_time': 49590, 'text': '课堂练习放到左上角，', 'label': 1}, {'model_input': '\\n                “老师话语”：然后铅笔收起来把， \\n                “学生话语”：课堂练习放到左上角，\\n                '}, {'soikit_test_result': '{\\n  \"result\": [\\n    {\"type\": \"其它\", \"content\": \"然后铅笔收起来吧\"}\\n  ],\\n  \"compliance\": \"无\"\\n}'}]\n",
      "contents {'result': [{'type': '其它', 'content': '然后铅笔收起来吧'}], 'compliance': '无'}\n",
      "sub_list [{'start_time': 50070, 'end_time': 52760, 'text': '先把语文书翻到翻到第50页，翻到这里，', 'label': 0}, {'start_time': 52780, 'end_time': 52790, 'text': '没有，50。我现在这个阳猫世，', 'label': 1}, {'model_input': '\\n                “老师话语”：先把语文书翻到翻到第50页，翻到这里， \\n                “学生话语”：没有，50。我现在这个阳猫世，\\n                '}, {'soikit_test_result': '{\\n  \"result\": [\\n    {\"type\": \"其它\", \"content\": \"先把语文书翻到翻到第50页，翻到这里，\"}\\n  ],\\n  \"compliance\": \"无\"\\n}'}]\n",
      "contents {'result': [{'type': '其它', 'content': '先把语文书翻到翻到第50页，翻到这里，'}], 'compliance': '无'}\n",
      "sub_list [{'start_time': 53000, 'end_time': 69880, 'text': '我看谁今天坐姿有问题啊啊，', 'label': 0}, {'start_time': 53000, 'end_time': 69880, 'text': '', 'label': 1}, {'model_input': '“老师话语”：我看谁今天坐姿有问题啊啊， '}, {'soikit_test_result': '{\\n\"result\": [\\n  {\"type\":\"发起\",\"content\":\"我看谁今天坐姿有问题啊啊，\"}\\n],\\n\"compliance\": \"无\"\\n}'}]\n",
      "contents {'result': [{'type': '发起', 'content': '我看谁今天坐姿有问题啊啊，'}], 'compliance': '无'}\n"
     ]
    }
   ],
   "execution_count": 176
  },
  {
   "metadata": {
    "ExecuteTime": {
     "end_time": "2024-09-25T02:38:27.030503Z",
     "start_time": "2024-09-25T02:38:27.016825Z"
    }
   },
   "cell_type": "code",
   "source": [
    "sub_list  = [{'start_time': 27300, 'end_time': 32940, 'text': '具你，为什么要我买？这是第一套。', 'label': 0}, {'start_time': 35310, 'end_time': 39510, 'text': '喂，你，吃你吃你狗，你，', 'label': 1}, {'model_input': '\\n                “老师话语”：具你，为什么要我买？这是第一套。 \\n                “学生话语”：喂，你，吃你吃你狗，你，\\n                '}, {'soikit_test_result': '{\\n  \"result\": [\\n    {\"type\": \"发起\", \"content\": \"具你，为什么要我买？这是第一套。\"}\\n  ],\\n  \"compliance\": \"低\"\\n}'}]\n",
    "sub_list[0]"
   ],
   "id": "eb8a9bdd0a3173e2",
   "outputs": [
    {
     "data": {
      "text/plain": [
       "{'start_time': 27300,\n",
       " 'end_time': 32940,\n",
       " 'text': '具你，为什么要我买？这是第一套。',\n",
       " 'label': 0}"
      ]
     },
     "execution_count": 174,
     "metadata": {},
     "output_type": "execute_result"
    }
   ],
   "execution_count": 174
  },
  {
   "metadata": {},
   "cell_type": "code",
   "outputs": [],
   "execution_count": null,
   "source": [
    "if \"start_time\" in sub_list[0]:\n",
    "    print(1)"
   ],
   "id": "d9cd0f0aaaeced08"
  },
  {
   "metadata": {},
   "cell_type": "code",
   "outputs": [],
   "execution_count": null,
   "source": [
    "    \n",
    "\n",
    "\n",
    "    for item in sublist:\n",
    "        if 'start_time' in item:\n",
    "            new_item = item.copy()\n",
    "\n",
    "            match_found = False\n",
    "            for content in contents[\"result\"]:\n",
    "                if content['content'] != \"\":\n",
    "                    if content['content'] in item['text']:\n",
    "                        new_item[f'{model_name}_predict'] = test_result\n",
    "                        match_found = True\n",
    "                        break\n",
    "            if not match_found:\n",
    "                new_item[f'{model_name}_predict'] = ''\n",
    "\n",
    "            new_sublist.append(new_item)\n",
    "    result_list.append(new_sublist)\n",
    "\n",
    "flat_list = [item for sublist in result_list for item in sublist]\n",
    "df_result = pd.DataFrame(flat_list)"
   ],
   "id": "1e64492ff120da3a"
  },
  {
   "metadata": {},
   "cell_type": "code",
   "outputs": [],
   "execution_count": null,
   "source": "",
   "id": "a9370db95f1ed0a2"
  },
  {
   "metadata": {
    "ExecuteTime": {
     "end_time": "2024-09-26T02:34:24.291163Z",
     "start_time": "2024-09-26T02:34:24.273865Z"
    }
   },
   "cell_type": "code",
   "source": "\"\\n\".join(['发起：老师发起提问1老师讲解内容1老师发起提问2\\n回应：学生回答1', '讲解：老师讲解内容2\\n讲解：老师讲解内容3\\n发起：老师发起提问3老师发起提问4\\n回应：学生回答2\\n讲解：老师讲解内容4\\n讲解：老师讲解内容5'])\n",
   "id": "6ac9177e73cdd8ab",
   "outputs": [
    {
     "data": {
      "text/plain": [
       "'发起：老师发起提问1老师讲解内容1老师发起提问2\\n回应：学生回答1\\n讲解：老师讲解内容2\\n讲解：老师讲解内容3\\n发起：老师发起提问3老师发起提问4\\n回应：学生回答2\\n讲解：老师讲解内容4\\n讲解：老师讲解内容5'"
      ]
     },
     "execution_count": 189,
     "metadata": {},
     "output_type": "execute_result"
    }
   ],
   "execution_count": 189
  },
  {
   "metadata": {
    "ExecuteTime": {
     "end_time": "2024-09-26T02:34:24.819499Z",
     "start_time": "2024-09-26T02:34:24.804403Z"
    }
   },
   "cell_type": "code",
   "source": "# 根据讲解分割点来构造主题提取prompt的输入文本",
   "id": "a66cffa2430fde8c",
   "outputs": [],
   "execution_count": 190
  },
  {
   "metadata": {
    "ExecuteTime": {
     "end_time": "2024-09-26T03:10:03.626698Z",
     "start_time": "2024-09-26T03:10:03.608489Z"
    }
   },
   "cell_type": "code",
   "source": "input1 = '发起：老师发起提问1老师讲解内容1老师发起提问2\\n回应：学生回答1\\n讲解：老师讲解内容2\\n讲解：老师讲解内容3\\n发起：老师发起提问3老师发起提问4\\n回应：学生回答2\\n讲解：老师讲解内容4\\n讲解：老师讲解内容5\\n发起：老师发起提问1老师讲解内容1老师发起提问2\\n回应：学生回答1\\n讲解：老师讲解内容2\\n讲解：老师讲解内容3\\n发起：老师发起提问3老师发起提问4\\n回应：学生回答2\\n讲解：老师讲解内容4\\n讲解：老师讲解内容5'",
   "id": "c89e404f1aa2ccc7",
   "outputs": [],
   "execution_count": 215
  },
  {
   "metadata": {
    "ExecuteTime": {
     "end_time": "2024-09-26T03:10:03.939639Z",
     "start_time": "2024-09-26T03:10:03.927090Z"
    }
   },
   "cell_type": "code",
   "source": [
    "input1_list = input1.split(\"\\n\")\n",
    "input1_list"
   ],
   "id": "215c9e4c775094d0",
   "outputs": [
    {
     "data": {
      "text/plain": [
       "['发起：老师发起提问1老师讲解内容1老师发起提问2',\n",
       " '回应：学生回答1',\n",
       " '讲解：老师讲解内容2',\n",
       " '讲解：老师讲解内容3',\n",
       " '发起：老师发起提问3老师发起提问4',\n",
       " '回应：学生回答2',\n",
       " '讲解：老师讲解内容4',\n",
       " '讲解：老师讲解内容5',\n",
       " '发起：老师发起提问1老师讲解内容1老师发起提问2',\n",
       " '回应：学生回答1',\n",
       " '讲解：老师讲解内容2',\n",
       " '讲解：老师讲解内容3',\n",
       " '发起：老师发起提问3老师发起提问4',\n",
       " '回应：学生回答2',\n",
       " '讲解：老师讲解内容4',\n",
       " '讲解：老师讲解内容5']"
      ]
     },
     "execution_count": 216,
     "metadata": {},
     "output_type": "execute_result"
    }
   ],
   "execution_count": 216
  },
  {
   "metadata": {
    "ExecuteTime": {
     "end_time": "2024-09-26T03:10:04.346017Z",
     "start_time": "2024-09-26T03:10:04.330269Z"
    }
   },
   "cell_type": "code",
   "source": [
    "splitpoint = {\n",
    "  \"breakpoint\": [\n",
    "    \"讲解:老师讲解内容2\",\n",
    "    \"讲解:老师讲解内容3\",\n",
    "    '讲解：老师讲解内容3',\n",
    "  ]\n",
    "}"
   ],
   "id": "fa0759b4501ee840",
   "outputs": [],
   "execution_count": 217
  },
  {
   "metadata": {
    "ExecuteTime": {
     "end_time": "2024-09-26T03:10:17.351903Z",
     "start_time": "2024-09-26T03:10:17.336420Z"
    }
   },
   "cell_type": "code",
   "source": "splitpoint.get(\"breakpoint\")",
   "id": "a8e13476fe7cd8b1",
   "outputs": [
    {
     "data": {
      "text/plain": [
       "['讲解:老师讲解内容2', '讲解:老师讲解内容3', '讲解：老师讲解内容3']"
      ]
     },
     "execution_count": 218,
     "metadata": {},
     "output_type": "execute_result"
    }
   ],
   "execution_count": 218
  },
  {
   "metadata": {
    "ExecuteTime": {
     "end_time": "2024-09-26T03:10:19.443068Z",
     "start_time": "2024-09-26T03:10:19.430546Z"
    }
   },
   "cell_type": "code",
   "source": "#找到['讲解:老师讲解内容2', '讲解:老师讲解内容3']中值在输入中的索引，并对这个输入进行切割 ",
   "id": "85908c7ebde3e332",
   "outputs": [],
   "execution_count": 219
  },
  {
   "metadata": {
    "ExecuteTime": {
     "end_time": "2024-09-26T03:10:20.036344Z",
     "start_time": "2024-09-26T03:10:20.030819Z"
    }
   },
   "cell_type": "code",
   "source": [
    "import string\n",
    "\n",
    "def remove_punctuation(text):\n",
    "    # 定义中英文标点符号\n",
    "    punctuation = string.punctuation + '，。；：“”‘’？！《》、'\n",
    "    # 使用正则表达式去除标点\n",
    "    text = re.sub(f\"[{re.escape(punctuation)}]\", '', text)\n",
    "    return text\n"
   ],
   "id": "8aa6011103cd2579",
   "outputs": [],
   "execution_count": 220
  },
  {
   "metadata": {
    "ExecuteTime": {
     "end_time": "2024-09-26T03:10:22.379743Z",
     "start_time": "2024-09-26T03:10:22.367210Z"
    }
   },
   "cell_type": "code",
   "source": [
    "list1 = []\n",
    "\n",
    "for i, item in enumerate(input1_list):\n",
    "    for item2 in splitpoint.get(\"breakpoint\"):\n",
    "        \n",
    "        if remove_punctuation(item) == remove_punctuation(item2):\n",
    "            list1.append(i)"
   ],
   "id": "f6568d5c8ba01290",
   "outputs": [],
   "execution_count": 221
  },
  {
   "metadata": {},
   "cell_type": "code",
   "outputs": [],
   "execution_count": null,
   "source": "",
   "id": "2254ba90fe77fb4a"
  },
  {
   "metadata": {
    "ExecuteTime": {
     "end_time": "2024-09-26T03:25:41.239621Z",
     "start_time": "2024-09-26T03:25:41.227108Z"
    }
   },
   "cell_type": "code",
   "source": "list1",
   "id": "16cdddc4f3640c7d",
   "outputs": [
    {
     "data": {
      "text/plain": [
       "[2, 3, 3, 10, 11, 11]"
      ]
     },
     "execution_count": 231,
     "metadata": {},
     "output_type": "execute_result"
    }
   ],
   "execution_count": 231
  },
  {
   "metadata": {
    "ExecuteTime": {
     "end_time": "2024-09-26T03:25:49.216005Z",
     "start_time": "2024-09-26T03:25:49.202463Z"
    }
   },
   "cell_type": "code",
   "source": [
    "# 列表去重\n",
    "def method_dict(lst):\n",
    "    unique_lst = list(dict.fromkeys(lst))\n",
    "    return unique_lst\n",
    "method_dict(list1)"
   ],
   "id": "e85d026019eabdba",
   "outputs": [
    {
     "data": {
      "text/plain": [
       "[2, 3, 10, 11]"
      ]
     },
     "execution_count": 232,
     "metadata": {},
     "output_type": "execute_result"
    }
   ],
   "execution_count": 232
  },
  {
   "metadata": {
    "ExecuteTime": {
     "end_time": "2024-09-26T03:26:20.637785Z",
     "start_time": "2024-09-26T03:26:20.618739Z"
    }
   },
   "cell_type": "code",
   "source": "",
   "id": "bbaac3a25c879366",
   "outputs": [
    {
     "data": {
      "text/plain": [
       "[10, 11, 2, 3]"
      ]
     },
     "execution_count": 234,
     "metadata": {},
     "output_type": "execute_result"
    }
   ],
   "execution_count": 234
  },
  {
   "metadata": {
    "ExecuteTime": {
     "end_time": "2024-09-26T02:51:14.785959Z",
     "start_time": "2024-09-26T02:51:14.771450Z"
    }
   },
   "cell_type": "code",
   "source": "[0,2,3,10,11]",
   "id": "1d9c19b228e72500",
   "outputs": [],
   "execution_count": 208
  },
  {
   "metadata": {
    "ExecuteTime": {
     "end_time": "2024-09-26T03:11:10.263688Z",
     "start_time": "2024-09-26T03:11:10.249604Z"
    }
   },
   "cell_type": "code",
   "source": "[0,2,10]",
   "id": "5478f0704a3d242",
   "outputs": [
    {
     "data": {
      "text/plain": [
       "[0, 2, 10]"
      ]
     },
     "execution_count": 223,
     "metadata": {},
     "output_type": "execute_result"
    }
   ],
   "execution_count": 223
  },
  {
   "metadata": {
    "ExecuteTime": {
     "end_time": "2024-09-26T03:11:53.973684Z",
     "start_time": "2024-09-26T03:11:53.957645Z"
    }
   },
   "cell_type": "code",
   "source": [
    "first_piece = input1_list[0:2]\n",
    "first_piece"
   ],
   "id": "fb1bfd4036a75423",
   "outputs": [
    {
     "data": {
      "text/plain": [
       "['发起：老师发起提问1老师讲解内容1老师发起提问2', '回应：学生回答1']"
      ]
     },
     "execution_count": 226,
     "metadata": {},
     "output_type": "execute_result"
    }
   ],
   "execution_count": 226
  },
  {
   "metadata": {},
   "cell_type": "code",
   "outputs": [],
   "execution_count": null,
   "source": "",
   "id": "3cca02e298c43ed9"
  },
  {
   "metadata": {
    "ExecuteTime": {
     "end_time": "2024-09-26T03:12:16.096325Z",
     "start_time": "2024-09-26T03:12:16.080259Z"
    }
   },
   "cell_type": "code",
   "source": [
    "second_piece = input1_list[2:10]\n",
    "second_piece"
   ],
   "id": "b8baccff4dc382e3",
   "outputs": [
    {
     "data": {
      "text/plain": [
       "['讲解：老师讲解内容2',\n",
       " '讲解：老师讲解内容3',\n",
       " '发起：老师发起提问3老师发起提问4',\n",
       " '回应：学生回答2',\n",
       " '讲解：老师讲解内容4',\n",
       " '讲解：老师讲解内容5',\n",
       " '发起：老师发起提问1老师讲解内容1老师发起提问2',\n",
       " '回应：学生回答1']"
      ]
     },
     "execution_count": 228,
     "metadata": {},
     "output_type": "execute_result"
    }
   ],
   "execution_count": 228
  },
  {
   "metadata": {
    "ExecuteTime": {
     "end_time": "2024-09-26T03:12:41.314188Z",
     "start_time": "2024-09-26T03:12:41.298673Z"
    }
   },
   "cell_type": "code",
   "source": [
    "third_piece = input1_list[10:]\n",
    "third_piece"
   ],
   "id": "dd31e723cfa09138",
   "outputs": [
    {
     "data": {
      "text/plain": [
       "['讲解：老师讲解内容2',\n",
       " '讲解：老师讲解内容3',\n",
       " '发起：老师发起提问3老师发起提问4',\n",
       " '回应：学生回答2',\n",
       " '讲解：老师讲解内容4',\n",
       " '讲解：老师讲解内容5']"
      ]
     },
     "execution_count": 229,
     "metadata": {},
     "output_type": "execute_result"
    }
   ],
   "execution_count": 229
  },
  {
   "metadata": {
    "ExecuteTime": {
     "end_time": "2024-09-26T02:51:20.264585Z",
     "start_time": "2024-09-26T02:51:20.250066Z"
    }
   },
   "cell_type": "code",
   "source": "remove_punctuation(\"讲解:老师讲解内容3\")",
   "id": "51fb332a23bdc263",
   "outputs": [
    {
     "data": {
      "text/plain": [
       "'讲解老师讲解内容3'"
      ]
     },
     "execution_count": 209,
     "metadata": {},
     "output_type": "execute_result"
    }
   ],
   "execution_count": 209
  },
  {
   "metadata": {},
   "cell_type": "code",
   "outputs": [],
   "execution_count": null,
   "source": "# 如果没有分割点，则要将原始文本按照“发起”作为切割 点，将原始文本分割多个师生对话序列。",
   "id": "8a5478e026f2bde2"
  },
  {
   "metadata": {
    "ExecuteTime": {
     "end_time": "2024-09-26T06:26:46.102467Z",
     "start_time": "2024-09-26T06:26:46.088953Z"
    }
   },
   "cell_type": "code",
   "source": [
    "import re\n",
    "\n",
    "# 定义函数来去除中英文标点符号\n",
    "def remove_punctuation(text):\n",
    "    return re.sub(r'[^\\w\\s]', '', text)\n",
    "\n",
    "# 1. 将prompt2的输入文本按照\\n进行分割\n",
    "prompt2_input = \"\"\"发起：老师发起提问1老师讲解内容1老师发起提问2\\n回应：学生回答1\\n讲解：老师讲解内容2\\n讲解：老师讲解内容3\\n发起：老师发起提问3老师发起提问4\\n回应：学生回答2\\n讲解：老师讲解内容4\\n讲解：老师讲解内容5\"\"\"\n",
    "input1_list = prompt2_input.split('\\n')\n",
    "\n",
    "input1_list"
   ],
   "id": "5d2785f4fe2f0bb5",
   "outputs": [
    {
     "data": {
      "text/plain": [
       "['发起：老师发起提问1老师讲解内容1老师发起提问2',\n",
       " '回应：学生回答1',\n",
       " '讲解：老师讲解内容2',\n",
       " '讲解：老师讲解内容3',\n",
       " '发起：老师发起提问3老师发起提问4',\n",
       " '回应：学生回答2',\n",
       " '讲解：老师讲解内容4',\n",
       " '讲解：老师讲解内容5']"
      ]
     },
     "execution_count": 250,
     "metadata": {},
     "output_type": "execute_result"
    }
   ],
   "execution_count": 250
  },
  {
   "metadata": {
    "ExecuteTime": {
     "end_time": "2024-09-26T06:38:19.756601Z",
     "start_time": "2024-09-26T06:38:19.743559Z"
    }
   },
   "cell_type": "code",
   "source": [
    "# 2. 定义breakpoint列表，寻找索引\n",
    "breakpoint = [\"讲解：老师讲解内容2\", \"讲解：老师讲解内容3\"]\n",
    "list1 = []\n",
    "\n",
    "for i, item in enumerate(input1_list):\n",
    "    for item2 in breakpoint:\n",
    "        # 去除中英文标点符号后再匹配\n",
    "        if remove_punctuation(item.strip()) == remove_punctuation(item2.strip()):\n",
    "            list1.append(i)\n",
    "list1"
   ],
   "id": "b81e3d2acffa20a8",
   "outputs": [
    {
     "data": {
      "text/plain": [
       "[2, 3]"
      ]
     },
     "execution_count": 268,
     "metadata": {},
     "output_type": "execute_result"
    }
   ],
   "execution_count": 268
  },
  {
   "metadata": {
    "ExecuteTime": {
     "end_time": "2024-09-26T06:38:29.069599Z",
     "start_time": "2024-09-26T06:38:29.052063Z"
    }
   },
   "cell_type": "code",
   "source": [
    "def filter_consecutive(lst):\n",
    "    if not lst:\n",
    "        return []\n",
    "\n",
    "    # 初始化结果列表\n",
    "    result = [lst[0]]\n",
    "    \n",
    "    # 遍历列表，检查是否连续\n",
    "    for i in range(1, len(lst)):\n",
    "        if lst[i] != lst[i - 1] + 1:\n",
    "            result.append(lst[i])\n",
    "\n",
    "    return result\n",
    "\n",
    "# 测试代码\n",
    "print(filter_consecutive([2]))          # 输出: [2, 10]\n",
    "print(filter_consecutive([2,10,11]))            # 输出: [2, 10]\n",
    "print(filter_consecutive([2,3,10]))             # 输出: [2, 10]\n",
    "print(filter_consecutive([2,3,10,11,15]))       # 输出: [2, 10, 15]\n",
    "print(filter_consecutive([2,3,5,10,11,12,13,14,15,17])) # 输出: [2, 10, 15]\n",
    "\n"
   ],
   "id": "f11ab183a0817f80",
   "outputs": [
    {
     "name": "stdout",
     "output_type": "stream",
     "text": [
      "[2]\n",
      "[2, 10]\n",
      "[2, 10]\n",
      "[2, 10, 15]\n",
      "[2, 5, 10, 17]\n"
     ]
    }
   ],
   "execution_count": 270
  },
  {
   "metadata": {
    "ExecuteTime": {
     "end_time": "2024-09-26T06:38:31.731657Z",
     "start_time": "2024-09-26T06:38:31.720875Z"
    }
   },
   "cell_type": "code",
   "source": [
    "# 3. 对索引列表list1去重\n",
    "def method_dict(lst):\n",
    "    return list(dict.fromkeys(lst))\n",
    "\n",
    "list1 = method_dict(list1)\n",
    "\n",
    "# 4. 处理相邻索引，保留较小的索引生成新的\n",
    "def filter_consecutive(lst):\n",
    "    if not lst:\n",
    "        return []\n",
    "\n",
    "    # 初始化结果列表\n",
    "    result = [lst[0]]\n",
    "    \n",
    "    # 遍历列表，检查是否连续\n",
    "    for i in range(1, len(lst)):\n",
    "        if lst[i] != lst[i - 1] + 1:\n",
    "            result.append(lst[i])\n",
    "\n",
    "    return result\n",
    "# 索引列表list2\n",
    "list2 = filter_consecutive(list1)\n",
    "list2"
   ],
   "id": "29c8b9cfe4aaf99e",
   "outputs": [
    {
     "data": {
      "text/plain": [
       "[2]"
      ]
     },
     "execution_count": 271,
     "metadata": {},
     "output_type": "execute_result"
    }
   ],
   "execution_count": 271
  },
  {
   "metadata": {
    "ExecuteTime": {
     "end_time": "2024-09-26T06:44:39.969244Z",
     "start_time": "2024-09-26T06:44:39.950151Z"
    }
   },
   "cell_type": "code",
   "source": [
    "\n",
    "\n",
    "list2 = [2]\n",
    "\n",
    "# 5. 根据list2中的索引切分input1_list\n",
    "pieces = []\n",
    "if list2:\n",
    "    # 第一段从开始到第一个list2的索引\n",
    "    pieces.append(input1_list[0:list2[0]])\n",
    "    # 中间段落\n",
    "    for i in range(len(list2) - 1):\n",
    "        pieces.append(input1_list[list2[i]:list2[i+1]])\n",
    "    # 最后一段\n",
    "    pieces.append(input1_list[list2[-1]:])\n",
    "else:\n",
    "    # 如果list2为空，则不进行切分，直接使用整个input1_list\n",
    "    pieces.append(input1_list)\n",
    "pieces"
   ],
   "id": "33931da246f88773",
   "outputs": [
    {
     "data": {
      "text/plain": [
       "[['发起：老师发起提问1老师讲解内容1老师发起提问2', '回应：学生回答1'],\n",
       " ['讲解：老师讲解内容2',\n",
       "  '讲解：老师讲解内容3',\n",
       "  '发起：老师发起提问3老师发起提问4',\n",
       "  '回应：学生回答2',\n",
       "  '讲解：老师讲解内容4',\n",
       "  '讲解：老师讲解内容5']]"
      ]
     },
     "execution_count": 277,
     "metadata": {},
     "output_type": "execute_result"
    }
   ],
   "execution_count": 277
  },
  {
   "metadata": {
    "ExecuteTime": {
     "end_time": "2024-09-26T06:45:06.767036Z",
     "start_time": "2024-09-26T06:45:06.755409Z"
    }
   },
   "cell_type": "code",
   "source": [
    "\n",
    "# 6. 合并子列表中的相邻讲解内容\n",
    "def merge_explanations(piece):\n",
    "    new_piece = []\n",
    "    merged = \"\"\n",
    "    for item in piece:\n",
    "        if item.startswith(\"讲解：\"):\n",
    "            merged += item.replace(\"讲解：\", \"\") + \",\"\n",
    "        else:\n",
    "            if merged:\n",
    "                new_piece.append(\"讲解：\" + merged[:-1])  # 去掉最后一个逗号\n",
    "                merged = \"\"\n",
    "            new_piece.append(item)\n",
    "    if merged:\n",
    "        new_piece.append(\"讲解：\" + merged[:-1])\n",
    "    return new_piece\n",
    "\n",
    "# 对每个piece进行相邻讲解内容的合并\n",
    "merged_pieces = [merge_explanations(piece) for piece in pieces]\n",
    "merged_pieces"
   ],
   "id": "e7abbe7dc7665254",
   "outputs": [
    {
     "data": {
      "text/plain": [
       "[['发起：老师发起提问1老师讲解内容1老师发起提问2', '回应：学生回答1'],\n",
       " ['讲解：老师讲解内容2,老师讲解内容3', '发起：老师发起提问3老师发起提问4', '回应：学生回答2', '讲解：老师讲解内容4,老师讲解内容5']]"
      ]
     },
     "execution_count": 278,
     "metadata": {},
     "output_type": "execute_result"
    }
   ],
   "execution_count": 278
  },
  {
   "metadata": {
    "ExecuteTime": {
     "end_time": "2024-09-26T06:52:05.778279Z",
     "start_time": "2024-09-26T06:52:05.771772Z"
    }
   },
   "cell_type": "code",
   "source": [
    "\n",
    "# 7. 分割合并后的子列表\n",
    "list_all = []\n",
    "\n",
    "def split_by_initiate(list_all):\n",
    "    segments = []\n",
    "    current_segment = []\n",
    "\n",
    "    for item in list_all:\n",
    "        if item.startswith('发起：'):\n",
    "            if current_segment:  # 如果当前段落不为空，则保存之前的段落\n",
    "                segments.append(current_segment)\n",
    "                current_segment = []  # 重置当前段落\n",
    "        current_segment.append(item)  # 将当前项添加到当前段落\n",
    "\n",
    "    # 处理最后一个段落\n",
    "    if current_segment:\n",
    "        segments.append(current_segment)\n",
    "    #  segments 中第一个子列表的开头是否是“讲解：”，如果是，则将第二个子列表的内容添加到第一个子列表后面。\n",
    "    if segments[0][0].startswith('讲解：'):\n",
    "    # 将第二个子列表的内容扩展到第一个子列表后面\n",
    "        segments[0].extend(segments[1])\n",
    "        segments.pop(1)\n",
    "    return segments\n",
    "\n",
    "# 检查breakpoint是否为空\n",
    "if not breakpoint:\n",
    "    # 如果为空，直接分割input1_list\n",
    "    list_all.extend(split_by_initiate(input1_list))\n",
    "else:\n",
    "    for merged_piece in merged_pieces:\n",
    "        list_all.extend(split_by_initiate(merged_piece))\n",
    "list_all\n"
   ],
   "id": "3710282a52128ec6",
   "outputs": [
    {
     "data": {
      "text/plain": [
       "[['发起：老师发起提问1老师讲解内容1老师发起提问2', '回应：学生回答1'],\n",
       " ['讲解：老师讲解内容2,老师讲解内容3', '发起：老师发起提问3老师发起提问4', '回应：学生回答2', '讲解：老师讲解内容4,老师讲解内容5']]"
      ]
     },
     "execution_count": 285,
     "metadata": {},
     "output_type": "execute_result"
    }
   ],
   "execution_count": 285
  },
  {
   "metadata": {
    "ExecuteTime": {
     "end_time": "2024-09-26T06:53:34.953989Z",
     "start_time": "2024-09-26T06:53:34.940467Z"
    }
   },
   "cell_type": "code",
   "source": [
    "# 8. 拼成prompt3的输入文本\n",
    "prompt3_input = \"\"\n",
    "for idx, segment in enumerate(list_all, start=1):\n",
    "    prompt3_input += f\"师生对话{idx}\\n\" + \"\\n\".join(segment) + \"\\n\\n\"\n",
    "\n",
    "# 输出结果\n",
    "print(prompt3_input.strip())"
   ],
   "id": "33a096ea341ac414",
   "outputs": [
    {
     "name": "stdout",
     "output_type": "stream",
     "text": [
      "<class 'str'>\n"
     ]
    }
   ],
   "execution_count": 288
  },
  {
   "metadata": {
    "ExecuteTime": {
     "end_time": "2024-09-26T06:51:43.856667Z",
     "start_time": "2024-09-26T06:51:43.843070Z"
    }
   },
   "cell_type": "code",
   "source": [
    "def split_by_initiate(list_all):\n",
    "    segments = []\n",
    "    current_segment = []\n",
    "\n",
    "    for item in list_all:\n",
    "        if item.startswith('发起：'):\n",
    "            if current_segment:  # 如果当前段落不为空，则保存之前的段落\n",
    "                segments.append(current_segment)\n",
    "                current_segment = []  # 重置当前段落\n",
    "        current_segment.append(item)  # 将当前项添加到当前段落\n",
    "\n",
    "    # 处理最后一个段落\n",
    "    if current_segment:\n",
    "        segments.append(current_segment)\n",
    "    #  segments 中第一个子列表的开头是否是“讲解：”，如果是，则将第二个子列表的内容添加到第一个子列表后面。\n",
    "    if segments[0][0].startswith('讲解：'):\n",
    "    # 将第二个子列表的内容扩展到第一个子列表后面\n",
    "        segments[0].extend(segments[1])\n",
    "        segments.pop(1)\n",
    "    return segments\n",
    "\n",
    "# 测试输入\n",
    "list_all = [\n",
    "    \n",
    "    '发起：老师发起提问3老师发起提问4',\n",
    "    '回应：学生回答2',\n",
    "    '发起：老师发起提问1老师讲解内容1老师发起提问2',\n",
    "    '回应：学生回答1'\n",
    "]\n",
    "\n",
    "# 调用函数并打印结果\n",
    "output = split_by_initiate(list_all)\n",
    "output \n",
    "# for i, segment in enumerate(output, 1):\n",
    "#     print(f\"段落 {i}:\")\n",
    "#     print(\"\\n\".join(segment))\n",
    "#     print()  # 添加空行分隔段落\n",
    "\n"
   ],
   "id": "d249158113c5db5e",
   "outputs": [
    {
     "data": {
      "text/plain": [
       "[['发起：老师发起提问3老师发起提问4', '回应：学生回答2'], ['发起：老师发起提问1老师讲解内容1老师发起提问2', '回应：学生回答1']]"
      ]
     },
     "execution_count": 284,
     "metadata": {},
     "output_type": "execute_result"
    }
   ],
   "execution_count": 284
  },
  {
   "metadata": {
    "ExecuteTime": {
     "end_time": "2024-09-26T06:49:48.144617Z",
     "start_time": "2024-09-26T06:49:48.133033Z"
    }
   },
   "cell_type": "code",
   "source": [
    "list2 = output \n",
    "\n",
    "# 检查第一个子列表的文本开头\n",
    "if list2[0][0].startswith('讲解：'):\n",
    "    # 将第二个子列表的内容扩展到第一个子列表后面\n",
    "    list2[0].extend(list2[1])\n",
    "    list2.pop(1)\n",
    "\n",
    "# 打印结果\n",
    "print(list2)\n"
   ],
   "id": "882c60a2b9d8862d",
   "outputs": [
    {
     "name": "stdout",
     "output_type": "stream",
     "text": [
      "[['讲解：在dfdf 发起：老师发起提问3老师发起提问4', '回应：学生回答2', '发起：老师发起提问1老师讲解内容1老师发起提问2', '回应：学生回答1']]\n"
     ]
    }
   ],
   "execution_count": 282
  },
  {
   "metadata": {},
   "cell_type": "code",
   "outputs": [],
   "execution_count": null,
   "source": "",
   "id": "28e7ad322c2faee"
  }
 ],
 "metadata": {
  "kernelspec": {
   "display_name": "Python 3",
   "language": "python",
   "name": "python3"
  },
  "language_info": {
   "codemirror_mode": {
    "name": "ipython",
    "version": 2
   },
   "file_extension": ".py",
   "mimetype": "text/x-python",
   "name": "python",
   "nbconvert_exporter": "python",
   "pygments_lexer": "ipython2",
   "version": "2.7.6"
  }
 },
 "nbformat": 4,
 "nbformat_minor": 5
}
