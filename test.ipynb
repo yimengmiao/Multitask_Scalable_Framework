{
 "cells": [
  {
   "metadata": {
    "ExecuteTime": {
     "end_time": "2024-09-02T09:40:50.134946Z",
     "start_time": "2024-09-02T09:38:31.183630Z"
    }
   },
   "cell_type": "code",
   "source": [
    "from tqdm import tqdm\n",
    "import logging\n",
    "\n",
    "import pandas as pd\n",
    "\n",
    "from openai import AzureOpenAI\n",
    "\n",
    "# 配置日志记录\n",
    "logging.basicConfig(filename='gpt4o_process.log', level=logging.INFO, encoding=\"utf-8\", filemode='w',\n",
    "                    format='%(asctime)s:%(levelname)s:%(message)s')\n",
    "prompt= \"\"\"后面的“待分析文本”是一段师生对话，其中，学生话语已经剔除，只保留老师话语，请对老师的话语进行分析，具体分析方法如下所示：  \n",
    "将”待分析文本“分割成”发起“、”评价“、”讲解“、“其它”四种子文本段，”发起“的分割尽可能细一点。“发起”是老师邀请、引导、鼓励学生用话语来回应的语句；“评价”是对学生回应的表扬、认可、批评等评价性话语；”讲解“是老师针对知识展开描述或对学生回应的总结；不能归属于上面三种子文本段，归属为“其它”。\n",
    "按照下面“示例”输出： \n",
    "示例： 老师话语： 它分别种了什么树呢？谁来说说？于凯，你来说说看。你慢讲啊。嗯，然后呢？ \n",
    "输出： \n",
    "[{\"type\":\"发起\"，\"content\":\"它分别种了什么树呢？谁来说说？\"} \n",
    "{\"type\":\"发起\"，\"content\":\"于凯，你来说说看。\"} \n",
    "{\"type\":\"其它\"：\"content\":\"你慢讲啊。嗯，\"}\n",
    "{\"type\":\"发起\"：\"content\":\"然后呢？\"}]\n",
    "待分析文本：\"\"\"\n",
    "\n",
    "# 注意：这个部署在azure上的api接口会在2025年三月份的时候过期\n",
    "\n",
    "client = AzureOpenAI(\n",
    "    azure_endpoint=\"https://zonekey-gpt4o.openai.azure.com/\",\n",
    "    api_key=\"b01e3eb073fe43629982b30b3548c36e\",\n",
    "    api_version=\"2024-02-01\"\n",
    ")\n",
    "\n",
    "df = pd.read_excel(\"726四分类法.xlsx\")\n",
    "for i in tqdm(range(len(df))):\n",
    "    try:\n",
    "        response = client.chat.completions.create(\n",
    "            model=\"soikit_test\",  # model = \"deployment_name\".\n",
    "            response_format={\"type\": \"json_object\"},  # 响应格式为JSON对象\n",
    "            messages=[\n",
    "                {\"role\": \"system\", \"content\":  \"你是一个乐于助人的小助手,并且输出是一个json，key是result\"},\n",
    "                {\"role\": \"user\", \"content\": prompt+df.loc[i, 'text']},\n",
    "            ]\n",
    "        )\n",
    "        output = response.choices[0].message.content\n",
    "        df.loc[i, 'predict'] = output\n",
    "        logging.info(f\"Row {i} processed successfully. Output: {output}\")\n",
    "    except Exception as e:\n",
    "        df.loc[i, 'predict'] = \"error\"\n",
    "        logging.error(f\"Error processing row {i}: {e}\")\n",
    "\n",
    "\n"
   ],
   "id": "2df3187114d4da60",
   "outputs": [
    {
     "name": "stderr",
     "output_type": "stream",
     "text": [
      "100%|██████████| 11/11 [02:18<00:00, 12.61s/it]\n"
     ]
    }
   ],
   "execution_count": 10
  },
  {
   "metadata": {
    "ExecuteTime": {
     "end_time": "2024-09-02T09:40:54.245090Z",
     "start_time": "2024-09-02T09:40:54.238928Z"
    }
   },
   "cell_type": "code",
   "source": "df",
   "id": "7a6f847041297da9",
   "outputs": [
    {
     "data": {
      "text/plain": [
       "    Unnamed: 0.1  Unnamed: 0  \\\n",
       "0              0           0   \n",
       "1              1           3   \n",
       "2              2           4   \n",
       "3              3           6   \n",
       "4              4           7   \n",
       "5              5           8   \n",
       "6              6           9   \n",
       "7              7          10   \n",
       "8              8          11   \n",
       "9              9          12   \n",
       "10            10          13   \n",
       "\n",
       "                                                 text  \\\n",
       "0   请袁艺喊“开始上课”，声音要响亮啊。同学们好，请坐。真棒。昨天呀，我们一起学习了课文八。今天...   \n",
       "1   嗯，细心。还有呢？他每天都去浇，天天都去浇水施肥。说明他怎么样？对，非常勤劳。猴子是不是很勤...   \n",
       "2   好的，你连叫两声。猴哥，给我听听。哎，猴哥听见了。来，我们学着他的样子。小乌鸦们，叫两声猴哥...   \n",
       "3   哪知小乌鸦再来试试看，再来劝劝猴哥。你来，欢迎陈一坤。哎，这只小乌鸦讲的好不好？非常棒，真好...   \n",
       "4   真的是男孩子今天读的真好，而且很多女孩子也在认真听，我也要表扬，非常好啊。来，同学们，你们来...   \n",
       "5   好，把三句话来说一说。我再问乌鸦对猴子说的最后一句话是什么。好，喜鹊对猴子说的最后一句话。杜...   \n",
       "6   同桌如果讲喜趣的话呢？那要反过来讲。等一会下课再出去，啊？是不是讲得差不多了？来，小乌鸦来试...   \n",
       "7   能够把故事讲用一个。第二个能加上动作。来来，第三个能不能表演得更好？哎，加上表情啊。你来试试...   \n",
       "8   不行，你按照老师的要求去做。请坐。要批评。你等会儿三十秒的话都到我这来。一定要积极思考，不是...   \n",
       "9   乌鸦说过了，咱们不重复。你不着急吗？意思就是说你会着急的，是不是啊？意思一样啊。好，很好，掌...   \n",
       "10  你有什么话，想对他说说？汤子晨，你说。嗯，请坐。不要光听别人，要有自己的想法，是不是？好，你...   \n",
       "\n",
       "                                              predict  \n",
       "0   {\\n  \"result\": [\\n    {\"type\": \"发起\", \"content\"...  \n",
       "1   {\\n  \"result\": [\\n    {\"type\": \"其它\", \"content\"...  \n",
       "2   {\\n  \"result\": [\\n    {\"type\": \"发起\", \"content\"...  \n",
       "3   {\\n  \"result\": [\\n    {\"type\":\"发起\", \"content\":...  \n",
       "4   {\\n  \"result\": [\\n    {\"type\": \"评价\", \"content\"...  \n",
       "5   {\"result\":[\\n    {\"type\":\"发起\",\"content\":\"好，把三句...  \n",
       "6   {\\n    \"result\": [\\n        {\"type\": \"发起\", \"co...  \n",
       "7   {\\n  \"result\": [\\n    {\\n      \"type\": \"发起\",\\n...  \n",
       "8   {\\n  \"result\": [\\n    {\\n      \"type\": \"其它\",\\n...  \n",
       "9   {\\n  \"result\": [\\n    {\"type\": \"其它\", \"content\"...  \n",
       "10  {\\n  \"result\": [\\n    {\\n      \"type\": \"发起\",\\n...  "
      ],
      "text/html": [
       "<div>\n",
       "<style scoped>\n",
       "    .dataframe tbody tr th:only-of-type {\n",
       "        vertical-align: middle;\n",
       "    }\n",
       "\n",
       "    .dataframe tbody tr th {\n",
       "        vertical-align: top;\n",
       "    }\n",
       "\n",
       "    .dataframe thead th {\n",
       "        text-align: right;\n",
       "    }\n",
       "</style>\n",
       "<table border=\"1\" class=\"dataframe\">\n",
       "  <thead>\n",
       "    <tr style=\"text-align: right;\">\n",
       "      <th></th>\n",
       "      <th>Unnamed: 0.1</th>\n",
       "      <th>Unnamed: 0</th>\n",
       "      <th>text</th>\n",
       "      <th>predict</th>\n",
       "    </tr>\n",
       "  </thead>\n",
       "  <tbody>\n",
       "    <tr>\n",
       "      <th>0</th>\n",
       "      <td>0</td>\n",
       "      <td>0</td>\n",
       "      <td>请袁艺喊“开始上课”，声音要响亮啊。同学们好，请坐。真棒。昨天呀，我们一起学习了课文八。今天...</td>\n",
       "      <td>{\\n  \"result\": [\\n    {\"type\": \"发起\", \"content\"...</td>\n",
       "    </tr>\n",
       "    <tr>\n",
       "      <th>1</th>\n",
       "      <td>1</td>\n",
       "      <td>3</td>\n",
       "      <td>嗯，细心。还有呢？他每天都去浇，天天都去浇水施肥。说明他怎么样？对，非常勤劳。猴子是不是很勤...</td>\n",
       "      <td>{\\n  \"result\": [\\n    {\"type\": \"其它\", \"content\"...</td>\n",
       "    </tr>\n",
       "    <tr>\n",
       "      <th>2</th>\n",
       "      <td>2</td>\n",
       "      <td>4</td>\n",
       "      <td>好的，你连叫两声。猴哥，给我听听。哎，猴哥听见了。来，我们学着他的样子。小乌鸦们，叫两声猴哥...</td>\n",
       "      <td>{\\n  \"result\": [\\n    {\"type\": \"发起\", \"content\"...</td>\n",
       "    </tr>\n",
       "    <tr>\n",
       "      <th>3</th>\n",
       "      <td>3</td>\n",
       "      <td>6</td>\n",
       "      <td>哪知小乌鸦再来试试看，再来劝劝猴哥。你来，欢迎陈一坤。哎，这只小乌鸦讲的好不好？非常棒，真好...</td>\n",
       "      <td>{\\n  \"result\": [\\n    {\"type\":\"发起\", \"content\":...</td>\n",
       "    </tr>\n",
       "    <tr>\n",
       "      <th>4</th>\n",
       "      <td>4</td>\n",
       "      <td>7</td>\n",
       "      <td>真的是男孩子今天读的真好，而且很多女孩子也在认真听，我也要表扬，非常好啊。来，同学们，你们来...</td>\n",
       "      <td>{\\n  \"result\": [\\n    {\"type\": \"评价\", \"content\"...</td>\n",
       "    </tr>\n",
       "    <tr>\n",
       "      <th>5</th>\n",
       "      <td>5</td>\n",
       "      <td>8</td>\n",
       "      <td>好，把三句话来说一说。我再问乌鸦对猴子说的最后一句话是什么。好，喜鹊对猴子说的最后一句话。杜...</td>\n",
       "      <td>{\"result\":[\\n    {\"type\":\"发起\",\"content\":\"好，把三句...</td>\n",
       "    </tr>\n",
       "    <tr>\n",
       "      <th>6</th>\n",
       "      <td>6</td>\n",
       "      <td>9</td>\n",
       "      <td>同桌如果讲喜趣的话呢？那要反过来讲。等一会下课再出去，啊？是不是讲得差不多了？来，小乌鸦来试...</td>\n",
       "      <td>{\\n    \"result\": [\\n        {\"type\": \"发起\", \"co...</td>\n",
       "    </tr>\n",
       "    <tr>\n",
       "      <th>7</th>\n",
       "      <td>7</td>\n",
       "      <td>10</td>\n",
       "      <td>能够把故事讲用一个。第二个能加上动作。来来，第三个能不能表演得更好？哎，加上表情啊。你来试试...</td>\n",
       "      <td>{\\n  \"result\": [\\n    {\\n      \"type\": \"发起\",\\n...</td>\n",
       "    </tr>\n",
       "    <tr>\n",
       "      <th>8</th>\n",
       "      <td>8</td>\n",
       "      <td>11</td>\n",
       "      <td>不行，你按照老师的要求去做。请坐。要批评。你等会儿三十秒的话都到我这来。一定要积极思考，不是...</td>\n",
       "      <td>{\\n  \"result\": [\\n    {\\n      \"type\": \"其它\",\\n...</td>\n",
       "    </tr>\n",
       "    <tr>\n",
       "      <th>9</th>\n",
       "      <td>9</td>\n",
       "      <td>12</td>\n",
       "      <td>乌鸦说过了，咱们不重复。你不着急吗？意思就是说你会着急的，是不是啊？意思一样啊。好，很好，掌...</td>\n",
       "      <td>{\\n  \"result\": [\\n    {\"type\": \"其它\", \"content\"...</td>\n",
       "    </tr>\n",
       "    <tr>\n",
       "      <th>10</th>\n",
       "      <td>10</td>\n",
       "      <td>13</td>\n",
       "      <td>你有什么话，想对他说说？汤子晨，你说。嗯，请坐。不要光听别人，要有自己的想法，是不是？好，你...</td>\n",
       "      <td>{\\n  \"result\": [\\n    {\\n      \"type\": \"发起\",\\n...</td>\n",
       "    </tr>\n",
       "  </tbody>\n",
       "</table>\n",
       "</div>"
      ]
     },
     "execution_count": 11,
     "metadata": {},
     "output_type": "execute_result"
    }
   ],
   "execution_count": 11
  },
  {
   "metadata": {
    "ExecuteTime": {
     "end_time": "2024-09-02T09:41:07.044829Z",
     "start_time": "2024-09-02T09:41:07.030369Z"
    }
   },
   "cell_type": "code",
   "source": "df.to_excel('726四分类法.xlsx')",
   "id": "c2e74ca2424eb887",
   "outputs": [],
   "execution_count": 13
  },
  {
   "metadata": {
    "ExecuteTime": {
     "end_time": "2024-09-02T02:19:05.138284Z",
     "start_time": "2024-09-02T02:19:05.131284Z"
    }
   },
   "cell_type": "code",
   "source": "json.loads(output)",
   "id": "867bd7f8d9165561",
   "outputs": [
    {
     "data": {
      "text/plain": [
       "{'result': [{'type': '发起', 'content': '请袁艺喊“开始上课”，声音要响亮啊。'},\n",
       "  {'type': '发起', 'content': '同学们好，请坐。'},\n",
       "  {'type': '评价', 'content': '真棒。'},\n",
       "  {'type': '讲解', 'content': '昨天呀，我们一起学习了课文八。今天，小猴子呀要到我们班来做客了。我们来跟他打打招呼。“猴子”。'},\n",
       "  {'type': '讲解',\n",
       "   'content': '昨天在写作业的时候呀，小朋友要注意哦。这个“猴”，反犬旁，旁边是一个单立人，中间有没有一个短竖啊？那么昨天在作业当中，方老师看到有人加了一竖，那就不对了，变成错别字了。明白了吗？好，现在用眼睛看，用心记住这个字，“猴子”。'},\n",
       "  {'type': '讲解', 'content': '哎，每天通过学习啊，我们知道了这个猴子啊，种了一些果树。'},\n",
       "  {'type': '发起', 'content': '它分别种了什么树呢？'},\n",
       "  {'type': '发起', 'content': '谁来说说？'},\n",
       "  {'type': '发起', 'content': '于凯，你来说说看。'},\n",
       "  {'type': '其它', 'content': '你慢讲啊。嗯，'},\n",
       "  {'type': '发起', 'content': '然后呢？'},\n",
       "  {'type': '讲解', 'content': '然后种了杏树。'},\n",
       "  {'type': '发起', 'content': '最后呢？'},\n",
       "  {'type': '讲解', 'content': '最后还种了桃树。'},\n",
       "  {'type': '发起', 'content': '到最后怎么样啊？'},\n",
       "  {'type': '发起', 'content': '好，于凯，你能不能连起来把这句话来说一说？'},\n",
       "  {'type': '发起', 'content': '“猴子种了”。'},\n",
       "  {'type': '评价', 'content': '非常棒，请坐。'},\n",
       "  {'type': '讲解', 'content': '我们像他一样，用一句话把这个故事，哎，就讲出来了。'},\n",
       "  {'type': '发起', 'content': '来，我们一起来试试看。'},\n",
       "  {'type': '发起', 'content': '“猴子种了”。'},\n",
       "  {'type': '讲解', 'content': '瞧，咱们一句话就能把故事的意思讲出来了。'},\n",
       "  {'type': '评价', 'content': '小朋友们真能干。'},\n",
       "  {'type': '发起', 'content': '好，那我们来看看哦，他为什么什么都没种成呢？我们来读课文的第一段。来，谁来读？'},\n",
       "  {'type': '其它', 'content': '那等一下啊。'},\n",
       "  {'type': '其它', 'content': '好，你来读。“猴子”。'},\n",
       "  {'type': '其它', 'content': '嗯嗯，你先不要坐下，'}]}"
      ]
     },
     "execution_count": 47,
     "metadata": {},
     "output_type": "execute_result"
    }
   ],
   "execution_count": 47
  },
  {
   "metadata": {
    "ExecuteTime": {
     "end_time": "2024-09-03T02:04:41.800518Z",
     "start_time": "2024-09-03T02:04:41.714501Z"
    }
   },
   "cell_type": "code",
   "source": [
    "\n",
    "from tqdm import tqdm\n",
    "import json\n",
    "import pandas as pd\n",
    "df = pd.read_excel(\"726四分类法.xlsx\")\n",
    "gpt4o_output = []\n",
    "manual_laebl = []\n",
    "for i in tqdm(range(len(df))):\n",
    "    print(i)\n",
    "    gpt4o_output.extend(json.loads(df.loc[i,'predict']).get(\"result\"))\n",
    "    manual_laebl.extend(json.loads(df.loc[i,'label']))"
   ],
   "id": "77c50f2b61e0438f",
   "outputs": [
    {
     "name": "stderr",
     "output_type": "stream",
     "text": [
      " 55%|█████▍    | 6/11 [00:00<00:00, 5939.54it/s]"
     ]
    },
    {
     "name": "stdout",
     "output_type": "stream",
     "text": [
      "0\n",
      "1\n",
      "2\n",
      "3\n",
      "4\n",
      "5\n",
      "6\n"
     ]
    },
    {
     "name": "stderr",
     "output_type": "stream",
     "text": [
      "\n"
     ]
    },
    {
     "ename": "JSONDecodeError",
     "evalue": "Extra data: line 3 column 48 (char 49)",
     "output_type": "error",
     "traceback": [
      "\u001B[1;31m---------------------------------------------------------------------------\u001B[0m",
      "\u001B[1;31mJSONDecodeError\u001B[0m                           Traceback (most recent call last)",
      "Cell \u001B[1;32mIn[22], line 10\u001B[0m\n\u001B[0;32m      8\u001B[0m \u001B[38;5;28mprint\u001B[39m(i)\n\u001B[0;32m      9\u001B[0m gpt4o_output\u001B[38;5;241m.\u001B[39mextend(json\u001B[38;5;241m.\u001B[39mloads(df\u001B[38;5;241m.\u001B[39mloc[i,\u001B[38;5;124m'\u001B[39m\u001B[38;5;124mpredict\u001B[39m\u001B[38;5;124m'\u001B[39m])\u001B[38;5;241m.\u001B[39mget(\u001B[38;5;124m\"\u001B[39m\u001B[38;5;124mresult\u001B[39m\u001B[38;5;124m\"\u001B[39m))\n\u001B[1;32m---> 10\u001B[0m manual_laebl\u001B[38;5;241m.\u001B[39mextend(json\u001B[38;5;241m.\u001B[39mloads(df\u001B[38;5;241m.\u001B[39mloc[i,\u001B[38;5;124m'\u001B[39m\u001B[38;5;124mlabel\u001B[39m\u001B[38;5;124m'\u001B[39m]))\n",
      "File \u001B[1;32m~\\anaconda3\\Lib\\json\\__init__.py:346\u001B[0m, in \u001B[0;36mloads\u001B[1;34m(s, cls, object_hook, parse_float, parse_int, parse_constant, object_pairs_hook, **kw)\u001B[0m\n\u001B[0;32m    341\u001B[0m     s \u001B[38;5;241m=\u001B[39m s\u001B[38;5;241m.\u001B[39mdecode(detect_encoding(s), \u001B[38;5;124m'\u001B[39m\u001B[38;5;124msurrogatepass\u001B[39m\u001B[38;5;124m'\u001B[39m)\n\u001B[0;32m    343\u001B[0m \u001B[38;5;28;01mif\u001B[39;00m (\u001B[38;5;28mcls\u001B[39m \u001B[38;5;129;01mis\u001B[39;00m \u001B[38;5;28;01mNone\u001B[39;00m \u001B[38;5;129;01mand\u001B[39;00m object_hook \u001B[38;5;129;01mis\u001B[39;00m \u001B[38;5;28;01mNone\u001B[39;00m \u001B[38;5;129;01mand\u001B[39;00m\n\u001B[0;32m    344\u001B[0m         parse_int \u001B[38;5;129;01mis\u001B[39;00m \u001B[38;5;28;01mNone\u001B[39;00m \u001B[38;5;129;01mand\u001B[39;00m parse_float \u001B[38;5;129;01mis\u001B[39;00m \u001B[38;5;28;01mNone\u001B[39;00m \u001B[38;5;129;01mand\u001B[39;00m\n\u001B[0;32m    345\u001B[0m         parse_constant \u001B[38;5;129;01mis\u001B[39;00m \u001B[38;5;28;01mNone\u001B[39;00m \u001B[38;5;129;01mand\u001B[39;00m object_pairs_hook \u001B[38;5;129;01mis\u001B[39;00m \u001B[38;5;28;01mNone\u001B[39;00m \u001B[38;5;129;01mand\u001B[39;00m \u001B[38;5;129;01mnot\u001B[39;00m kw):\n\u001B[1;32m--> 346\u001B[0m     \u001B[38;5;28;01mreturn\u001B[39;00m _default_decoder\u001B[38;5;241m.\u001B[39mdecode(s)\n\u001B[0;32m    347\u001B[0m \u001B[38;5;28;01mif\u001B[39;00m \u001B[38;5;28mcls\u001B[39m \u001B[38;5;129;01mis\u001B[39;00m \u001B[38;5;28;01mNone\u001B[39;00m:\n\u001B[0;32m    348\u001B[0m     \u001B[38;5;28mcls\u001B[39m \u001B[38;5;241m=\u001B[39m JSONDecoder\n",
      "File \u001B[1;32m~\\anaconda3\\Lib\\json\\decoder.py:340\u001B[0m, in \u001B[0;36mJSONDecoder.decode\u001B[1;34m(self, s, _w)\u001B[0m\n\u001B[0;32m    338\u001B[0m end \u001B[38;5;241m=\u001B[39m _w(s, end)\u001B[38;5;241m.\u001B[39mend()\n\u001B[0;32m    339\u001B[0m \u001B[38;5;28;01mif\u001B[39;00m end \u001B[38;5;241m!=\u001B[39m \u001B[38;5;28mlen\u001B[39m(s):\n\u001B[1;32m--> 340\u001B[0m     \u001B[38;5;28;01mraise\u001B[39;00m JSONDecodeError(\u001B[38;5;124m\"\u001B[39m\u001B[38;5;124mExtra data\u001B[39m\u001B[38;5;124m\"\u001B[39m, s, end)\n\u001B[0;32m    341\u001B[0m \u001B[38;5;28;01mreturn\u001B[39;00m obj\n",
      "\u001B[1;31mJSONDecodeError\u001B[0m: Extra data: line 3 column 48 (char 49)"
     ]
    }
   ],
   "execution_count": 22
  },
  {
   "metadata": {},
   "cell_type": "code",
   "outputs": [],
   "execution_count": null,
   "source": [
    "[\n",
    "{\"type\": \"发起\", \"content\": \"好，把三句话来说一说。我再问乌鸦对猴子说的最后一句话是什么。好，杜鹃对猴子说的最后一句话。\"},\n",
    "{\"type\": \"发起\", \"content\": \"我再问乌鸦对猴子说的最后一句话是什么。\"},\n",
    "{\"type\": \"评价\", \"content\": \"好\"},\n",
    "{\"type\": \"发起\", \"content\": \"喜鹊对猴子说的最后一句话。\"},\n",
    "{\"type\": \"发起\", \"content\": \"三句话意思一样吗？\"},\n",
    "{\"type\": \"评价\", \"content\": \"对，一样。\"},\n",
    "{\"type\": \"讲解\", \"content\": \"但是为什么这里他的说法不一样？你有这么耐心吗？你能等得及吗？你不着急吗？都在说猴子怎么样。都在说猴子怎么样。都在说猴子会着急，没耐心，等不及。是不是啊？这个猴子越来越着急，\"},\n",
    "{\"type\": \"评价\", \"content\": \"是的啊。在这里他有三个不同的想法。很好，\"},\n",
    "{\"type\": \"发起\", \"content\": \"你说还有什么？\"},\n",
    "{\"type\": \"评价\", \"content\": \"啊，很好。\"},\n",
    "{\"type\": \"讲解\", \"content\": \"他说出一个特点来。这三句为什么不一样？如果三句都一样就没意思了。读起来是不是这样子？让这个故事更丰富。很好。同样的意思可以用不同的句子来表达。这就是我们中国语言的神秘之处啊。我们中国语言文字的奥秘所在。\"},\n",
    "{\"type\": \"发起\", \"content\": \"好，你说，你有什么补充？\"},\n",
    "{\"type\": \"评价\", \"content\": \"好，谢谢你的发现。\"},\n",
    "{\"type\": \"发起\", \"content\": \"你来说，正当他们成活的时候，是不是？\"},\n",
    "{\"type\": \"评价\", \"content\": \"好，非常好。\"},\n",
    "{\"type\": \"讲解\", \"content\": \"来，孩子们，这三段话居然找到相似之处。哎，那我们讲这个故事的时候，是不是觉得很好讲？\"},\n",
    "{\"type\": \"评价\", \"content\": \"是的。\"},\n",
    "{\"type\": \"发起\", \"content\": \"好的，自己选一个角色。你可以选乌鸦，可以选喜鹊，也可以选杜鹃。把他的这段话自己在下面练讲。等一会儿像高婷一样站起来啊，很熟练的啊，很有感情的告诉给大家。\"},\n",
    "{\"type\": \"发起\", \"content\": \"好的啊，自己练好了，是不是？那可以讲给你的同桌好朋友听啊。哎，如果你是讲乌鸦的话，你讲给同桌听。\"}\n",
    "]\n"
   ],
   "id": "40f1d1efbd7171e4"
  },
  {
   "metadata": {
    "ExecuteTime": {
     "end_time": "2024-09-03T02:22:49.036325Z",
     "start_time": "2024-09-03T02:22:49.029789Z"
    }
   },
   "cell_type": "code",
   "source": [
    "import re\n",
    "\n",
    "text = '''\n",
    "根据您的要求，以下是对老师话语的分析：\n",
    "\n",
    "[\n",
    "  {\"type\": \"发起\", \"content\": \"请袁艺喊“开始上课”，声音要响亮啊。\"},\n",
    "  {\"type\": \"其它\", \"content\": \"同学们好，请坐。真棒。昨天呀，我们一起学习了课文八。今天，小猴子呀要到我们班来做客了。我们来跟他打打招呼。“猴子”。\"},\n",
    "  {\"type\": \"讲解\", \"content\": \"昨天在写作业的时候呀，小朋友要注意哦。这个“猴”，反犬旁，旁边是一个单立人，中间有没有一个短竖啊？那么昨天在作业当中，方老师看到有人加了一竖，那就不对了，变成错别字了。明白了吗？好，现在用眼睛看，用心记住这个字，“猴子”。\"},\n",
    "  {\"type\": \"发起\", \"content\": \"哎，每天通过学习啊，我们知道了这个猴子啊，种了一些果树。它分别种了什么树呢？谁来说说？\"},\n",
    "  {\"type\": \"发起\", \"content\": \"于凯，你来说说看。\"},\n",
    "  {\"type\": \"其它\", \"content\": \"你慢讲啊。嗯，\"},\n",
    "  {\"type\": \"发起\", \"content\": \"然后呢？\"},\n",
    "  {\"type\": \"讲解\", \"content\": \"然后种了杏树。最后呢？最后还种了桃树。到最后怎么样啊？\"},\n",
    "  {\"type\": \"发起\", \"content\": \"好，于凯，你能不能连起来把这句话来说一说？“猴子种了”。\"},\n",
    "  {\"type\": \"评价\", \"content\": \"非常棒，请坐。\"},\n",
    "  {\"type\": \"讲解\", \"content\": \"我们像他一样，用一句话把这个故事，哎，就讲出来了。来，我们一起来试试看。“猴子种了”。\"},\n",
    "  {\"type\": \"评价\", \"content\": \"瞧，咱们一句话就能把故事的意思讲出来了。小朋友们真能干。\"},\n",
    "  {\"type\": \"讲解\", \"content\": \"好，那我们来看看哦，他为什么什么都没种成呢？我们来读课文的第一段。\"},\n",
    "  {\"type\": \"发起\", \"content\": \"来，谁来读？那等一下啊。好，你来读。“猴子”。\"},\n",
    "  {\"type\": \"其它\", \"content\": \"嗯嗯，你先不要坐下，这个“天天”说明什么呀？\"}\n",
    "]\n",
    "'''\n",
    "\n",
    "matches = re.findall(r'\\[.*\\]', text, re.DOTALL)\n",
    "\n",
    "print(type(matches[0]))\n"
   ],
   "id": "d118682769308449",
   "outputs": [
    {
     "name": "stdout",
     "output_type": "stream",
     "text": [
      "<class 'str'>\n"
     ]
    }
   ],
   "execution_count": 6
  },
  {
   "metadata": {
    "ExecuteTime": {
     "end_time": "2024-09-03T02:23:13.518413Z",
     "start_time": "2024-09-03T02:23:13.513413Z"
    }
   },
   "cell_type": "code",
   "source": [
    "import json\n",
    "json.loads(matches[0])"
   ],
   "id": "db63e2887d667879",
   "outputs": [
    {
     "data": {
      "text/plain": [
       "[{'type': '发起', 'content': '请袁艺喊“开始上课”，声音要响亮啊。'},\n",
       " {'type': '其它',\n",
       "  'content': '同学们好，请坐。真棒。昨天呀，我们一起学习了课文八。今天，小猴子呀要到我们班来做客了。我们来跟他打打招呼。“猴子”。'},\n",
       " {'type': '讲解',\n",
       "  'content': '昨天在写作业的时候呀，小朋友要注意哦。这个“猴”，反犬旁，旁边是一个单立人，中间有没有一个短竖啊？那么昨天在作业当中，方老师看到有人加了一竖，那就不对了，变成错别字了。明白了吗？好，现在用眼睛看，用心记住这个字，“猴子”。'},\n",
       " {'type': '发起', 'content': '哎，每天通过学习啊，我们知道了这个猴子啊，种了一些果树。它分别种了什么树呢？谁来说说？'},\n",
       " {'type': '发起', 'content': '于凯，你来说说看。'},\n",
       " {'type': '其它', 'content': '你慢讲啊。嗯，'},\n",
       " {'type': '发起', 'content': '然后呢？'},\n",
       " {'type': '讲解', 'content': '然后种了杏树。最后呢？最后还种了桃树。到最后怎么样啊？'},\n",
       " {'type': '发起', 'content': '好，于凯，你能不能连起来把这句话来说一说？“猴子种了”。'},\n",
       " {'type': '评价', 'content': '非常棒，请坐。'},\n",
       " {'type': '讲解', 'content': '我们像他一样，用一句话把这个故事，哎，就讲出来了。来，我们一起来试试看。“猴子种了”。'},\n",
       " {'type': '评价', 'content': '瞧，咱们一句话就能把故事的意思讲出来了。小朋友们真能干。'},\n",
       " {'type': '讲解', 'content': '好，那我们来看看哦，他为什么什么都没种成呢？我们来读课文的第一段。'},\n",
       " {'type': '发起', 'content': '来，谁来读？那等一下啊。好，你来读。“猴子”。'},\n",
       " {'type': '其它', 'content': '嗯嗯，你先不要坐下，这个“天天”说明什么呀？'}]"
      ]
     },
     "execution_count": 8,
     "metadata": {},
     "output_type": "execute_result"
    }
   ],
   "execution_count": 8
  },
  {
   "metadata": {},
   "cell_type": "code",
   "outputs": [],
   "execution_count": null,
   "source": "",
   "id": "4c43d8de8069e9d0"
  }
 ],
 "metadata": {
  "kernelspec": {
   "display_name": "Python 3",
   "language": "python",
   "name": "python3"
  },
  "language_info": {
   "codemirror_mode": {
    "name": "ipython",
    "version": 2
   },
   "file_extension": ".py",
   "mimetype": "text/x-python",
   "name": "python",
   "nbconvert_exporter": "python",
   "pygments_lexer": "ipython2",
   "version": "2.7.6"
  }
 },
 "nbformat": 4,
 "nbformat_minor": 5
}
