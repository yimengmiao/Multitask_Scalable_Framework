{
 "cells": [
  {
   "metadata": {
    "ExecuteTime": {
     "end_time": "2024-09-18T08:35:19.763957Z",
     "start_time": "2024-09-18T08:35:19.743760Z"
    }
   },
   "cell_type": "code",
   "source": [
    "import re\n",
    "import json\n",
    "\n",
    "def extract_json_using_patterns(text):\n",
    "    \"\"\"使用一组正则表达式模式来提取 JSON\"\"\"\n",
    "    # 保留原始文本的换行符\n",
    "    text = text.strip()\n",
    "    print(\"text:\", text)\n",
    "    \n",
    "    patterns = [\n",
    "        r'\\{[\\s\\S]*\\}',  # 新的正则表达式模式，匹配第一个 '{' 和最后一个 '}' 之间的内容\n",
    "        # 保留其他原有模式\n",
    "        r'(\\{[\\s\\S]*?\\})\\s*\\}$',\n",
    "        r'\\{\\s*\"result\"\\s*:\\s*\\[[\\s\\S]*?\\]\\s*\\}',\n",
    "        r'\"\"\"json\\s*(\\{[\\s\\S]*?\\})\\s*\"\"\"',\n",
    "        r'```json\\s*(\\{[\\s\\S]*?\\})\\s*```',\n",
    "    ]\n",
    "\n",
    "    # 依次尝试使用每个正则表达式模式进行匹配\n",
    "    for pattern in patterns:\n",
    "        match = re.search(pattern, text, re.DOTALL)\n",
    "        if match:\n",
    "            # 检查正则表达式是否使用了捕获组\n",
    "            if match.lastindex:\n",
    "                json_str = match.group(1)  # 获取捕获组中的内容\n",
    "            else:\n",
    "                json_str = match.group(0)  # 获取整个匹配的内容\n",
    "            print(f\"匹配到的 JSON: {json_str}\")\n",
    "            try:\n",
    "                # 尝试将提取到的字符串解析为 JSON\n",
    "                result_data = json.loads(json_str)\n",
    "                return result_data\n",
    "            except json.JSONDecodeError as e:\n",
    "                # 如果 JSON 解析失败，继续尝试下一个模式\n",
    "                print(f\"JSON 解析失败: {e}\")\n",
    "                continue\n",
    "\n",
    "    # 如果没有找到匹配的 JSON 数据\n",
    "    print(\"未找到符合模式的 JSON 数据\")\n",
    "    return {}\n",
    "\n",
    "# 测试代码\n",
    "text = '''\n",
    "一些前置文本\n",
    "{\n",
    "    \"result\": [\n",
    "        {\"type\": \"发起\", \"content\": \"具你，为什么要我买？这是第一套。\"},\n",
    "        {\"type\": \"其它\", \"content\": \"\"}\n",
    "    ],\n",
    "    \"compliance\": \"低\"\n",
    "}\n",
    "一些后置文本\n",
    "'''\n",
    "\n",
    "result = extract_json_using_patterns(text)\n",
    "print(\"提取结果:\", result)\n"
   ],
   "id": "e554c740ac69f309",
   "outputs": [
    {
     "name": "stdout",
     "output_type": "stream",
     "text": [
      "text: 一些前置文本\n",
      "{\n",
      "    \"result\": [\n",
      "        {\"type\": \"发起\", \"content\": \"具你，为什么要我买？这是第一套。\"},\n",
      "        {\"type\": \"其它\", \"content\": \"\"}\n",
      "    ],\n",
      "    \"compliance\": \"低\"\n",
      "}\n",
      "一些后置文本\n",
      "匹配到的 JSON: {\n",
      "    \"result\": [\n",
      "        {\"type\": \"发起\", \"content\": \"具你，为什么要我买？这是第一套。\"},\n",
      "        {\"type\": \"其它\", \"content\": \"\"}\n",
      "    ],\n",
      "    \"compliance\": \"低\"\n",
      "}\n",
      "提取结果: {'result': [{'type': '发起', 'content': '具你，为什么要我买？这是第一套。'}, {'type': '其它', 'content': ''}], 'compliance': '低'}\n"
     ]
    }
   ],
   "execution_count": 159
  },
  {
   "metadata": {
    "ExecuteTime": {
     "end_time": "2024-09-18T08:32:11.634896Z",
     "start_time": "2024-09-18T08:32:11.615403Z"
    }
   },
   "cell_type": "code",
   "source": "extract_json_using_patterns(text)",
   "id": "b614a8fcaf7020a8",
   "outputs": [
    {
     "name": "stdout",
     "output_type": "stream",
     "text": [
      "text: ```json\n",
      "{\n",
      "\"result\":\n",
      "[{\"type\":\"发起\",\"content\": \"具你，为什么要我买？这是第一套。\"},\n",
      "{\"type\":\"其它\",\"content\": \"\"}],\n",
      "\"compliance\": \"低\"\n",
      "}\n",
      "匹配到的 JSON: {\n",
      "\"result\":\n",
      "[{\"type\":\"发起\",\"content\": \"具你，为什么要我买？这是第一套。\"}\n",
      "JSON 解析失败: Expecting ',' delimiter: line 3 column 45 (char 56)\n",
      "未找到符合模式的 JSON 数据\n"
     ]
    },
    {
     "data": {
      "text/plain": [
       "{}"
      ]
     },
     "execution_count": 157,
     "metadata": {},
     "output_type": "execute_result"
    }
   ],
   "execution_count": 157
  },
  {
   "metadata": {
    "ExecuteTime": {
     "end_time": "2024-09-18T08:32:38.462578Z",
     "start_time": "2024-09-18T08:32:38.451559Z"
    }
   },
   "cell_type": "code",
   "source": [
    "{\n",
    "\"result\":\n",
    "[{\"type\":\"发起\",\"content\": \"具你，为什么要我买？这是第一套。\"},\n",
    "{\"type\":\"其它\",\"content\": \"\"}],\n",
    "\"compliance\": \"低\"\n",
    "}"
   ],
   "id": "7ed6de766cae453d",
   "outputs": [
    {
     "data": {
      "text/plain": [
       "{'result': [{'type': '发起', 'content': '具你，为什么要我买？这是第一套。'},\n",
       "  {'type': '其它', 'content': ''}],\n",
       " 'compliance': '低'}"
      ]
     },
     "execution_count": 158,
     "metadata": {},
     "output_type": "execute_result"
    }
   ],
   "execution_count": 158
  },
  {
   "metadata": {
    "ExecuteTime": {
     "end_time": "2024-09-25T03:08:27.639252Z",
     "start_time": "2024-09-25T03:08:27.593642Z"
    }
   },
   "cell_type": "code",
   "source": [
    "import pandas as pd \n",
    "def parse_test_result(test_result):\n",
    "    \"\"\"解析模型返回的结果，提取 JSON\"\"\"\n",
    "    if test_result:\n",
    "        try:\n",
    "            result_data = json.loads(test_result)\n",
    "            \n",
    "            return result_data\n",
    "        except json.JSONDecodeError:\n",
    "            return extract_json_using_patterns(test_result)\n",
    "    else:\n",
    "        return {}\n",
    "def remove_punctuation(text):\n",
    "    # 中英文标点符号的正则表达式\n",
    "    punctuation_pattern = r'[，。！？、；：“”‘’（）《》【】…—]+' + r'[.,\\/#!$%\\^&\\*;:{}=\\-_`~()]'\n",
    "    # 使用正则表达式替换标点符号为空字符串\n",
    "    no_punctuation_text = re.sub(punctuation_pattern, '', text)\n",
    "    return no_punctuation_text\n",
    "\n",
    "output_result = [[{\"start_time\": 27300, \"end_time\": 32940, \"text\": \"具你，为什么要我买？这是第一套。\", \"label\": 0}, {\"start_time\": 35310, \"end_time\": 39510, \"text\": \"喂，你，吃你吃你狗，你，\", \"label\": 1}, {\"model_input\": \"\\n                “老师话语”：具你，为什么要我买？这是第一套。 \\n                “学生话语”：喂，你，吃你吃你狗，你，\\n                \"}, {\"soikit_test_result\": \"{\\n  \\\"result\\\": [\\n    {\\\"type\\\": \\\"发起\\\", \\\"content\\\": \\\"具你，为什么要我买？这是第一套。\\\"}\\n  ],\\n  \\\"compliance\\\": \\\"低\\\"\\n}\"}], [{\"start_time\": 40560, \"end_time\": 42710, \"text\": \"好，把语文书翻到第50页，\", \"label\": 0}, {\"start_time\": 40560, \"end_time\": 42710, \"text\": \"\", \"label\": 1}, {\"model_input\": \"“老师话语”：好，把语文书翻到第50页， \"}, {\"soikit_test_result\": \"{\\n  \\\"result\\\": [\\n    {\\\"type\\\": \\\"其它\\\", \\\"content\\\": \\\"好，把语文书翻到第50页，\\\"}\\n  ],\\n  \\\"compliance\\\": \\\"无\\\"\\n}\"}], [{\"start_time\": 45590, \"end_time\": 47190, \"text\": \"然后铅笔收起来把，\", \"label\": 0}, {\"start_time\": 47910, \"end_time\": 49590, \"text\": \"课堂练习放到左上角，\", \"label\": 1}, {\"model_input\": \"\\n                “老师话语”：然后铅笔收起来把， \\n                “学生话语”：课堂练习放到左上角，\\n                \"}, {\"soikit_test_result\": \"{\\n  \\\"result\\\": [\\n    {\\\"type\\\": \\\"其它\\\", \\\"content\\\": \\\"然后铅笔收起来吧\\\"}\\n  ],\\n  \\\"compliance\\\": \\\"无\\\"\\n}\"}], [{\"start_time\": 50070, \"end_time\": 52760, \"text\": \"先把语文书翻到翻到第50页，翻到这里，\", \"label\": 0}, {\"start_time\": 52780, \"end_time\": 52790, \"text\": \"没有，50。我现在这个阳猫世，\", \"label\": 1}, {\"model_input\": \"\\n                “老师话语”：先把语文书翻到翻到第50页，翻到这里， \\n                “学生话语”：没有，50。我现在这个阳猫世，\\n                \"}, {\"soikit_test_result\": \"{\\n  \\\"result\\\": [\\n    {\\\"type\\\": \\\"其它\\\", \\\"content\\\": \\\"先把语文书翻到翻到第50页，翻到这里，\\\"}\\n  ],\\n  \\\"compliance\\\": \\\"无\\\"\\n}\"}], [{\"start_time\": 53000, \"end_time\": 69880, \"text\": \"我看谁今天坐姿有问题啊啊，\", \"label\": 0}, {\"start_time\": 53000, \"end_time\": 69880, \"text\": \"\", \"label\": 1}, {\"model_input\": \"“老师话语”：我看谁今天坐姿有问题啊啊， \"}, {\"soikit_test_result\": \"{\\n\\\"result\\\": [\\n  {\\\"type\\\":\\\"发起\\\",\\\"content\\\":\\\"我看谁今天坐姿有问题啊啊，\\\"}\\n],\\n\\\"compliance\\\": \\\"无\\\"\\n}\"}]]\n",
    "model_name = \"soikit_test\"\n",
    "# def process_output_result(output_result, model_name):\n",
    "\"\"\"处理模型的输出结果，生成最终的 DataFrame\"\"\"\n",
    "result_list = []\n",
    "\n",
    "for sublist in output_result:\n",
    "    print(\"sub_list\",sublist)\n",
    "    test_result = None\n",
    "    if len(sublist) >= 4:\n",
    "        third_item = sublist[3]\n",
    "        test_result = next(iter(third_item.values()))\n",
    "    else:\n",
    "        test_result = None\n",
    "    \n",
    "    contents = parse_test_result(test_result)\n",
    "    print(\"contents\",contents)\n",
    "    new_sublist = []\n",
    "    if not contents:\n",
    "        for item in sublist:\n",
    "            print(\"item\",item)\n",
    "            if 'start_time' in item:\n",
    "                new_item = item.copy()\n",
    "                new_item[f'{model_name}_predict'] = '{}'\n",
    "                new_sublist.append(new_item)\n",
    "        result_list.append(new_sublist)\n",
    "        continue\n",
    "    for item in sublist:\n",
    "        if 'start_time' in item:\n",
    "            new_item = item.copy()\n",
    "\n",
    "            match_found = False\n",
    "            for content in contents[\"result\"]:\n",
    "                if content['content'] != \"\":\n",
    "                    if remove_punctuation(content['content']) in remove_punctuation(item['text']):\n",
    "                        new_item[f'{model_name}_predict'] = test_result\n",
    "                        match_found = True\n",
    "                        break\n",
    "            if not match_found:\n",
    "                new_item[f'{model_name}_predict'] = ''\n",
    "\n",
    "            new_sublist.append(new_item)\n",
    "    result_list.append(new_sublist)\n",
    "    # return df_result"
   ],
   "id": "ffd1dbed4c5b65d5",
   "outputs": [
    {
     "name": "stdout",
     "output_type": "stream",
     "text": [
      "sub_list [{'start_time': 27300, 'end_time': 32940, 'text': '具你，为什么要我买？这是第一套。', 'label': 0}, {'start_time': 35310, 'end_time': 39510, 'text': '喂，你，吃你吃你狗，你，', 'label': 1}, {'model_input': '\\n                “老师话语”：具你，为什么要我买？这是第一套。 \\n                “学生话语”：喂，你，吃你吃你狗，你，\\n                '}, {'soikit_test_result': '{\\n  \"result\": [\\n    {\"type\": \"发起\", \"content\": \"具你，为什么要我买？这是第一套。\"}\\n  ],\\n  \"compliance\": \"低\"\\n}'}]\n",
      "contents {'result': [{'type': '发起', 'content': '具你，为什么要我买？这是第一套。'}], 'compliance': '低'}\n",
      "sub_list [{'start_time': 40560, 'end_time': 42710, 'text': '好，把语文书翻到第50页，', 'label': 0}, {'start_time': 40560, 'end_time': 42710, 'text': '', 'label': 1}, {'model_input': '“老师话语”：好，把语文书翻到第50页， '}, {'soikit_test_result': '{\\n  \"result\": [\\n    {\"type\": \"其它\", \"content\": \"好，把语文书翻到第50页，\"}\\n  ],\\n  \"compliance\": \"无\"\\n}'}]\n",
      "contents {'result': [{'type': '其它', 'content': '好，把语文书翻到第50页，'}], 'compliance': '无'}\n",
      "sub_list [{'start_time': 45590, 'end_time': 47190, 'text': '然后铅笔收起来把，', 'label': 0}, {'start_time': 47910, 'end_time': 49590, 'text': '课堂练习放到左上角，', 'label': 1}, {'model_input': '\\n                “老师话语”：然后铅笔收起来把， \\n                “学生话语”：课堂练习放到左上角，\\n                '}, {'soikit_test_result': '{\\n  \"result\": [\\n    {\"type\": \"其它\", \"content\": \"然后铅笔收起来吧\"}\\n  ],\\n  \"compliance\": \"无\"\\n}'}]\n",
      "contents {'result': [{'type': '其它', 'content': '然后铅笔收起来吧'}], 'compliance': '无'}\n",
      "sub_list [{'start_time': 50070, 'end_time': 52760, 'text': '先把语文书翻到翻到第50页，翻到这里，', 'label': 0}, {'start_time': 52780, 'end_time': 52790, 'text': '没有，50。我现在这个阳猫世，', 'label': 1}, {'model_input': '\\n                “老师话语”：先把语文书翻到翻到第50页，翻到这里， \\n                “学生话语”：没有，50。我现在这个阳猫世，\\n                '}, {'soikit_test_result': '{\\n  \"result\": [\\n    {\"type\": \"其它\", \"content\": \"先把语文书翻到翻到第50页，翻到这里，\"}\\n  ],\\n  \"compliance\": \"无\"\\n}'}]\n",
      "contents {'result': [{'type': '其它', 'content': '先把语文书翻到翻到第50页，翻到这里，'}], 'compliance': '无'}\n",
      "sub_list [{'start_time': 53000, 'end_time': 69880, 'text': '我看谁今天坐姿有问题啊啊，', 'label': 0}, {'start_time': 53000, 'end_time': 69880, 'text': '', 'label': 1}, {'model_input': '“老师话语”：我看谁今天坐姿有问题啊啊， '}, {'soikit_test_result': '{\\n\"result\": [\\n  {\"type\":\"发起\",\"content\":\"我看谁今天坐姿有问题啊啊，\"}\\n],\\n\"compliance\": \"无\"\\n}'}]\n",
      "contents {'result': [{'type': '发起', 'content': '我看谁今天坐姿有问题啊啊，'}], 'compliance': '无'}\n"
     ]
    }
   ],
   "execution_count": 176
  },
  {
   "metadata": {
    "ExecuteTime": {
     "end_time": "2024-09-25T02:38:27.030503Z",
     "start_time": "2024-09-25T02:38:27.016825Z"
    }
   },
   "cell_type": "code",
   "source": [
    "sub_list  = [{'start_time': 27300, 'end_time': 32940, 'text': '具你，为什么要我买？这是第一套。', 'label': 0}, {'start_time': 35310, 'end_time': 39510, 'text': '喂，你，吃你吃你狗，你，', 'label': 1}, {'model_input': '\\n                “老师话语”：具你，为什么要我买？这是第一套。 \\n                “学生话语”：喂，你，吃你吃你狗，你，\\n                '}, {'soikit_test_result': '{\\n  \"result\": [\\n    {\"type\": \"发起\", \"content\": \"具你，为什么要我买？这是第一套。\"}\\n  ],\\n  \"compliance\": \"低\"\\n}'}]\n",
    "sub_list[0]"
   ],
   "id": "eb8a9bdd0a3173e2",
   "outputs": [
    {
     "data": {
      "text/plain": [
       "{'start_time': 27300,\n",
       " 'end_time': 32940,\n",
       " 'text': '具你，为什么要我买？这是第一套。',\n",
       " 'label': 0}"
      ]
     },
     "execution_count": 174,
     "metadata": {},
     "output_type": "execute_result"
    }
   ],
   "execution_count": 174
  },
  {
   "metadata": {},
   "cell_type": "code",
   "outputs": [],
   "execution_count": null,
   "source": [
    "if \"start_time\" in sub_list[0]:\n",
    "    print(1)"
   ],
   "id": "d9cd0f0aaaeced08"
  },
  {
   "metadata": {},
   "cell_type": "code",
   "outputs": [],
   "execution_count": null,
   "source": [
    "    \n",
    "\n",
    "\n",
    "    for item in sublist:\n",
    "        if 'start_time' in item:\n",
    "            new_item = item.copy()\n",
    "\n",
    "            match_found = False\n",
    "            for content in contents[\"result\"]:\n",
    "                if content['content'] != \"\":\n",
    "                    if content['content'] in item['text']:\n",
    "                        new_item[f'{model_name}_predict'] = test_result\n",
    "                        match_found = True\n",
    "                        break\n",
    "            if not match_found:\n",
    "                new_item[f'{model_name}_predict'] = ''\n",
    "\n",
    "            new_sublist.append(new_item)\n",
    "    result_list.append(new_sublist)\n",
    "\n",
    "flat_list = [item for sublist in result_list for item in sublist]\n",
    "df_result = pd.DataFrame(flat_list)"
   ],
   "id": "1e64492ff120da3a"
  }
 ],
 "metadata": {
  "kernelspec": {
   "display_name": "Python 3",
   "language": "python",
   "name": "python3"
  },
  "language_info": {
   "codemirror_mode": {
    "name": "ipython",
    "version": 2
   },
   "file_extension": ".py",
   "mimetype": "text/x-python",
   "name": "python",
   "nbconvert_exporter": "python",
   "pygments_lexer": "ipython2",
   "version": "2.7.6"
  }
 },
 "nbformat": 4,
 "nbformat_minor": 5
}
