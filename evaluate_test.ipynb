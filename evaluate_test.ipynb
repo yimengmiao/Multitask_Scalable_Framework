{
 "cells": [
  {
   "cell_type": "code",
   "id": "initial_id",
   "metadata": {
    "collapsed": true,
    "ExecuteTime": {
     "end_time": "2024-09-03T06:23:47.908050Z",
     "start_time": "2024-09-03T06:23:47.431954Z"
    }
   },
   "source": [
    "import re\n",
    "\n",
    "import pandas as pd"
   ],
   "outputs": [],
   "execution_count": 1
  },
  {
   "metadata": {
    "ExecuteTime": {
     "end_time": "2024-09-03T06:40:40.316320Z",
     "start_time": "2024-09-03T06:40:40.184609Z"
    }
   },
   "cell_type": "code",
   "source": [
    "from tqdm import tqdm\n",
    "import json\n",
    "import pandas as pd\n",
    "import re \n",
    "from difflib import SequenceMatcher\n",
    "from collections import defaultdict\n",
    "df = pd.read_excel(\"726四分类法.xlsx\")\n",
    "\n",
    "\n",
    "def similarity(sent1, sent2):\n",
    "    return SequenceMatcher(None, sent1, sent2).ratio()\n",
    "\n",
    "\n",
    "def split_sentences(data):\n",
    "    split_data = []\n",
    "    for item in data:\n",
    "        # 使用正则表达式分割句子\n",
    "        sentences = re.split(r'[？。]', item['content'])\n",
    "        for sentence in sentences:\n",
    "            if sentence:  # 忽略空字符串\n",
    "                split_data.append({'type': item['type'], 'content': sentence})\n",
    "    return split_data\n",
    "\n",
    "gpt4o_output = []\n",
    "manual_label = []\n",
    "for i in tqdm(range(0,len(df))):\n",
    "    # print(i)\n",
    "    gpt4o = json.loads(df.loc[i,'predict']).get(\"result\")\n",
    "    # print(f'gpt4o: {gpt4o}')\n",
    "    manual = json.loads(df.loc[i,'label'])\n",
    "    # print(f'manual: {manual}')\n",
    "    #分句\n",
    "    split_data_gpt4o_output = split_sentences(gpt4o)\n",
    "    # print(f\"split_data_gpt4o_output: {split_data_gpt4o_output}\")\n",
    "\n",
    "    split_data_manual = split_sentences(manual)\n",
    "    # print(f\"split_data_manual: {split_data_manual}\")\n",
    "    # if len(split_data_gpt4o_output) != len(split_data_manual):\n",
    "    #     print(i)\n",
    "    #     # print(f\"split_data_gpt4o_output: {len(split_data_gpt4o_output)}\")\n",
    "    #     # print(f\"split_data_manual: {len(split_data_manual)}\")\n",
    "    #     # print(f\"split_data_gpt4o_output: {split_data_gpt4o_output}\")\n",
    "    #     # print(f\"split_data_manual: {split_data_manual}\")\n",
    "    #     # break\n",
    "    for item in split_data_gpt4o_output:\n",
    "        for sent in split_data_manual:\n",
    "            \n",
    "            if similarity(item.get(\"content\") ,sent.get(\"content\")) >0.5:\n",
    "                item['label'] = sent.get(\"type\")\n",
    "                item['manual_content'] = sent.get(\"content\")\n",
    "                break  # 如果匹配上了，就不要再往下匹配了。\n",
    "\n",
    "    gpt4o_output.extend(split_data_gpt4o_output)\n",
    "# \n",
    "    # manual_label.extend(split_data_manual)"
   ],
   "id": "30f755ff75562efc",
   "outputs": [
    {
     "name": "stderr",
     "output_type": "stream",
     "text": [
      "100%|██████████| 11/11 [00:00<00:00, 117.53it/s]\n"
     ]
    }
   ],
   "execution_count": 17
  },
  {
   "metadata": {
    "ExecuteTime": {
     "end_time": "2024-09-03T06:40:41.046986Z",
     "start_time": "2024-09-03T06:40:41.039975Z"
    }
   },
   "cell_type": "code",
   "source": [
    "# 定义一个包含四个必要键值的列表\n",
    "required_keys = ['type', 'content', 'label', 'manual_content']\n",
    "\n",
    "# 遍历每个字典\n",
    "# data = [\n",
    "#     {'type': '讲解', 'content': '猴子呀他一开始很勤劳啊，还是种了一棵梨树', 'label': '讲解', 'manual_content': '猴子呀他一开始很勤劳啊，还是种了一棵梨树'},\n",
    "#     {'type': '讲解', 'content': '可是当乌鸦来劝说它的时候，它就拔掉了梨树，改种了', 'label': '讲解', 'manual_content': '可是当乌鸦来劝说它的时候，它就拔掉了梨树，改种了'},\n",
    "#     {'type': '讲解', 'content': '正当杏树成活的时候，喜鹊来劝他了', 'label': '讲解', 'manual_content': '正当杏树成活的时候，喜鹊来劝他了'}\n",
    "# ]\n",
    "\n",
    "# 遍历列表并确保每个字典都有四个键值\n",
    "for item in gpt4o_output:\n",
    "    for key in required_keys:\n",
    "        if key not in item:\n",
    "            item[key] = ''  # 如果缺少键，就添加并赋值为空字符串\n",
    "\n",
    "# 打印结果\n",
    "print(gpt4o_output)\n"
   ],
   "id": "63758605822ff027",
   "outputs": [
    {
     "name": "stdout",
     "output_type": "stream",
     "text": [
      "[{'type': '发起', 'content': '请袁艺喊“开始上课”，声音要响亮啊', 'label': '发起', 'manual_content': '请袁艺喊“开始上课”，声音要响亮啊'}, {'type': '其它', 'content': '同学们好，请坐', 'label': '发起', 'manual_content': '同学们好，请坐'}, {'type': '评价', 'content': '真棒！', 'label': '评价', 'manual_content': '真棒'}, {'type': '讲解', 'content': '昨天呀，我们一起学习了课文八', 'label': '讲解', 'manual_content': '昨天呀，我们一起学习了课文八'}, {'type': '讲解', 'content': '今天小猴子呀，要到我们班来做客了', 'label': '讲解', 'manual_content': '今天，小猴子呀要到我们班来做客了'}, {'type': '发起', 'content': '我们来跟他打打招呼', 'label': '发起', 'manual_content': '我们来跟他打打招呼'}, {'type': '讲解', 'content': '猴子，昨天在写作业的时候呀，小朋友要注意哦', 'label': '讲解', 'manual_content': '昨天在写作业的时候呀，小朋友要注意哦'}, {'type': '讲解', 'content': '这个“猴”，反犬旁，旁边是一个单立人', 'label': '讲解', 'manual_content': '这个“猴”，反犬旁，旁边是一个单立人，中间有没有一个短竖啊'}, {'type': '讲解', 'content': '中间有没有一个短竖啊', 'label': '讲解', 'manual_content': '这个“猴”，反犬旁，旁边是一个单立人，中间有没有一个短竖啊'}, {'type': '讲解', 'content': '那么昨天在作业当中，方老师看到有人加了一竖，那就不对了，变成错别字了', 'label': '讲解', 'manual_content': '那么昨天在作业当中，方老师看到有人加了一竖，那就不对了，变成错别字了'}, {'type': '讲解', 'content': '明白了吗', 'label': '讲解', 'manual_content': '明白了吗'}, {'type': '其它', 'content': '好，现在用眼睛看，用心记住这个字，猴子', 'label': '发起', 'manual_content': '好，现在用眼睛看，用心记住这个字，“猴子”'}, {'type': '发起', 'content': '哎，每天通过学习啊，我们知道了这个猴子啊，种了一些果树', 'label': '发起', 'manual_content': '哎，每天通过学习啊，我们知道了这个猴子啊，种了一些果树'}, {'type': '发起', 'content': '它分别种了什么树呢', 'label': '发起', 'manual_content': '它分别种了什么树呢'}, {'type': '发起', 'content': '谁来说说', 'label': '发起', 'manual_content': '谁来说说'}, {'type': '发起', 'content': '于凯，你来说说看', 'label': '发起', 'manual_content': '于凯，你来说说看'}, {'type': '其它', 'content': '你慢讲啊，嗯', 'label': '其它', 'manual_content': '你慢讲啊'}, {'type': '发起', 'content': '然后呢', 'label': '发起', 'manual_content': '然后呢'}, {'type': '发起', 'content': '然后种了杏树，最后呢', 'label': '讲解', 'manual_content': '然后种了杏树'}, {'type': '发起', 'content': '最后还种了桃树', 'label': '讲解', 'manual_content': '然后种了杏树'}, {'type': '发起', 'content': '到最后怎么样啊', 'label': '发起', 'manual_content': '到最后怎么样啊'}, {'type': '发起', 'content': '好，于凯，你能不能连起来把这句话来说一说', 'label': '发起', 'manual_content': '好，于凯，你能不能连起来把这句话来说一说'}, {'type': '发起', 'content': '猴子种了……', 'label': '发起', 'manual_content': '“猴子种了”'}, {'type': '评价', 'content': '非常棒！', 'label': '评价', 'manual_content': '非常棒，请坐'}, {'type': '其它', 'content': '请坐', 'label': '', 'manual_content': ''}, {'type': '讲解', 'content': '我们像他一样，用一句话把这个故事，哎，就讲出来了', 'label': '发起', 'manual_content': '我们像他一样，用一句话把这个故事，哎，就讲出来了'}, {'type': '发起', 'content': '来，我们一起来试试看，猴子种了……', 'label': '发起', 'manual_content': '来，我们一起来试试看'}, {'type': '评价', 'content': '瞧，咱们一句话就能把故事的意思讲出来了', 'label': '发起', 'manual_content': '我们像他一样，用一句话把这个故事，哎，就讲出来了'}, {'type': '评价', 'content': '小朋友们真能干！', 'label': '评价', 'manual_content': '小朋友们真能干'}, {'type': '发起', 'content': '好，那我们来看看哦，他为什么什么都没种成呢', 'label': '发起', 'manual_content': '好，那我们来看看哦，他为什么什么都没种成呢'}, {'type': '发起', 'content': '我们来读课文的第一段', 'label': '发起', 'manual_content': '我们来读课文的第一段'}, {'type': '发起', 'content': '来，谁来读', 'label': '发起', 'manual_content': '来，谁来读'}, {'type': '其它', 'content': '那等一下啊', 'label': '其它', 'manual_content': '那等一下啊'}, {'type': '发起', 'content': '好，你来读', 'label': '发起', 'manual_content': '来，谁来读'}, {'type': '发起', 'content': '猴子……', 'label': '', 'manual_content': ''}, {'type': '发起', 'content': '嗯嗯，你先不要坐下', 'label': '发起', 'manual_content': '嗯嗯，你先不要坐下，这个“天天”说明什么呀'}, {'type': '发起', 'content': '这个“天天”说明什么呀', 'label': '发起', 'manual_content': '嗯嗯，你先不要坐下，这个“天天”说明什么呀'}, {'type': '其它', 'content': '嗯，细心', 'label': '其它', 'manual_content': '嗯，'}, {'type': '发起', 'content': '还有呢', 'label': '发起', 'manual_content': '还有呢'}, {'type': '发起', 'content': '他每天都去浇，天天都去浇水施肥，说明他怎么样', 'label': '发起', 'manual_content': '他每天都去浇，天天都去浇水施肥，说明他怎么样'}, {'type': '评价', 'content': '对，非常勤劳', 'label': '评价', 'manual_content': '对，非常勤劳'}, {'type': '评价', 'content': '猴子是不是很勤劳', 'label': '评价', 'manual_content': '猴子是不是很勤劳'}, {'type': '讲解', 'content': '你们看，这个猴子种树啊，它有一个动作的过程', 'label': '发起', 'manual_content': '你们看，这个猴子种树啊，它有一个动作的过程'}, {'type': '讲解', 'content': '你们找到了动作了吗', 'label': '发起', 'manual_content': '你们找到了动作了吗'}, {'type': '评价', 'content': '嗯，细心', 'label': '评价', 'manual_content': '嗯，细心'}, {'type': '发起', 'content': '还有呢', 'label': '发起', 'manual_content': '还有呢'}, {'type': '讲解', 'content': '他每天都去浇，天天都去浇水施肥', 'label': '发起', 'manual_content': '他每天都去浇，天天都去浇水施肥'}, {'type': '讲解', 'content': '说明他怎么样', 'label': '发起', 'manual_content': '说明他怎么样'}, {'type': '评价', 'content': '对，非常勤劳', 'label': '评价', 'manual_content': '对，非常勤劳'}, {'type': '评价', 'content': '猴子是不是很勤劳', 'label': '评价', 'manual_content': '猴子是不是很勤劳'}, {'type': '讲解', 'content': '你们看，这个猴子种树啊，它有一个动作的过程', 'label': '讲解', 'manual_content': '你们看，这个猴子种树啊，它有一个动作的过程'}, {'type': '讲解', 'content': '你们找到了动作了吗', 'label': '发起', 'manual_content': '你们找到了动作了吗'}, {'type': '讲解', 'content': '好，你来', 'label': '发起', 'manual_content': '好，你来'}, {'type': '讲解', 'content': '现在就直接浇水了吗', 'label': '发起', 'manual_content': '现在就直接浇水了吗'}, {'type': '讲解', 'content': '然后呢', 'label': '发起', 'manual_content': '然后呢'}, {'type': '讲解', 'content': '嗯，施肥', 'label': '评价', 'manual_content': '嗯，施肥'}, {'type': '讲解', 'content': '然后等着将来可以吃梨子了', 'label': '讲解', 'manual_content': '然后等着将来可以吃梨子了'}, {'type': '讲解', 'content': '好，我们按照这个顺序啊，把故事的开头自己在下面讲一讲，好不好', 'label': '发起', 'manual_content': '好，我们按照这个顺序啊，把故事的开头自己在下面讲一讲，好不好'}, {'type': '发起', 'content': '好，谁来把故事的开头讲给我们听', 'label': '发起', 'manual_content': '好，谁来把故事的开头讲给我们听'}, {'type': '发起', 'content': '刘若涵，哇，这只猴子呀，真勤劳', 'label': '评价', 'manual_content': '哇，这只猴子呀，真勤劳'}, {'type': '发起', 'content': '而且我看出来了，你整的口水都快流出来了，是不是', 'label': '评价', 'manual_content': '而且我看出来了，你整的口水都快流出来了，是不是'}, {'type': '评价', 'content': '好，非常好', 'label': '评价', 'manual_content': '对，非常勤劳'}, {'type': '讲解', 'content': '那接下来我要加大难度了', 'label': '发起', 'manual_content': '那接下来我要加大难度了'}, {'type': '讲解', 'content': '唉，没有提示你还能不能把刚刚的故事开头讲给我们听', 'label': '发起', 'manual_content': '好，谁来把故事的开头讲给我们听'}, {'type': '发起', 'content': '张文婷，棒不棒', 'label': '发起', 'manual_content': '张文婷，'}, {'type': '发起', 'content': '好熟练啊，把故事啊，这么大声的就告诉我们了', 'label': '评价', 'manual_content': '好熟练啊，把故事啊，这么大声的就告诉我们了'}, {'type': '发起', 'content': '非常好', 'label': '评价', 'manual_content': '好，非常好'}, {'type': '发起', 'content': '这时候谁来', 'label': '发起', 'manual_content': '这时候谁来'}, {'type': '发起', 'content': '这时候谁来', 'label': '发起', 'manual_content': '这时候谁来'}, {'type': '发起', 'content': '你说，乌鸦来', 'label': '发起', 'manual_content': '你说，'}, {'type': '发起', 'content': '好，乌鸦哇哇的对猴子说了什么呢', 'label': '发起', 'manual_content': '好，乌鸦哇哇的对猴子说了什么呢'}, {'type': '发起', 'content': '谁来做一下乌鸦', 'label': '发起', 'manual_content': '谁来做一下乌鸦'}, {'type': '发起', 'content': '董新磊，', 'label': '发起', 'manual_content': '董新磊，'}, {'type': '评价', 'content': '哦，这只小乌鸦读的真好，读的真顺畅啊', 'label': '评价', 'manual_content': '哦，这只小乌鸦读的真好，读的真顺畅啊'}, {'type': '评价', 'content': '再请一只小乌鸦，好，你来小乌鸦', 'label': '发起', 'manual_content': '再请一只小乌鸦，好，你来小乌鸦'}, {'type': '发起', 'content': '哎，小乌鸦你等等啊', 'label': '其它', 'manual_content': '哎，小乌鸦你等等啊'}, {'type': '发起', 'content': '你为什么要连喊两声“猴哥”呀', 'label': '发起', 'manual_content': '你为什么要连喊两声“猴哥”呀'}, {'type': '讲解', 'content': '叫一声就可以了呀', 'label': '发起', 'manual_content': '叫一声就可以了呀'}, {'type': '讲解', 'content': '你为什么还连喊两声呀', 'label': '发起', 'manual_content': '你为什么要连喊两声“猴哥”呀'}, {'type': '讲解', 'content': '你觉得猴哥可能会听不见，是不是啊', 'label': '讲解', 'manual_content': '你觉得猴哥可能会听不见，是不是啊'}, {'type': '发起', 'content': '好的，你连叫两声', 'label': '发起', 'manual_content': '好的，你连叫两声'}, {'type': '发起', 'content': '猴哥，给我听听', 'label': '发起', 'manual_content': '猴哥，给我听听'}, {'type': '讲解', 'content': '哎，猴哥听见了', 'label': '其它', 'manual_content': '哎，猴哥听到了'}, {'type': '发起', 'content': '来，我们学着他的样子', 'label': '发起', 'manual_content': '来，我们学着他的样子'}, {'type': '发起', 'content': '小乌鸦们，叫两声猴哥', 'label': '发起', 'manual_content': '小乌鸦们，叫两声猴哥'}, {'type': '讲解', 'content': '猴哥听见了', 'label': '其它', 'manual_content': '哎，猴哥听到了'}, {'type': '发起', 'content': '好，小乌鸦继续说下去', 'label': '发起', 'manual_content': '好，小乌鸦继续说下去'}, {'type': '发起', 'content': '哎，你怎么种梨树呢', 'label': '发起', 'manual_content': '你怎么种梨树呢'}, {'type': '其它', 'content': '我给你两个选择，好不好', 'label': '发起', 'manual_content': '我给你两个选择，好不好'}, {'type': '发起', 'content': '一是你不可以种梨树，是不是这个意思', 'label': '发起', 'manual_content': '一是你不可以种梨树，是不是这个意思'}, {'type': '发起', 'content': '还是说你可以种梨树', 'label': '发起', 'manual_content': '一是你不可以种梨树，是不是这个意思'}, {'type': '发起', 'content': '应该是第一个选项，是不是', 'label': '讲解', 'manual_content': '应该是第一个选项，是不是'}, {'type': '讲解', 'content': '你怎么种梨树，意思就是说你不可以种梨树啊，是不是啊', 'label': '发起', 'manual_content': '一是你不可以种梨树，是不是这个意思'}, {'type': '讲解', 'content': '哎，这里来一个反问', 'label': '讲解', 'manual_content': '哎，这里来一个反问'}, {'type': '讲解', 'content': '这个语气怎么样', 'label': '讲解', 'manual_content': '这个语气怎么样'}, {'type': '讲解', 'content': '就更着急了，对不对', 'label': '讲解', 'manual_content': '就更着急了，对不对'}, {'type': '讲解', 'content': '这小乌鸦很着急呀，想劝猴子呀，是不是啊', 'label': '讲解', 'manual_content': '这小乌鸦很着急呀，想劝猴子呀，是不是啊'}, {'type': '发起', 'content': '好，来，小乌鸦继续劝下去', 'label': '发起', 'manual_content': '好，小乌鸦继续说下去'}, {'type': '发起', 'content': '好，农谚是什么意思', 'label': '发起', 'manual_content': '好，农谚是什么意思'}, {'type': '发起', 'content': '你说', 'label': '发起', 'manual_content': '你说'}, {'type': '讲解', 'content': '好，这个农谚啊，就是农民伯伯，他们不是长期的在农田里劳动吗', 'label': '讲解', 'manual_content': '好，这个农谚啊，就是农民伯伯，他们不是长期的在农田里劳动吗'}, {'type': '讲解', 'content': '他们把长期劳动的经验浓缩成简单一句话', 'label': '讲解', 'manual_content': '他们把长期劳动的经验浓缩成简单一句话'}, {'type': '发起', 'content': '这里的农谚是什么', 'label': '发起', 'manual_content': '好，农谚是什么意思'}, {'type': '发起', 'content': '“对梨五杏四”是什么意思啊', 'label': '发起', 'manual_content': '对“梨五杏四”是什么意思啊'}, {'type': '讲解', 'content': '你看，这么长的话，它用四个字就能概括，是不是啊', 'label': '讲解', 'manual_content': '你看，这么长的话，它用四个字就能概括，是不是啊'}, {'type': '评价', 'content': '很好，说了一句农谚', 'label': '评价', 'manual_content': '很好，说了一句农谚'}, {'type': '讲解', 'content': '小乌鸦对着猴哥说了一句农谚', 'label': '评价', 'manual_content': '很好，说了一句农谚'}, {'type': '发起', 'content': '接着说下去', 'label': '发起', 'manual_content': '接着说下去'}, {'type': '发起', 'content': '哎呀，小乌鸦，你在这里又来了一问，说明你怎么样啊', 'label': '发起', 'manual_content': '哎呀，小乌鸦，你在这里又来了一问，说明你怎么样啊'}, {'type': '其它', 'content': '哦，你有这个耐心吗', 'label': '讲解', 'manual_content': '哦，你有这个耐心吗'}, {'type': '其它', 'content': '就是说你没这个耐心啊，是不是啊', 'label': '讲解', 'manual_content': '就是说你没这个耐心啊，是不是啊'}, {'type': '讲解', 'content': '你看，这里又来一问，语气就更强烈', 'label': '讲解', 'manual_content': '你看，这里又来一问，语气就更强烈'}, {'type': '评价', 'content': '真棒', 'label': '评价', 'manual_content': '真棒'}, {'type': '发起', 'content': '哪知小乌鸦再来试试看，再来劝劝猴哥', 'label': '发起', 'manual_content': '哪知小乌鸦再来试试看，再来劝劝猴哥'}, {'type': '发起', 'content': '你来，欢迎陈一坤', 'label': '发起', 'manual_content': '你来，欢迎陈一坤'}, {'type': '评价', 'content': '哎，这只小乌鸦讲的好不好', 'label': '评价', 'manual_content': '哎，这只小乌鸦讲的好不好'}, {'type': '评价', 'content': '非常棒，真好', 'label': '评价', 'manual_content': '非常棒，真好'}, {'type': '发起', 'content': '来，加上前面这一段', 'label': '发起', 'manual_content': '来，加上前面这一段'}, {'type': '发起', 'content': '来，小乌鸦，我建议你们自己在下面练一练，说一说', 'label': '发起', 'manual_content': '来，小乌鸦，我建议你们自己在下面练一练，说一说'}, {'type': '发起', 'content': '啊，谁来做小乌鸦来劝劝猴子', 'label': '发起', 'manual_content': '啊，谁来做小乌鸦来劝劝猴子'}, {'type': '发起', 'content': '好，梁振轩', 'label': '发起', 'manual_content': '好，梁振轩'}, {'type': '评价', 'content': '嗯，非常好，给他掌声', 'label': '评价', 'manual_content': '嗯，非常好，给他掌声'}, {'type': '讲解', 'content': '猴哥听了，肯定有想法了，是不是呀', 'label': '其他', 'manual_content': '猴哥听了，肯定有想法了，是不是呀'}, {'type': '发起', 'content': '哎，好，那一只小乌鸦再来试试', 'label': '发起', 'manual_content': '哎，好，那一只小乌鸦再来试试'}, {'type': '评价', 'content': '刚刚这只小乌鸦真不错，真是一只热情的小乌鸦', 'label': '评价', 'manual_content': '刚刚这只小乌鸦真不错，真是一只热情的小乌鸦'}, {'type': '发起', 'content': '好，你来', 'label': '发起', 'manual_content': '好，你来'}, {'type': '评价', 'content': '嗯，为这只热情的小乌鸦鼓掌', 'label': '评价', 'manual_content': '嗯，为这只热情的小乌鸦鼓掌'}, {'type': '其它', 'content': '啊啊，好', 'label': '评价', 'manual_content': '啊啊，好'}, {'type': '发起', 'content': '除了乌鸦劝猴子，故事里还有谁在劝猴子了', 'label': '发起', 'manual_content': '除了乌鸦劝猴子，故事里还有谁在劝猴子了'}, {'type': '发起', 'content': '嗯，先把书拿出来好不好', 'label': '发起', 'manual_content': '嗯，先把书拿出来好不好'}, {'type': '发起', 'content': '来，把书现在打开，把书翻到四十六页啊，四十七页', 'label': '发起', 'manual_content': '来，把书现在打开，把书翻到四十六页啊，四十七页'}, {'type': '其它', 'content': '找到之后，把那个自己读一读', 'label': '发起', 'manual_content': '找到之后，把那个自己读一读'}, {'type': '发起', 'content': '好，除了乌鸦来劝猴子，还有谁来了', 'label': '发起', 'manual_content': '除了乌鸦劝猴子，故事里还有谁在劝猴子了'}, {'type': '发起', 'content': '来，你来说', 'label': '发起', 'manual_content': '好，你来'}, {'type': '讲解', 'content': '嗯，喜鹊和杜鹃', 'label': '评价', 'manual_content': '嗯，喜鹊和杜鹃'}, {'type': '发起', 'content': '好，你来读读喜鹊是怎么对猴子说的', 'label': '发起', 'manual_content': '你来读读喜鹊是怎么对猴子说的'}, {'type': '评价', 'content': '也是一只热情的小喜鹊', 'label': '评价', 'manual_content': '好，也是一只热情的小喜鹊'}, {'type': '发起', 'content': '好，谁再来做做喜鹊来读读这段话', 'label': '发起', 'manual_content': '好，谁再来做做喜鹊来读读这段话'}, {'type': '发起', 'content': '好，你呃，我请来你来', 'label': '发起', 'manual_content': '好，你来'}, {'type': '发起', 'content': '这样子，我请女孩子来给大家读，好不好', 'label': '发起', 'manual_content': '这样子，我请女孩子来给大家读，好不好'}, {'type': '其它', 'content': '正当杏树成活的时候，预备齐', 'label': '发起', 'manual_content': '正当杏树成活的时候，预备齐'}, {'type': '发起', 'content': '好，接下来还有哪只鸟来劝猴子了', 'label': '发起', 'manual_content': '好，接下来还有哪只鸟来劝猴子了'}, {'type': '讲解', 'content': '嗯，这个森林里太热闹了，是不是', 'label': '其它', 'manual_content': '嗯，这个森林里太热闹了，是不是'}, {'type': '发起', 'content': '来，薛子浩，你来说说', 'label': '发起', 'manual_content': '来，你来说'}, {'type': '评价', 'content': '嗯，真是一只可爱的小杜鹃', 'label': '评价', 'manual_content': '嗯，真是一只可爱的小杜鹃'}, {'type': '其它', 'content': '请坐', 'label': '其它', 'manual_content': '请坐'}, {'type': '发起', 'content': '好，再请一个同学来试试看', 'label': '发起', 'manual_content': '好，再请一个同学来试试看'}, {'type': '发起', 'content': '好，桓齐', 'label': '发起', 'manual_content': '好，桓齐'}, {'type': '评价', 'content': '嗯，谢谢你，小杜鹃', 'label': '评价', 'manual_content': '嗯，谢谢你，小杜鹃'}, {'type': '讲解', 'content': '猴哥听到了', 'label': '其它', 'manual_content': '猴哥听到了'}, {'type': '发起', 'content': '好，这课要请男孩子来做杜鹃，好不好', 'label': '发起', 'manual_content': '这样子，我请女孩子来给大家读，好不好'}, {'type': '发起', 'content': '把这段话来读一读啊', 'label': '发起', 'manual_content': '把这段话来读一读啊'}, {'type': '其它', 'content': '正当桃树成活的时候，预备起', 'label': '发起', 'manual_content': '正当杏树成活的时候，预备齐'}, {'type': '评价', 'content': '真的是男孩子今天读的真好，而且很多女孩子也在认真听，我也要表扬，非常好啊', 'label': '评价', 'manual_content': '真的是男孩子今天读的真好，而且很多女孩子也在认真听，我也要表扬，非常好啊'}, {'type': '发起', 'content': '来，同学们，你们来看啊', 'label': '讲解', 'manual_content': '来，同学们，你们来看啊'}, {'type': '讲解', 'content': '乌鸦、喜鹊、杜鹃都来劝猴子了', 'label': '讲解', 'manual_content': '乌鸦、喜鹊、杜鹃都来劝猴子了'}, {'type': '讲解', 'content': '他们劝猴子说的话的时候又有什么相似之处吗', 'label': '讲解', 'manual_content': '他们劝猴子说的话的时候又有什么相似之处吗'}, {'type': '讲解', 'content': '找找规律看', 'label': '讲解', 'manual_content': '找找规律看'}, {'type': '发起', 'content': '秦源，你找到什么', 'label': '发起', 'manual_content': '秦源，你找到什么'}, {'type': '评价', 'content': '很好，对不对', 'label': '评价', 'manual_content': '很好，对不对'}, {'type': '发起', 'content': '它们的叫声对不对', 'label': '发起', 'manual_content': '它们的叫声对不对'}, {'type': '发起', 'content': '那我们来继续看啊', 'label': '发起', 'manual_content': '那我们来继续看啊'}, {'type': '讲解', 'content': '乌鸦、喜鹊、杜鹃，哎，很好，谁都有叫声', 'label': '讲解', 'manual_content': '乌鸦、喜鹊、杜鹃都来劝猴子了'}, {'type': '评价', 'content': '好，他找到的相似处真棒', 'label': '评价', 'manual_content': '好，他找到的相似处真棒'}, {'type': '讲解', 'content': '还有一个，一共三段话', 'label': '发起', 'manual_content': '还有一个，一共三段话'}, {'type': '讲解', 'content': '好，农谚', 'label': '评价', 'manual_content': '好，农谚'}, {'type': '讲解', 'content': '那么在农谚之前，先连叫几声猴哥，对', 'label': '发起', 'manual_content': '那么在农谚之前，先连叫几声猴哥，'}, {'type': '讲解', 'content': '你们看，乌鸦对猴子说也是“猴哥猴哥”', 'label': '讲解', 'manual_content': '你们看，乌鸦对猴子说也是“猴哥猴哥”'}, {'type': '讲解', 'content': '喜鹊对猴子说也是“猴哥猴哥”', 'label': '讲解', 'manual_content': '你们看，乌鸦对猴子说也是“猴哥猴哥”'}, {'type': '讲解', 'content': '对，对，杜鹃对猴子说的时候，也是连叫两声“猴哥猴哥”', 'label': '讲解', 'manual_content': '你们看，乌鸦对猴子说也是“猴哥猴哥”'}, {'type': '讲解', 'content': '这个三只小鸟也是非常急，对不对', 'label': '讲解', 'manual_content': '这个三只小鸟也是非常急，对不对'}, {'type': '讲解', 'content': '想要叫猴哥听到是不是', 'label': '讲解', 'manual_content': '想要叫猴哥听到是不是'}, {'type': '讲解', 'content': '然后再像周浩天说的一样，要来一句问句，对不对', 'label': '讲解', 'manual_content': '然后再像周浩天说的一样，要来一句问句，对不对'}, {'type': '发起', 'content': '你怎么种梨树呢', 'label': '讲解', 'manual_content': '你怎么种梨树呢'}, {'type': '讲解', 'content': '喜鹊说“你怎么种杏树呢', 'label': '讲解', 'manual_content': '你怎么种梨树呢'}, {'type': '讲解', 'content': '”杜鹃说“猴哥猴哥，你怎么种桃树呢', 'label': '讲解', 'manual_content': '喜鹊说“你怎么种杏树呢'}, {'type': '讲解', 'content': '”意思都在说你不可以种杏树，你不可以种桃树', 'label': '讲解', 'manual_content': '”意思都在说你不可以种杏树，你不可以种桃树'}, {'type': '发起', 'content': '好，然后再来一句农谚', 'label': '评价', 'manual_content': '好，农谚'}, {'type': '发起', 'content': '好，来', 'label': '评价', 'manual_content': '好，农谚'}, {'type': '讲解', 'content': '还有，你说，有句农谚就是说了农谚，对', 'label': '评价', 'manual_content': '有句农谚就是说了农谚，对'}, {'type': '讲解', 'content': '就是在说这个重量级，对不对', 'label': '讲解', 'manual_content': '就是在说这个重量级，对不对'}, {'type': '发起', 'content': '来，最后一句“你有这个耐心吗', 'label': '发起', 'manual_content': '来，最后一句“你有这个耐心吗'}, {'type': '发起', 'content': '”', 'label': '发起', 'manual_content': '”'}, {'type': '发起', 'content': '然后再找第四段，喜鹊对猴子说最后一句话是', 'label': '发起', 'manual_content': '然后再找第四段，喜鹊对猴子说最后一句话是'}, {'type': '其它', 'content': '有的同学没有找到，没有在认真听讲', 'label': '评价', 'manual_content': '有的同学没有找到，没有在认真听讲'}, {'type': '其它', 'content': '要找的快呀，认真一点', 'label': '评价', 'manual_content': '要找的快呀，认真一点'}, {'type': '其它', 'content': '现在都在录课，还有人脚是没有放平', 'label': '评价', 'manual_content': '现在都在录课，还有人脚是没有放平'}, {'type': '其它', 'content': '今天都要练习一下坐姿', 'label': '评价', 'manual_content': '今天都要练习一下坐姿'}, {'type': '发起', 'content': '好，然后，', 'label': '讲解', 'manual_content': '好，然后再来一句农谚'}, {'type': '发起', 'content': '好，杜鹃对猴子说的最后一句话是什么', 'label': '发起', 'manual_content': '然后再找第四段，喜鹊对猴子说最后一句话是'}, {'type': '发起', 'content': '好，把三句话来说一说', 'label': '发起', 'manual_content': '好，把三句话来说一说'}, {'type': '发起', 'content': '我再问乌鸦对猴子说的最后一句话是什么', 'label': '发起', 'manual_content': '我再问乌鸦对猴子说的最后一句话是什么'}, {'type': '发起', 'content': '好，喜鹊对猴子说的最后一句话', 'label': '发起', 'manual_content': '我再问乌鸦对猴子说的最后一句话是什么'}, {'type': '发起', 'content': '杜鹃对猴子说的最后一句话', 'label': '发起', 'manual_content': '我再问乌鸦对猴子说的最后一句话是什么'}, {'type': '发起', 'content': '三句话意思一样吗', 'label': '发起', 'manual_content': '三句话意思一样吗'}, {'type': '讲解', 'content': '对，一样', 'label': '评价', 'manual_content': '对，一样'}, {'type': '讲解', 'content': '但是为什么这里他的说法不一样', 'label': '讲解', 'manual_content': '但是为什么这里他的说法不一样'}, {'type': '发起', 'content': '你有这么耐心吗', 'label': '讲解', 'manual_content': '你有这么耐心吗'}, {'type': '发起', 'content': '你能等得及吗', 'label': '讲解', 'manual_content': '你能等得及吗'}, {'type': '发起', 'content': '你不着急吗', 'label': '讲解', 'manual_content': '你不着急吗'}, {'type': '讲解', 'content': '都在说猴子怎么样', 'label': '讲解', 'manual_content': '都在说猴子怎么样'}, {'type': '讲解', 'content': '都在说猴子会着急，没耐心，等不及', 'label': '讲解', 'manual_content': '都在说猴子会着急，没耐心，等不及'}, {'type': '讲解', 'content': '是不是啊', 'label': '讲解', 'manual_content': '是不是啊'}, {'type': '讲解', 'content': '这个猴子越来越着急，是的啊', 'label': '讲解', 'manual_content': '这个猴子越来越着急，'}, {'type': '讲解', 'content': '在这里他有三个不同的想法', 'label': '评价', 'manual_content': '在这里他有三个不同的想法'}, {'type': '评价', 'content': '很好，你说还有什么', 'label': '发起', 'manual_content': '你说还有什么'}, {'type': '其它', 'content': '啊，很好', 'label': '评价', 'manual_content': '很好，'}, {'type': '讲解', 'content': '他说出一个特点来', 'label': '评价', 'manual_content': '他说出一个特点来'}, {'type': '发起', 'content': '这三句为什么不一样', 'label': '讲解', 'manual_content': '但是为什么这里他的说法不一样'}, {'type': '讲解', 'content': '如果三句都一样就没意思了', 'label': '讲解', 'manual_content': '如果三句都一样就没意思了'}, {'type': '讲解', 'content': '读起来是不是这样子', 'label': '讲解', 'manual_content': '读起来是不是这样子'}, {'type': '讲解', 'content': '让这个故事更丰富', 'label': '讲解', 'manual_content': '让这个故事更丰富'}, {'type': '评价', 'content': '很好', 'label': '评价', 'manual_content': '好'}, {'type': '讲解', 'content': '同样的意思可以用不同的句子来表达', 'label': '讲解', 'manual_content': '同样的意思可以用不同的句子来表达'}, {'type': '讲解', 'content': '这就是我们中国语言的神秘之处啊', 'label': '讲解', 'manual_content': '这就是我们中国语言的神秘之处啊'}, {'type': '讲解', 'content': '我们中国语言文字的奥秘所在', 'label': '讲解', 'manual_content': '这就是我们中国语言的神秘之处啊'}, {'type': '发起', 'content': '好，你说，你有什么补充', 'label': '发起', 'manual_content': '你说还有什么'}, {'type': '评价', 'content': '好，谢谢你的发现', 'label': '评价', 'manual_content': '好，谢谢你的发现'}, {'type': '发起', 'content': '你来说，正当他们成活的时候，是不是', 'label': '发起', 'manual_content': '你来说，正当他们成活的时候，是不是'}, {'type': '评价', 'content': '好，非常好', 'label': '评价', 'manual_content': '好，非常好'}, {'type': '发起', 'content': '来，孩子们，这三段话居然找到相似之处', 'label': '发起', 'manual_content': '来，孩子们，这三段话居然找到相似之处'}, {'type': '发起', 'content': '哎，那我们讲这个故事的时候，是不是觉得很好讲', 'label': '发起', 'manual_content': '哎，那我们讲这个故事的时候，是不是觉得很好讲'}, {'type': '讲解', 'content': '是的', 'label': '评价', 'manual_content': '是的啊'}, {'type': '发起', 'content': '好的，自己选一个角色', 'label': '发起', 'manual_content': '好的，自己选一个角色'}, {'type': '发起', 'content': '你可以选乌鸦，可以选喜鹊，也可以选杜鹃', 'label': '发起', 'manual_content': '你可以选乌鸦，可以选喜鹊，也可以选杜鹃'}, {'type': '发起', 'content': '把他的这段话自己在下面练讲', 'label': '发起', 'manual_content': '把他的这段话自己在下面练讲'}, {'type': '发起', 'content': '等一会儿像高婷一样站起来啊，很熟练的啊，很有感情的告诉给大家', 'label': '发起', 'manual_content': '等一会儿像高婷一样站起来啊，很熟练的啊，很有感情的告诉给大家'}, {'type': '发起', 'content': '好的啊，自己练好了，是不是', 'label': '发起', 'manual_content': '好的啊，自己练好了，是不是'}, {'type': '发起', 'content': '那可以讲给你的同桌好朋友听啊', 'label': '发起', 'manual_content': '那可以讲给你的同桌好朋友听啊'}, {'type': '发起', 'content': '哎，如果你是讲乌鸦的话，你讲给同桌听', 'label': '发起', 'manual_content': '哎，如果你是讲乌鸦的话，你讲给同桌听'}, {'type': '发起', 'content': '同桌如果讲喜趣的话呢', 'label': '发起', 'manual_content': '同桌如果讲喜趣的话呢'}, {'type': '发起', 'content': '那要反过来讲', 'label': '发起', 'manual_content': '那要反过来讲'}, {'type': '其它', 'content': '等一会下课再出去，啊', 'label': '其它', 'manual_content': '等一会下课再出去，啊'}, {'type': '发起', 'content': '是不是讲得差不多了', 'label': '发起', 'manual_content': '是不是讲得差不多了'}, {'type': '发起', 'content': '来，小乌鸦来试试', 'label': '发起', 'manual_content': '来，小乌鸦来试试'}, {'type': '其它', 'content': '那等一会儿吧，我们毕竟有三十八个同学在等你们两个，那太不好了啊', 'label': '其它', 'manual_content': '那等一会儿吧，我们毕竟有三十八个同学在等你们两个，那太不好了啊'}, {'type': '发起', 'content': '那再给你一点时间啊', 'label': '其它', 'manual_content': '那再给你一点时间啊'}, {'type': '评价', 'content': '哎，你们很好，尊重其他同学啊', 'label': '评价', 'manual_content': '哎，你们很好，尊重其他同学啊'}, {'type': '发起', 'content': '好，谁来试试', 'label': '发起', 'manual_content': '来，小乌鸦来试试'}, {'type': '发起', 'content': '我们先请小乌鸦，好吧', 'label': '发起', 'manual_content': '我们先请小乌鸦，好吧'}, {'type': '发起', 'content': '谁是刚刚练了小乌鸦的话', 'label': '发起', 'manual_content': '谁是刚刚练了小乌鸦的话'}, {'type': '发起', 'content': '好，王子辰，这只乌鸦怎么样，好不好哦', 'label': '评价', 'manual_content': '这只乌鸦怎么样，好不好哦'}, {'type': '评价', 'content': '好厉害啊，这么一段话他都能够讲的啊，真的像故事里森林里那只飞来的小乌鸦', 'label': '评价', 'manual_content': '好厉害啊，这么一段话他都能够讲的啊，真的像故事里森林里那只飞来的小乌鸦'}, {'type': '发起', 'content': '如果我们是猴哥的话，肯定是怎么样', 'label': '评价', 'manual_content': '如果我们是猴哥的话，肯定是怎么样'}, {'type': '发起', 'content': '要听他的话，非常好啊', 'label': '评价', 'manual_content': '要听他的话，非常好啊'}, {'type': '其它', 'content': '下课方老师要给你敲个章，别忘了啊', 'label': '评价', 'manual_content': '下课方老师要给你敲个章，别忘了啊'}, {'type': '评价', 'content': '好，哪只小乌鸦再来试试', 'label': '发起', 'manual_content': '来，小乌鸦来试试'}, {'type': '讲解', 'content': '还可以加动作啊', 'label': '发起', 'manual_content': '还可以加动作啊'}, {'type': '讲解', 'content': '对嘛吧，这种动作加上就更好了啊', 'label': '评价', 'manual_content': '对嘛吧，这种动作加上就更好了啊'}, {'type': '讲解', 'content': '因为讲故事嘛，不要一本正经，是不是', 'label': '讲解', 'manual_content': '因为讲故事嘛，不要一本正经，是不是'}, {'type': '讲解', 'content': '可以表演一些动作，表情行都可以出来啊', 'label': '讲解', 'manual_content': '可以表演一些动作，表情行都可以出来啊'}, {'type': '发起', 'content': '好，你来试试，我们在讲乌鸦', 'label': '发起', 'manual_content': '好，谁来试试'}, {'type': '发起', 'content': '好的，等一会请你好不好', 'label': '发起', 'manual_content': '好的，等一会请你好不好'}, {'type': '发起', 'content': '好，你这样吧，你上来吧，好不好', 'label': '发起', 'manual_content': '好，你这样吧，你上来吧，好不好'}, {'type': '其它', 'content': '我上来讲好不好', 'label': '发起', 'manual_content': '我上来讲好不好'}, {'type': '其它', 'content': '来，掌声鼓励一起', 'label': '发起', 'manual_content': '来，掌声鼓励一起'}, {'type': '其它', 'content': '哎呦，你看这只小乌鸦，你看一边飞，一边叫，好辛苦啊', 'label': '评价', 'manual_content': '哎呦，你看这只小乌鸦，你看一边飞，一边叫，好辛苦啊'}, {'type': '发起', 'content': '来，给他鼓励一点，有没有给他好的建议', 'label': '发起', 'manual_content': '来，给他鼓励一点，有没有给他好的建议'}, {'type': '发起', 'content': '不要一直飞，是不是啊', 'label': '讲解', 'manual_content': '因为讲故事嘛，不要一本正经，是不是'}, {'type': '发起', 'content': '可以怎么样', 'label': '讲解', 'manual_content': '可以怎么样'}, {'type': '发起', 'content': '可以换换其他动作', 'label': '发起', 'manual_content': '还可以加动作啊'}, {'type': '讲解', 'content': '比如说梨五杏四啊，梨树要等五年才能结果', 'label': '讲解', 'manual_content': '比如说梨五杏四啊，梨树要等五年才能结果'}, {'type': '讲解', 'content': '你有这个耐心吗', 'label': '讲解', 'manual_content': '你有这个耐心吗'}, {'type': '讲解', 'content': '可以这种动作做出来，好不好', 'label': '讲解', 'manual_content': '可以这种动作做出来，好不好'}, {'type': '评价', 'content': '哎呦，好样的啊，能不能更好一点了', 'label': '评价', 'manual_content': '哎呦，好样的啊，能不能更好一点了'}, {'type': '发起', 'content': '能够把故事讲用一个', 'label': '讲解', 'manual_content': '能够把故事讲得用一个'}, {'type': '发起', 'content': '第二个能加上动作', 'label': '讲解', 'manual_content': '第二个能加上动作'}, {'type': '发起', 'content': '来来，第三个能不能表演得更好', 'label': '发起', 'manual_content': '来来，第三个能不能表演得更好'}, {'type': '发起', 'content': '哎，加上表情啊', 'label': '发起', 'manual_content': '哎，加上表情啊'}, {'type': '发起', 'content': '你来试试', 'label': '发起', 'manual_content': '你来试试'}, {'type': '发起', 'content': '你是读乌鸦的话是吗', 'label': '发起', 'manual_content': '你是读乌鸦的话是吗'}, {'type': '发起', 'content': '来，上来小乌鸦', 'label': '发起', 'manual_content': '来，上来小乌鸦'}, {'type': '发起', 'content': '有请小乌鸦', 'label': '发起', 'manual_content': '有请小乌鸦'}, {'type': '评价', 'content': '嗯，很好，表演得非常不错', 'label': '评价', 'manual_content': '嗯，很好，表演得非常不错'}, {'type': '评价', 'content': '三只小乌鸦都非常棒', 'label': '评价', 'manual_content': '三只小乌鸦都非常棒'}, {'type': '评价', 'content': '你们三个小朋友都可以参加', 'label': '其它', 'manual_content': '你们三个小朋友都可以参加'}, {'type': '发起', 'content': '好，接下来请演喜鹊的小朋友', 'label': '发起', 'manual_content': '好，接下来请演喜鹊的小朋友'}, {'type': '发起', 'content': '谁来讲讲喜鹊的话', 'label': '发起', 'manual_content': '谁来讲讲喜鹊的话'}, {'type': '发起', 'content': '好，恭请', 'label': '发起', 'manual_content': '好，恭请'}, {'type': '其它', 'content': '啊，下面的小听众也要注意了啊，人家上面表演得那么认真，那你下面也要尊重这些小演员啊', 'label': '评价', 'manual_content': '啊，下面的小听众也要注意了啊，人家上面表演得那么认真，那你下面也要尊重这些小演员啊'}, {'type': '评价', 'content': '咦，这个动作啊，非常可爱啊', 'label': '评价', 'manual_content': '咦，这个动作啊，非常可爱啊'}, {'type': '评价', 'content': '好的', 'label': '评价', 'manual_content': '好的'}, {'type': '其它', 'content': '哎，如果这个再讲得通顺一点就更好了，是不是', 'label': '评价', 'manual_content': '哎，如果这个再讲得通顺一点就更好了，是不是'}, {'type': '其它', 'content': '我来找下面讲话的小朋友，这样不好', 'label': '评价', 'manual_content': '我来找下面讲话的小朋友，这样不好'}, {'type': '其它', 'content': '哎，哪怕他做得不好，你也不可以在下面窃窃私语，这是对别人的尊重', 'label': '评价', 'manual_content': '哎，哪怕他做得不好，你也不可以在下面窃窃私语，这是对别人的尊重'}, {'type': '其它', 'content': '你最起码得耐心地听别人讲完', 'label': '评价', 'manual_content': '你最起码得耐心地听别人讲完'}, {'type': '其它', 'content': '他读错一个字或者漏掉一个字，现在都没关系', 'label': '评价', 'manual_content': '他读错一个字或者漏掉一个字，现在都没关系'}, {'type': '其它', 'content': '那我请你来，你还不如她呢，不能在下面讲啊', 'label': '评价', 'manual_content': '那我请你来，你还不如她呢，不能在下面讲啊'}, {'type': '评价', 'content': '来，我要表扬，能够举手，勇敢上台表扬的小朋友啊', 'label': '评价', 'manual_content': '来，我要表扬,能够举手,勇敢上台表扬的小朋友啊.'}, {'type': '发起', 'content': '好，开始', 'label': '发起', 'manual_content': '好,开始.'}, {'type': '发起', 'content': '好，如果你实在背不出啊，讲不出呢，方老师给你个提示啊', 'label': '发起', 'manual_content': '好，如果你实在背不出啊，讲不出呢，方老师给你个提示啊'}, {'type': '其它', 'content': '那正当杏树，我们在讲喜鹊，我们现在讲喜鹊', 'label': '发起', 'manual_content': '我们在讲喜鹊，我们现在讲喜鹊'}, {'type': '发起', 'content': '那你刚刚准备的是哪只', 'label': '发起', 'manual_content': '那你刚刚准备的是哪只'}, {'type': '发起', 'content': '好，等会儿演杜鹃的时候，我再请你来', 'label': '发起', 'manual_content': '好，等会儿演杜鹃的时候，我再请你来'}, {'type': '其它', 'content': '我再请刚刚在下面做小动作的同学，脸抬起来', 'label': '评价', 'manual_content': '我再请刚刚在下面做小动作的同学，脸抬起来'}, {'type': '发起', 'content': '你不想来', 'label': '评价', 'manual_content': '你不想来'}, {'type': '发起', 'content': '那你来', 'label': '发起', 'manual_content': '你来试试'}, {'type': '其它', 'content': '隔壁脸，一点都不难为情', 'label': '评价', 'manual_content': '隔壁脸，一点都不难为情'}, {'type': '其它', 'content': '现在在录课，你不懂难为情的', 'label': '评价', 'manual_content': '现在在录课，你不懂难为情的'}, {'type': '发起', 'content': '你来讲喜鹊的话', 'label': '发起', 'manual_content': '谁来讲讲喜鹊的话'}, {'type': '发起', 'content': '你刚准备了谁的', 'label': '发起', 'manual_content': '那你刚刚准备的是哪只'}, {'type': '讲解', 'content': '不行，你按照老师的要求去做', 'label': '评价', 'manual_content': '不行，你按照老师的要求去做'}, {'type': '其它', 'content': '请坐', 'label': '其他', 'manual_content': '请坐'}, {'type': '评价', 'content': '要批评', 'label': '评价', 'manual_content': '要批评'}, {'type': '发起', 'content': '你等会儿三十秒的话都到我这来', 'label': '评价', 'manual_content': '你等会儿三十秒的话都到我这来'}, {'type': '讲解', 'content': '一定要积极思考，不是自己坐在那里', 'label': '评价', 'manual_content': '一定要积极思考，不是自己坐在那里'}, {'type': '讲解', 'content': '想不读就不读', 'label': '评价', 'manual_content': '想不读就不读'}, {'type': '讲解', 'content': '还有，也不是在那里随便想讲话就讲话', 'label': '评价', 'manual_content': '也不是在那里随便想讲话就讲话'}, {'type': '发起', 'content': '你坐端正，坐好，快点坐下来', 'label': '评价', 'manual_content': '你坐端正，坐好，快点坐下来'}, {'type': '发起', 'content': '对，没有举手的我也要请', 'label': '评价', 'manual_content': '对，没有举手的我也要请'}, {'type': '讲解', 'content': '上课，就要积极开动脑筋', 'label': '评价', 'manual_content': '上课，就要积极开动脑筋'}, {'type': '讲解', 'content': '像上次开汇总课一样', 'label': '评价', 'manual_content': '像上次开汇总课一样'}, {'type': '讲解', 'content': '每个同学都认真举手', 'label': '评价', 'manual_content': '每个同学都认真举手'}, {'type': '发起', 'content': '好，往下面来', 'label': '发起', 'manual_content': '好，往下面来'}, {'type': '发起', 'content': '你是读喜鹊的话啊', 'label': '发起', 'manual_content': '你是读喜鹊的话啊'}, {'type': '发起', 'content': '喜鹊来啊，喜鹊小喜鹊停来上来来表演啊', 'label': '发起', 'manual_content': '喜鹊来啊，喜鹊小喜鹊停来上来来表演啊'}, {'type': '讲解', 'content': '忘记了，可以稍微看一下啊', 'label': '发起', 'manual_content': '忘记了，可以稍微看一下啊'}, {'type': '讲解', 'content': '杏四桃三', 'label': '评价', 'manual_content': '杏四桃三'}, {'type': '讲解', 'content': '请坐啊', 'label': '其他', 'manual_content': '请坐'}, {'type': '讲解', 'content': '虽然她讲的不流畅啊，但是他确实是勇敢的上台', 'label': '评价', 'manual_content': '虽然她讲的不流畅啊，但是他确实是勇敢的上台'}, {'type': '讲解', 'content': '而且他刚刚坐在下面是认真听的啊', 'label': '评价', 'manual_content': '而且他刚刚坐在下面是认真听的啊'}, {'type': '讲解', 'content': '最起码比下面不敢举手的小朋友要勇敢', 'label': '评价', 'manual_content': '最起码比下面不敢举手的小朋友要勇敢'}, {'type': '讲解', 'content': '这一点我就要鼓励', 'label': '评价', 'manual_content': '这一点我就要鼓励'}, {'type': '发起', 'content': '你是喜鹊来', 'label': '发起', 'manual_content': '你是读喜鹊的话啊'}, {'type': '发起', 'content': '再请只喜鹊', 'label': '发起', 'manual_content': '再请只喜鹊'}, {'type': '评价', 'content': '喜鹊没有刚刚乌鸦讲的好', 'label': '评价', 'manual_content': '喜鹊没有刚刚乌鸦讲的好'}, {'type': '发起', 'content': '对，我要请只非常棒的小喜鹊', 'label': '发起', 'manual_content': '对，我要请只非常棒的小喜鹊'}, {'type': '发起', 'content': '嗯，哎，掌声鼓励', 'label': '发起', 'manual_content': '嗯，哎，掌声鼓励'}, {'type': '讲解', 'content': '但是讲小故事的小朋友不是背书，可以加上动作', 'label': '讲解', 'manual_content': '但是讲小故事的小朋友不是背书，可以加上动作'}, {'type': '讲解', 'content': '像刚刚几只小乌鸦就扮演的非常好啊', 'label': '讲解', 'manual_content': '像刚刚几只小乌鸦就扮演的非常好啊'}, {'type': '发起', 'content': '好，接下来请来演小杜鹃', 'label': '发起', 'manual_content': '好，接下来请来演小杜鹃'}, {'type': '发起', 'content': '好的，你来', 'label': '发起', 'manual_content': '好，往下面来'}, {'type': '其它', 'content': '嗯，我的书在上面', 'label': '发起', 'manual_content': '嗯，我的书在上面'}, {'type': '讲解', 'content': '你实在忘记了，可以看一下提示啊', 'label': '发起', 'manual_content': '忘记了，可以稍微看一下啊'}, {'type': '发起', 'content': '你有这个耐心吗', 'label': '评价', 'manual_content': '你有这个耐心吗'}, {'type': '发起', 'content': '你前面用过了，前面乌鸦已经说过了', 'label': '评价', 'manual_content': '你前面用过了，前面乌鸦已经说过了'}, {'type': '发起', 'content': '请坐好，掌声鼓励一下', 'label': '发起', 'manual_content': '嗯，哎，掌声鼓励'}, {'type': '讲解', 'content': '小杜鹃有点严肃啊', 'label': '评价', 'manual_content': '小杜鹃有点严肃啊'}, {'type': '发起', 'content': '好啦，这小杜鹃可爱一点，活泼一点', 'label': '评价', 'manual_content': '好啦，这小杜鹃可爱一点，活泼一点'}, {'type': '发起', 'content': '猴哥猴哥，着急一点好不好', 'label': '评价', 'manual_content': '猴哥猴哥，着急一点好不好'}, {'type': '发起', 'content': '来，谁再来演一演', 'label': '发起', 'manual_content': '来，谁再来演一演'}, {'type': '发起', 'content': '你来罗若涵', 'label': '发起', 'manual_content': '你来罗若涵'}, {'type': '评价', 'content': '结果你有这么大耐心吗', 'label': '评价', 'manual_content': '你有这个耐心吗'}, {'type': '评价', 'content': '你有这个耐心，谁说过了啊', 'label': '评价', 'manual_content': '你有这个耐心吗'}, {'type': '其它', 'content': '乌鸦说过了，咱们不重复', 'label': '评价', 'manual_content': '乌鸦说过了，咱们不重复'}, {'type': '发起', 'content': '你不着急吗', 'label': '讲解', 'manual_content': '你不着急吗'}, {'type': '发起', 'content': '意思就是说你会着急的，是不是啊', 'label': '讲解', 'manual_content': '意思就是说你会着急的，是不是啊'}, {'type': '讲解', 'content': '意思一样啊', 'label': '讲解', 'manual_content': '意思一样啊'}, {'type': '评价', 'content': '好，很好，掌声鼓励', 'label': '评价', 'manual_content': '好，很好，掌声鼓励'}, {'type': '讲解', 'content': '听了三只鸟儿的话，猴子可有想法了', 'label': '其他', 'manual_content': '听了三只鸟儿的话，猴子可有想法了'}, {'type': '讲解', 'content': '猴子是怎么想的', 'label': '发起', 'manual_content': '猴子是怎么想的'}, {'type': '讲解', 'content': '听了乌鸦的话，猴子一想，你们瞧，可等不及，也等不及，还是等不及', 'label': '讲解', 'manual_content': '听了乌鸦的话，猴子一想，你们瞧，可等不及，也等不及，还是等不及'}, {'type': '讲解', 'content': '说明这只猴子越来越没有耐心', 'label': '讲解', 'manual_content': '说明这只猴子越来越没有耐心'}, {'type': '讲解', 'content': '他越来越没有耐心了，是吧', 'label': '讲解', 'manual_content': '说明这只猴子越来越没有耐心'}, {'type': '发起', 'content': '现在呀我们拿起书本，把这个故事啊从头到尾再来背一背', 'label': '发起', 'manual_content': '现在呀我们拿起书本，把这个故事啊从头到尾再来背一背'}, {'type': '发起', 'content': '用上刚刚老师教你们的，咱们去把故事啊讲流利讲通顺，然后讲的有感情啊', 'label': '发起', 'manual_content': '用上刚刚老师教你们的，咱们去把故事啊讲流利讲通顺，然后讲的有感情啊'}, {'type': '发起', 'content': '猴子种了一棵梨树苗，预备起', 'label': '发起', 'manual_content': '猴子种了一棵梨树苗，预备起'}, {'type': '其它', 'content': '猴子，这些东西放下，我们来看一下板书', 'label': '其他', 'manual_content': '猴子，这些东西放下，我们来看一下板书'}, {'type': '讲解', 'content': '猴子呀他一开始很勤劳啊，还是种了一棵梨树', 'label': '讲解', 'manual_content': '猴子呀他一开始很勤劳啊，还是种了一棵梨树'}, {'type': '讲解', 'content': '可是当乌鸦来劝说它的时候，它就拔掉了梨树，改种了', 'label': '讲解', 'manual_content': '可是当乌鸦来劝说它的时候，它就拔掉了梨树，改种了'}, {'type': '讲解', 'content': '正当杏树成活的时候，喜鹊来劝他了', 'label': '讲解', 'manual_content': '正当杏树成活的时候，喜鹊来劝他了'}, {'type': '讲解', 'content': '于是猴子又拔掉了，改种了桃树', 'label': '讲解', 'manual_content': '于是猴子又拔掉了，改种了桃树'}, {'type': '讲解', 'content': '正当桃树成活的时候，杜鹃又来劝说它了', 'label': '讲解', 'manual_content': '正当杏树成活的时候，喜鹊来劝他了'}, {'type': '讲解', 'content': '这时候猴子又拔掉了，改种了', 'label': '讲解', 'manual_content': '于是猴子又拔掉了，改种了桃树'}, {'type': '讲解', 'content': '可是有一句农谚叫，樱桃好吃，树难栽，一连几年都没有栽活', 'label': '讲解', 'manual_content': '可是有一句农谚叫，樱桃好吃，树难栽，一连几年都没有栽活'}, {'type': '讲解', 'content': '到最后这只猴子什么树也没有成', 'label': '讲解', 'manual_content': '到最后这只猴子什么树也没有成'}, {'type': '讲解', 'content': '对呀，这只猴子什么树也没有种成', 'label': '讲解', 'manual_content': '到最后这只猴子什么树也没有成'}, {'type': '发起', 'content': '除了它没耐心，它还没什么', 'label': '发起', 'manual_content': '除了它没耐心，它还没什么'}, {'type': '评价', 'content': '你说，说的真好', 'label': '发起', 'manual_content': '你说，'}, {'type': '讲解', 'content': '还没有主见，别人说什么他就听什么，没有自己的想法，是不是啊', 'label': '讲解', 'manual_content': '还没有主见，别人说什么他就听什么，没有自己的想法，是不是啊'}, {'type': '讲解', 'content': '到最后什么都没有啊', 'label': '讲解', 'manual_content': '到最后这只猴子什么树也没有成'}, {'type': '讲解', 'content': '那么这只小猴呢，也挺可怜的', 'label': '发起', 'manual_content': '那么这只小猴呢，也挺可怜的'}, {'type': '发起', 'content': '你想对他说什么', 'label': '发起', 'manual_content': '你想对他说什么'}, {'type': '发起', 'content': '你有什么话，想对他说说', 'label': '发起', 'manual_content': '你有什么话，想对他说说'}, {'type': '发起', 'content': '汤子晨，你说', 'label': '发起', 'manual_content': '汤子晨，你说'}, {'type': '其它', 'content': '嗯，请坐', 'label': '其它', 'manual_content': '嗯，请坐'}, {'type': '其它', 'content': '不要光听别人，要有自己的想法，是不是', 'label': '讲解', 'manual_content': '不要光听别人，要有自己的想法，是不是'}, {'type': '发起', 'content': '好，你有什么想对猴子说的', 'label': '发起', 'manual_content': '你有什么话，想对他说说'}, {'type': '发起', 'content': '你要讲讲自己的想法，是不是', 'label': '讲解', 'manual_content': '不要光听别人，要有自己的想法，是不是'}, {'type': '发起', 'content': '坚持把它种好，是吧', 'label': '讲解', 'manual_content': '坚持把它种好，是吧'}, {'type': '其它', 'content': '对，好的，来，你来说', 'label': '评价', 'manual_content': '对，好的，'}, {'type': '其它', 'content': '嗯，没有耐心，就一事无成了', 'label': '讲解', 'manual_content': '嗯，没有耐心，就一事无成了'}, {'type': '其它', 'content': '嗯，就是要有自己的主见', 'label': '讲解', 'manual_content': '嗯，就是要有自己的主见'}, {'type': '发起', 'content': '好，刘斌，坚持下去，是不是', 'label': '讲解', 'manual_content': '好，刘斌，坚持下去，是不是'}, {'type': '评价', 'content': '非常好！你这句话不仅是送给猴子的，而且还是要送给我们在座的每一个人，非常好！', 'label': '评价', 'manual_content': '非常好！你这句话不仅是送给猴子的，而且还是要送给我们在座的每一个人，非常好！'}, {'type': '讲解', 'content': '坚持到底，就是胜利', 'label': '', 'manual_content': ''}, {'type': '讲解', 'content': '要有主见，有耐心', 'label': '讲解', 'manual_content': '要有主见，有耐心'}, {'type': '发起', 'content': '好，哎，那我们呀，不能像小猴子这样没耐心', 'label': '讲解', 'manual_content': '好，哎，那我们呀，不能像小猴子这样没耐心'}, {'type': '讲解', 'content': '我们要耐心地学好每一节课，学好每一个词', 'label': '讲解', 'manual_content': '我们要耐心地学好每一节课，学好每一个词'}, {'type': '讲解', 'content': '今天呢，我们要开始学习这篇课文后面的三个字', 'label': '讲解', 'manual_content': '今天呢，我们要开始学习这篇课文后面的三个字'}, {'type': '讲解', 'content': '第一个字，我先画个画', 'label': '讲解', 'manual_content': '第一个字，我先画个画'}, {'type': '讲解', 'content': '你看这个“改”像一个小朋友啊，做错事儿，他跪在地上，旁边呢，有个人拿着拐杖在打他的小屁股，对不对', 'label': '讲解', 'manual_content': '你看这个“改”像一个小朋友啊，做错事儿，他跪在地上，旁边呢，有个人拿着拐杖在打他的小屁股，对不对'}, {'type': '讲解', 'content': '就是叫他知错就改，对的啊', 'label': '讲解', 'manual_content': '就是叫他知错就改，对的啊'}, {'type': '讲解', 'content': '所以这个“改”字我们一起来写一写', 'label': '其他', 'manual_content': '所以这个“改”字我们一起来写一写'}, {'type': '讲解', 'content': '来，小手笔伸出来', 'label': '其他', 'manual_content': '来，小手笔伸出来'}, {'type': '讲解', 'content': '一横折，预备起，对', 'label': '其他', 'manual_content': '一横折，预备起，'}, {'type': '讲解', 'content': '它是左右结构反文', 'label': '讲解', 'manual_content': '它是左右结构反文'}, {'type': '讲解', 'content': '我写在这里啊', 'label': '讲解', 'manual_content': '我写在这里啊'}, {'type': '讲解', 'content': '横折写到横中线就停，横折再横中线竖提要短一些，这个就像跪着的小朋友啊，他在承认错误呢', 'label': '讲解', 'manual_content': '横折写到横中线就停，横折再横中线竖提要短一些，这个就像跪着的小朋友啊，他在承认错误呢'}, {'type': '讲解', 'content': '旁边呢，一个人拿着鞭子再去打他的小屁股，是不是', 'label': '讲解', 'manual_content': '旁边呢，一个人拿着鞭子再去打他的小屁股，是不是'}, {'type': '讲解', 'content': '要它改正错误啊', 'label': '讲解', 'manual_content': '要它改正错误啊'}, {'type': '讲解', 'content': '撇要到中间齐，捺要舒展', 'label': '讲解', 'manual_content': '撇要到中间齐，捺要舒展'}, {'type': '讲解', 'content': '“改”字组词', 'label': '讲解', 'manual_content': '“改”字组词'}, {'type': '讲解', 'content': '好，你来', 'label': '发起', 'manual_content': '来，你来说'}, {'type': '评价', 'content': '很好！', 'label': '评价', 'manual_content': '很好！'}, {'type': '发起', 'content': '好，再来一个同学，李春月，你来', 'label': '发起', 'manual_content': '好，再来一个同学，李春月，你来'}, {'type': '发起', 'content': '你说，“改革”', 'label': '讲解', 'manual_content': '你说，“改革”'}, {'type': '发起', 'content': '你说，我们学下一个字，“洗”，预备起', 'label': '发起', 'manual_content': '你说，我们学下一个字，“洗”，预备起'}, {'type': '讲解', 'content': '洗上结构', 'label': '发起', 'manual_content': '洗上结构'}]\n"
     ]
    }
   ],
   "execution_count": 18
  },
  {
   "metadata": {
    "ExecuteTime": {
     "end_time": "2024-09-03T06:40:41.675631Z",
     "start_time": "2024-09-03T06:40:41.656958Z"
    }
   },
   "cell_type": "code",
   "source": [
    "# 将数据转换为DataFrame\n",
    "df = pd.DataFrame(gpt4o_output)\n",
    "df"
   ],
   "id": "79ef54dc4b1b436a",
   "outputs": [
    {
     "data": {
      "text/plain": [
       "    type             content label      manual_content\n",
       "0     发起   请袁艺喊“开始上课”，声音要响亮啊    发起   请袁艺喊“开始上课”，声音要响亮啊\n",
       "1     其它             同学们好，请坐    发起             同学们好，请坐\n",
       "2     评价                 真棒！    评价                  真棒\n",
       "3     讲解      昨天呀，我们一起学习了课文八    讲解      昨天呀，我们一起学习了课文八\n",
       "4     讲解    今天小猴子呀，要到我们班来做客了    讲解    今天，小猴子呀要到我们班来做客了\n",
       "..   ...                 ...   ...                 ...\n",
       "404   评价                 很好！    评价                 很好！\n",
       "405   发起     好，再来一个同学，李春月，你来    发起     好，再来一个同学，李春月，你来\n",
       "406   发起             你说，“改革”    讲解             你说，“改革”\n",
       "407   发起  你说，我们学下一个字，“洗”，预备起    发起  你说，我们学下一个字，“洗”，预备起\n",
       "408   讲解                洗上结构    发起                洗上结构\n",
       "\n",
       "[409 rows x 4 columns]"
      ],
      "text/html": [
       "<div>\n",
       "<style scoped>\n",
       "    .dataframe tbody tr th:only-of-type {\n",
       "        vertical-align: middle;\n",
       "    }\n",
       "\n",
       "    .dataframe tbody tr th {\n",
       "        vertical-align: top;\n",
       "    }\n",
       "\n",
       "    .dataframe thead th {\n",
       "        text-align: right;\n",
       "    }\n",
       "</style>\n",
       "<table border=\"1\" class=\"dataframe\">\n",
       "  <thead>\n",
       "    <tr style=\"text-align: right;\">\n",
       "      <th></th>\n",
       "      <th>type</th>\n",
       "      <th>content</th>\n",
       "      <th>label</th>\n",
       "      <th>manual_content</th>\n",
       "    </tr>\n",
       "  </thead>\n",
       "  <tbody>\n",
       "    <tr>\n",
       "      <th>0</th>\n",
       "      <td>发起</td>\n",
       "      <td>请袁艺喊“开始上课”，声音要响亮啊</td>\n",
       "      <td>发起</td>\n",
       "      <td>请袁艺喊“开始上课”，声音要响亮啊</td>\n",
       "    </tr>\n",
       "    <tr>\n",
       "      <th>1</th>\n",
       "      <td>其它</td>\n",
       "      <td>同学们好，请坐</td>\n",
       "      <td>发起</td>\n",
       "      <td>同学们好，请坐</td>\n",
       "    </tr>\n",
       "    <tr>\n",
       "      <th>2</th>\n",
       "      <td>评价</td>\n",
       "      <td>真棒！</td>\n",
       "      <td>评价</td>\n",
       "      <td>真棒</td>\n",
       "    </tr>\n",
       "    <tr>\n",
       "      <th>3</th>\n",
       "      <td>讲解</td>\n",
       "      <td>昨天呀，我们一起学习了课文八</td>\n",
       "      <td>讲解</td>\n",
       "      <td>昨天呀，我们一起学习了课文八</td>\n",
       "    </tr>\n",
       "    <tr>\n",
       "      <th>4</th>\n",
       "      <td>讲解</td>\n",
       "      <td>今天小猴子呀，要到我们班来做客了</td>\n",
       "      <td>讲解</td>\n",
       "      <td>今天，小猴子呀要到我们班来做客了</td>\n",
       "    </tr>\n",
       "    <tr>\n",
       "      <th>...</th>\n",
       "      <td>...</td>\n",
       "      <td>...</td>\n",
       "      <td>...</td>\n",
       "      <td>...</td>\n",
       "    </tr>\n",
       "    <tr>\n",
       "      <th>404</th>\n",
       "      <td>评价</td>\n",
       "      <td>很好！</td>\n",
       "      <td>评价</td>\n",
       "      <td>很好！</td>\n",
       "    </tr>\n",
       "    <tr>\n",
       "      <th>405</th>\n",
       "      <td>发起</td>\n",
       "      <td>好，再来一个同学，李春月，你来</td>\n",
       "      <td>发起</td>\n",
       "      <td>好，再来一个同学，李春月，你来</td>\n",
       "    </tr>\n",
       "    <tr>\n",
       "      <th>406</th>\n",
       "      <td>发起</td>\n",
       "      <td>你说，“改革”</td>\n",
       "      <td>讲解</td>\n",
       "      <td>你说，“改革”</td>\n",
       "    </tr>\n",
       "    <tr>\n",
       "      <th>407</th>\n",
       "      <td>发起</td>\n",
       "      <td>你说，我们学下一个字，“洗”，预备起</td>\n",
       "      <td>发起</td>\n",
       "      <td>你说，我们学下一个字，“洗”，预备起</td>\n",
       "    </tr>\n",
       "    <tr>\n",
       "      <th>408</th>\n",
       "      <td>讲解</td>\n",
       "      <td>洗上结构</td>\n",
       "      <td>发起</td>\n",
       "      <td>洗上结构</td>\n",
       "    </tr>\n",
       "  </tbody>\n",
       "</table>\n",
       "<p>409 rows × 4 columns</p>\n",
       "</div>"
      ]
     },
     "execution_count": 19,
     "metadata": {},
     "output_type": "execute_result"
    }
   ],
   "execution_count": 19
  },
  {
   "metadata": {
    "ExecuteTime": {
     "end_time": "2024-09-03T06:52:31.990998Z",
     "start_time": "2024-09-03T06:52:31.974973Z"
    }
   },
   "cell_type": "code",
   "source": [
    "df = df[(df != '').all(axis=1)]\n",
    "df_cleaned = df.dropna(subset='label').reset_index(drop=True)\n",
    "df_cleaned"
   ],
   "id": "5777b8f27580eed",
   "outputs": [
    {
     "data": {
      "text/plain": [
       "    type             content label      manual_content\n",
       "0     发起   请袁艺喊“开始上课”，声音要响亮啊    发起   请袁艺喊“开始上课”，声音要响亮啊\n",
       "1     其它             同学们好，请坐    发起             同学们好，请坐\n",
       "2     评价                 真棒！    评价                  真棒\n",
       "3     讲解      昨天呀，我们一起学习了课文八    讲解      昨天呀，我们一起学习了课文八\n",
       "4     讲解    今天小猴子呀，要到我们班来做客了    讲解    今天，小猴子呀要到我们班来做客了\n",
       "..   ...                 ...   ...                 ...\n",
       "401   评价                 很好！    评价                 很好！\n",
       "402   发起     好，再来一个同学，李春月，你来    发起     好，再来一个同学，李春月，你来\n",
       "403   发起             你说，“改革”    讲解             你说，“改革”\n",
       "404   发起  你说，我们学下一个字，“洗”，预备起    发起  你说，我们学下一个字，“洗”，预备起\n",
       "405   讲解                洗上结构    发起                洗上结构\n",
       "\n",
       "[406 rows x 4 columns]"
      ],
      "text/html": [
       "<div>\n",
       "<style scoped>\n",
       "    .dataframe tbody tr th:only-of-type {\n",
       "        vertical-align: middle;\n",
       "    }\n",
       "\n",
       "    .dataframe tbody tr th {\n",
       "        vertical-align: top;\n",
       "    }\n",
       "\n",
       "    .dataframe thead th {\n",
       "        text-align: right;\n",
       "    }\n",
       "</style>\n",
       "<table border=\"1\" class=\"dataframe\">\n",
       "  <thead>\n",
       "    <tr style=\"text-align: right;\">\n",
       "      <th></th>\n",
       "      <th>type</th>\n",
       "      <th>content</th>\n",
       "      <th>label</th>\n",
       "      <th>manual_content</th>\n",
       "    </tr>\n",
       "  </thead>\n",
       "  <tbody>\n",
       "    <tr>\n",
       "      <th>0</th>\n",
       "      <td>发起</td>\n",
       "      <td>请袁艺喊“开始上课”，声音要响亮啊</td>\n",
       "      <td>发起</td>\n",
       "      <td>请袁艺喊“开始上课”，声音要响亮啊</td>\n",
       "    </tr>\n",
       "    <tr>\n",
       "      <th>1</th>\n",
       "      <td>其它</td>\n",
       "      <td>同学们好，请坐</td>\n",
       "      <td>发起</td>\n",
       "      <td>同学们好，请坐</td>\n",
       "    </tr>\n",
       "    <tr>\n",
       "      <th>2</th>\n",
       "      <td>评价</td>\n",
       "      <td>真棒！</td>\n",
       "      <td>评价</td>\n",
       "      <td>真棒</td>\n",
       "    </tr>\n",
       "    <tr>\n",
       "      <th>3</th>\n",
       "      <td>讲解</td>\n",
       "      <td>昨天呀，我们一起学习了课文八</td>\n",
       "      <td>讲解</td>\n",
       "      <td>昨天呀，我们一起学习了课文八</td>\n",
       "    </tr>\n",
       "    <tr>\n",
       "      <th>4</th>\n",
       "      <td>讲解</td>\n",
       "      <td>今天小猴子呀，要到我们班来做客了</td>\n",
       "      <td>讲解</td>\n",
       "      <td>今天，小猴子呀要到我们班来做客了</td>\n",
       "    </tr>\n",
       "    <tr>\n",
       "      <th>...</th>\n",
       "      <td>...</td>\n",
       "      <td>...</td>\n",
       "      <td>...</td>\n",
       "      <td>...</td>\n",
       "    </tr>\n",
       "    <tr>\n",
       "      <th>401</th>\n",
       "      <td>评价</td>\n",
       "      <td>很好！</td>\n",
       "      <td>评价</td>\n",
       "      <td>很好！</td>\n",
       "    </tr>\n",
       "    <tr>\n",
       "      <th>402</th>\n",
       "      <td>发起</td>\n",
       "      <td>好，再来一个同学，李春月，你来</td>\n",
       "      <td>发起</td>\n",
       "      <td>好，再来一个同学，李春月，你来</td>\n",
       "    </tr>\n",
       "    <tr>\n",
       "      <th>403</th>\n",
       "      <td>发起</td>\n",
       "      <td>你说，“改革”</td>\n",
       "      <td>讲解</td>\n",
       "      <td>你说，“改革”</td>\n",
       "    </tr>\n",
       "    <tr>\n",
       "      <th>404</th>\n",
       "      <td>发起</td>\n",
       "      <td>你说，我们学下一个字，“洗”，预备起</td>\n",
       "      <td>发起</td>\n",
       "      <td>你说，我们学下一个字，“洗”，预备起</td>\n",
       "    </tr>\n",
       "    <tr>\n",
       "      <th>405</th>\n",
       "      <td>讲解</td>\n",
       "      <td>洗上结构</td>\n",
       "      <td>发起</td>\n",
       "      <td>洗上结构</td>\n",
       "    </tr>\n",
       "  </tbody>\n",
       "</table>\n",
       "<p>406 rows × 4 columns</p>\n",
       "</div>"
      ]
     },
     "execution_count": 27,
     "metadata": {},
     "output_type": "execute_result"
    }
   ],
   "execution_count": 27
  },
  {
   "metadata": {
    "ExecuteTime": {
     "end_time": "2024-09-03T06:53:53.816902Z",
     "start_time": "2024-09-03T06:53:53.812739Z"
    }
   },
   "cell_type": "code",
   "source": "",
   "id": "41a2f01ea5c13935",
   "outputs": [],
   "execution_count": 27
  },
  {
   "metadata": {
    "ExecuteTime": {
     "end_time": "2024-09-03T06:53:56.545798Z",
     "start_time": "2024-09-03T06:53:56.531262Z"
    }
   },
   "cell_type": "code",
   "source": [
    "from sklearn.metrics import classification_report\n",
    "\n",
    "df_cleaned['type'] = df_cleaned['type'].replace(\"其他\",\"其它\")\n",
    "df_cleaned['label'] = df_cleaned['label'].replace(\"其他\",\"其它\")\n",
    "# 计算分类报告\n",
    "classification_rep = classification_report(df_cleaned['label'], df_cleaned['type'], zero_division=0)\n",
    "\n",
    "print(classification_rep)"
   ],
   "id": "d826dd7bb3c6abc9",
   "outputs": [
    {
     "name": "stdout",
     "output_type": "stream",
     "text": [
      "              precision    recall  f1-score   support\n",
      "\n",
      "          其它       0.20      0.41      0.27        22\n",
      "          发起       0.78      0.78      0.78       179\n",
      "          讲解       0.58      0.75      0.65       104\n",
      "          评价       0.87      0.41      0.55       101\n",
      "\n",
      "    accuracy                           0.66       406\n",
      "   macro avg       0.61      0.59      0.56       406\n",
      "weighted avg       0.72      0.66      0.66       406\n",
      "\n"
     ]
    }
   ],
   "execution_count": 28
  },
  {
   "metadata": {
    "ExecuteTime": {
     "end_time": "2024-09-03T06:55:15.243518Z",
     "start_time": "2024-09-03T06:55:15.065556Z"
    }
   },
   "cell_type": "code",
   "source": "df_cleaned.to_excel(\"gpt4o_T_4_result.xlsx\",index=False)",
   "id": "f4c6ca176bb7bc91",
   "outputs": [],
   "execution_count": 29
  },
  {
   "metadata": {
    "ExecuteTime": {
     "end_time": "2024-09-03T06:24:00.498411Z",
     "start_time": "2024-09-03T06:24:00.489360Z"
    }
   },
   "cell_type": "code",
   "source": [
    "# 求取两个列表的交集和差集\n",
    "content_manual = {item['content'] for item in split_data_manual}\n",
    "content_gpt4o_output = {item['content'] for item in split_data_gpt4o_output}\n",
    "\n",
    "# 交集\n",
    "intersection = content_manual.intersection(content_gpt4o_output)\n",
    "\n",
    "# 差集\n",
    "difference_manual = content_manual.difference(content_gpt4o_output)\n",
    "difference_gpt4o_output = content_gpt4o_output.difference(content_manual)\n",
    "\n",
    "intersection, difference_manual, difference_gpt4o_output"
   ],
   "id": "129a6020e14efda6",
   "outputs": [
    {
     "data": {
      "text/plain": [
       "({'他每天都去浇，天天都去浇水施肥',\n",
       "  '你为什么要连喊两声“猴哥”呀',\n",
       "  '你为什么还连喊两声呀',\n",
       "  '你们找到了动作了吗',\n",
       "  '你们看，这个猴子种树啊，它有一个动作的过程',\n",
       "  '你觉得猴哥可能会听不见，是不是啊',\n",
       "  '再请一只小乌鸦，好，你来小乌鸦',\n",
       "  '叫一声就可以了呀',\n",
       "  '哎，小乌鸦你等等啊',\n",
       "  '哦，这只小乌鸦读的真好，读的真顺畅啊',\n",
       "  '唉，没有提示你还能不能把刚刚的故事开头讲给我们听',\n",
       "  '嗯，施肥',\n",
       "  '嗯，细心',\n",
       "  '好熟练啊，把故事啊，这么大声的就告诉我们了',\n",
       "  '好，乌鸦哇哇的对猴子说了什么呢',\n",
       "  '好，你来',\n",
       "  '好，我们按照这个顺序啊，把故事的开头自己在下面讲一讲，好不好',\n",
       "  '好，谁来把故事的开头讲给我们听',\n",
       "  '好，非常好',\n",
       "  '对，非常勤劳',\n",
       "  '然后呢',\n",
       "  '然后等着将来可以吃梨子了',\n",
       "  '猴子是不是很勤劳',\n",
       "  '现在就直接浇水了吗',\n",
       "  '而且我看出来了，你整的口水都快流出来了，是不是',\n",
       "  '董新磊，',\n",
       "  '说明他怎么样',\n",
       "  '谁来做一下乌鸦',\n",
       "  '还有呢',\n",
       "  '这时候谁来',\n",
       "  '那接下来我要加大难度了',\n",
       "  '非常好'},\n",
       " {'乌鸦来', '你说，', '刘若涵，', '哇，这只猴子呀，真勤劳', '张文婷，', '来', '棒不棒'},\n",
       " {'你说，乌鸦来', '刘若涵，哇，这只猴子呀，真勤劳', '张文婷，棒不棒'})"
      ]
     },
     "execution_count": 3,
     "metadata": {},
     "output_type": "execute_result"
    }
   ],
   "execution_count": 3
  },
  {
   "metadata": {
    "ExecuteTime": {
     "end_time": "2024-09-03T06:24:06.579548Z",
     "start_time": "2024-09-03T06:24:06.567006Z"
    }
   },
   "cell_type": "code",
   "source": "split_data_gpt4o_output",
   "id": "1b75d6e65e9ea287",
   "outputs": [
    {
     "data": {
      "text/plain": [
       "[{'type': '评价', 'content': '嗯，细心'},\n",
       " {'type': '发起', 'content': '还有呢'},\n",
       " {'type': '讲解', 'content': '他每天都去浇，天天都去浇水施肥'},\n",
       " {'type': '讲解', 'content': '说明他怎么样'},\n",
       " {'type': '评价', 'content': '对，非常勤劳'},\n",
       " {'type': '评价', 'content': '猴子是不是很勤劳'},\n",
       " {'type': '讲解', 'content': '你们看，这个猴子种树啊，它有一个动作的过程'},\n",
       " {'type': '讲解', 'content': '你们找到了动作了吗'},\n",
       " {'type': '讲解', 'content': '好，你来'},\n",
       " {'type': '讲解', 'content': '现在就直接浇水了吗'},\n",
       " {'type': '讲解', 'content': '然后呢'},\n",
       " {'type': '讲解', 'content': '嗯，施肥'},\n",
       " {'type': '讲解', 'content': '然后等着将来可以吃梨子了'},\n",
       " {'type': '讲解', 'content': '好，我们按照这个顺序啊，把故事的开头自己在下面讲一讲，好不好'},\n",
       " {'type': '发起', 'content': '好，谁来把故事的开头讲给我们听'},\n",
       " {'type': '发起', 'content': '刘若涵，哇，这只猴子呀，真勤劳'},\n",
       " {'type': '发起', 'content': '而且我看出来了，你整的口水都快流出来了，是不是'},\n",
       " {'type': '评价', 'content': '好，非常好'},\n",
       " {'type': '讲解', 'content': '那接下来我要加大难度了'},\n",
       " {'type': '讲解', 'content': '唉，没有提示你还能不能把刚刚的故事开头讲给我们听'},\n",
       " {'type': '发起', 'content': '张文婷，棒不棒'},\n",
       " {'type': '发起', 'content': '好熟练啊，把故事啊，这么大声的就告诉我们了'},\n",
       " {'type': '发起', 'content': '非常好'},\n",
       " {'type': '发起', 'content': '这时候谁来'},\n",
       " {'type': '发起', 'content': '这时候谁来'},\n",
       " {'type': '发起', 'content': '你说，乌鸦来'},\n",
       " {'type': '发起', 'content': '好，乌鸦哇哇的对猴子说了什么呢'},\n",
       " {'type': '发起', 'content': '谁来做一下乌鸦'},\n",
       " {'type': '发起', 'content': '董新磊，'},\n",
       " {'type': '评价', 'content': '哦，这只小乌鸦读的真好，读的真顺畅啊'},\n",
       " {'type': '评价', 'content': '再请一只小乌鸦，好，你来小乌鸦'},\n",
       " {'type': '发起', 'content': '哎，小乌鸦你等等啊'},\n",
       " {'type': '发起', 'content': '你为什么要连喊两声“猴哥”呀'},\n",
       " {'type': '讲解', 'content': '叫一声就可以了呀'},\n",
       " {'type': '讲解', 'content': '你为什么还连喊两声呀'},\n",
       " {'type': '讲解', 'content': '你觉得猴哥可能会听不见，是不是啊'}]"
      ]
     },
     "execution_count": 4,
     "metadata": {},
     "output_type": "execute_result"
    }
   ],
   "execution_count": 4
  },
  {
   "metadata": {
    "ExecuteTime": {
     "end_time": "2024-09-03T06:24:10.313996Z",
     "start_time": "2024-09-03T06:24:10.296796Z"
    }
   },
   "cell_type": "code",
   "source": "split_data_manual",
   "id": "d8b167db4f4472bb",
   "outputs": [
    {
     "data": {
      "text/plain": [
       "[{'type': '评价', 'content': '嗯，细心'},\n",
       " {'type': '发起', 'content': '还有呢'},\n",
       " {'type': '发起', 'content': '他每天都去浇，天天都去浇水施肥'},\n",
       " {'type': '发起', 'content': '说明他怎么样'},\n",
       " {'type': '评价', 'content': '对，非常勤劳'},\n",
       " {'type': '评价', 'content': '猴子是不是很勤劳'},\n",
       " {'type': '讲解', 'content': '你们看，这个猴子种树啊，它有一个动作的过程'},\n",
       " {'type': '发起', 'content': '你们找到了动作了吗'},\n",
       " {'type': '发起', 'content': '好，你来'},\n",
       " {'type': '发起', 'content': '现在就直接浇水了吗'},\n",
       " {'type': '发起', 'content': '然后呢'},\n",
       " {'type': '评价', 'content': '嗯，施肥'},\n",
       " {'type': '讲解', 'content': '然后等着将来可以吃梨子了'},\n",
       " {'type': '发起', 'content': '好，我们按照这个顺序啊，把故事的开头自己在下面讲一讲，好不好'},\n",
       " {'type': '发起', 'content': '来'},\n",
       " {'type': '发起', 'content': '好，谁来把故事的开头讲给我们听'},\n",
       " {'type': '发起', 'content': '刘若涵，'},\n",
       " {'type': '评价', 'content': '哇，这只猴子呀，真勤劳'},\n",
       " {'type': '评价', 'content': '而且我看出来了，你整的口水都快流出来了，是不是'},\n",
       " {'type': '评价', 'content': '好，非常好'},\n",
       " {'type': '发起', 'content': '那接下来我要加大难度了'},\n",
       " {'type': '发起', 'content': '唉，没有提示你还能不能把刚刚的故事开头讲给我们听'},\n",
       " {'type': '发起', 'content': '张文婷，'},\n",
       " {'type': '评价', 'content': '棒不棒'},\n",
       " {'type': '评价', 'content': '好熟练啊，把故事啊，这么大声的就告诉我们了'},\n",
       " {'type': '评价', 'content': '非常好'},\n",
       " {'type': '发起', 'content': '这时候谁来'},\n",
       " {'type': '发起', 'content': '这时候谁来'},\n",
       " {'type': '发起', 'content': '你说，'},\n",
       " {'type': '讲解', 'content': '乌鸦来'},\n",
       " {'type': '发起', 'content': '好，乌鸦哇哇的对猴子说了什么呢'},\n",
       " {'type': '发起', 'content': '谁来做一下乌鸦'},\n",
       " {'type': '发起', 'content': '董新磊，'},\n",
       " {'type': '评价', 'content': '哦，这只小乌鸦读的真好，读的真顺畅啊'},\n",
       " {'type': '发起', 'content': '再请一只小乌鸦，好，你来小乌鸦'},\n",
       " {'type': '其它', 'content': '哎，小乌鸦你等等啊'},\n",
       " {'type': '发起', 'content': '你为什么要连喊两声“猴哥”呀'},\n",
       " {'type': '发起', 'content': '叫一声就可以了呀'},\n",
       " {'type': '发起', 'content': '你为什么还连喊两声呀'},\n",
       " {'type': '讲解', 'content': '你觉得猴哥可能会听不见，是不是啊'}]"
      ]
     },
     "execution_count": 5,
     "metadata": {},
     "output_type": "execute_result"
    }
   ],
   "execution_count": 5
  },
  {
   "metadata": {
    "ExecuteTime": {
     "end_time": "2024-09-03T06:19:26.063087Z",
     "start_time": "2024-09-03T06:19:26.045869Z"
    }
   },
   "cell_type": "code",
   "source": "",
   "id": "f562c030f45d6503",
   "outputs": [],
   "execution_count": 9
  },
  {
   "metadata": {
    "ExecuteTime": {
     "end_time": "2024-09-03T06:27:38.222223Z",
     "start_time": "2024-09-03T06:27:38.211710Z"
    }
   },
   "cell_type": "code",
   "source": [
    "\n",
    "from difflib import SequenceMatcher\n",
    "from collections import defaultdict\n",
    "text1 = \"你说，乌鸦来\"\n",
    "text2 = \"乌鸦来\"\n",
    "def similarity(a, b):\n",
    "    return SequenceMatcher(None, a, b).ratio()\n",
    "similarity(text1,text2)"
   ],
   "id": "964d823a83b8addc",
   "outputs": [
    {
     "data": {
      "text/plain": [
       "0.6666666666666666"
      ]
     },
     "execution_count": 10,
     "metadata": {},
     "output_type": "execute_result"
    }
   ],
   "execution_count": 10
  },
  {
   "metadata": {
    "ExecuteTime": {
     "end_time": "2024-09-03T06:19:24.568115Z",
     "start_time": "2024-09-03T06:19:24.556672Z"
    }
   },
   "cell_type": "code",
   "source": "",
   "id": "992bb14d29779e62",
   "outputs": [],
   "execution_count": 9
  },
  {
   "metadata": {
    "ExecuteTime": {
     "end_time": "2024-09-03T06:24:14.105257Z",
     "start_time": "2024-09-03T06:24:14.086578Z"
    }
   },
   "cell_type": "code",
   "source": [
    "for item in split_data_gpt4o_output:\n",
    "    for sent in split_data_manual:\n",
    "        \n",
    "        if similarity(item.get(\"content\") ,sent.get(\"content\")) >0.8:\n",
    "            item['label'] = sent.get(\"type\")\n",
    "            break  # 如果匹配上了，就不要再往下匹配了。\n"
   ],
   "id": "1568179388937567",
   "outputs": [],
   "execution_count": 7
  },
  {
   "metadata": {
    "ExecuteTime": {
     "end_time": "2024-09-03T06:24:15.976361Z",
     "start_time": "2024-09-03T06:24:15.960278Z"
    }
   },
   "cell_type": "code",
   "source": "split_data_gpt4o_output",
   "id": "c7239d5c418f535b",
   "outputs": [
    {
     "data": {
      "text/plain": [
       "[{'type': '评价', 'content': '嗯，细心', 'label': '评价'},\n",
       " {'type': '发起', 'content': '还有呢', 'label': '发起'},\n",
       " {'type': '讲解', 'content': '他每天都去浇，天天都去浇水施肥', 'label': '发起'},\n",
       " {'type': '讲解', 'content': '说明他怎么样', 'label': '发起'},\n",
       " {'type': '评价', 'content': '对，非常勤劳', 'label': '评价'},\n",
       " {'type': '评价', 'content': '猴子是不是很勤劳', 'label': '评价'},\n",
       " {'type': '讲解', 'content': '你们看，这个猴子种树啊，它有一个动作的过程', 'label': '讲解'},\n",
       " {'type': '讲解', 'content': '你们找到了动作了吗', 'label': '发起'},\n",
       " {'type': '讲解', 'content': '好，你来', 'label': '发起'},\n",
       " {'type': '讲解', 'content': '现在就直接浇水了吗', 'label': '发起'},\n",
       " {'type': '讲解', 'content': '然后呢', 'label': '发起'},\n",
       " {'type': '讲解', 'content': '嗯，施肥', 'label': '评价'},\n",
       " {'type': '讲解', 'content': '然后等着将来可以吃梨子了', 'label': '讲解'},\n",
       " {'type': '讲解', 'content': '好，我们按照这个顺序啊，把故事的开头自己在下面讲一讲，好不好', 'label': '发起'},\n",
       " {'type': '发起', 'content': '好，谁来把故事的开头讲给我们听', 'label': '发起'},\n",
       " {'type': '发起', 'content': '刘若涵，哇，这只猴子呀，真勤劳', 'label': '评价'},\n",
       " {'type': '发起', 'content': '而且我看出来了，你整的口水都快流出来了，是不是', 'label': '评价'},\n",
       " {'type': '评价', 'content': '好，非常好', 'label': '评价'},\n",
       " {'type': '讲解', 'content': '那接下来我要加大难度了', 'label': '发起'},\n",
       " {'type': '讲解', 'content': '唉，没有提示你还能不能把刚刚的故事开头讲给我们听', 'label': '发起'},\n",
       " {'type': '发起', 'content': '张文婷，棒不棒'},\n",
       " {'type': '发起', 'content': '好熟练啊，把故事啊，这么大声的就告诉我们了', 'label': '评价'},\n",
       " {'type': '发起', 'content': '非常好', 'label': '评价'},\n",
       " {'type': '发起', 'content': '这时候谁来', 'label': '发起'},\n",
       " {'type': '发起', 'content': '这时候谁来', 'label': '发起'},\n",
       " {'type': '发起', 'content': '你说，乌鸦来'},\n",
       " {'type': '发起', 'content': '好，乌鸦哇哇的对猴子说了什么呢', 'label': '发起'},\n",
       " {'type': '发起', 'content': '谁来做一下乌鸦', 'label': '发起'},\n",
       " {'type': '发起', 'content': '董新磊，', 'label': '发起'},\n",
       " {'type': '评价', 'content': '哦，这只小乌鸦读的真好，读的真顺畅啊', 'label': '评价'},\n",
       " {'type': '评价', 'content': '再请一只小乌鸦，好，你来小乌鸦', 'label': '发起'},\n",
       " {'type': '发起', 'content': '哎，小乌鸦你等等啊', 'label': '其它'},\n",
       " {'type': '发起', 'content': '你为什么要连喊两声“猴哥”呀', 'label': '发起'},\n",
       " {'type': '讲解', 'content': '叫一声就可以了呀', 'label': '发起'},\n",
       " {'type': '讲解', 'content': '你为什么还连喊两声呀', 'label': '发起'},\n",
       " {'type': '讲解', 'content': '你觉得猴哥可能会听不见，是不是啊', 'label': '讲解'}]"
      ]
     },
     "execution_count": 8,
     "metadata": {},
     "output_type": "execute_result"
    }
   ],
   "execution_count": 8
  },
  {
   "metadata": {
    "ExecuteTime": {
     "end_time": "2024-09-03T06:24:24.608721Z",
     "start_time": "2024-09-03T06:24:24.597652Z"
    }
   },
   "cell_type": "code",
   "source": "manual",
   "id": "1a69c2d508a34001",
   "outputs": [
    {
     "data": {
      "text/plain": [
       "[{'type': '评价', 'content': '嗯，细心。'},\n",
       " {'type': '发起', 'content': '还有呢？他每天都去浇，天天都去浇水施肥。说明他怎么样？'},\n",
       " {'type': '评价', 'content': '对，非常勤劳。猴子是不是很勤劳？'},\n",
       " {'type': '讲解', 'content': '你们看，这个猴子种树啊，它有一个动作的过程。'},\n",
       " {'type': '发起', 'content': '你们找到了动作了吗？好，你来。'},\n",
       " {'type': '发起', 'content': '现在就直接浇水了吗？'},\n",
       " {'type': '发起', 'content': '然后呢？'},\n",
       " {'type': '评价', 'content': '嗯，施肥。'},\n",
       " {'type': '讲解', 'content': '然后等着将来可以吃梨子了。'},\n",
       " {'type': '发起', 'content': '好，我们按照这个顺序啊，把故事的开头自己在下面讲一讲，好不好？'},\n",
       " {'type': '发起', 'content': '来。好，谁来把故事的开头讲给我们听？刘若涵，'},\n",
       " {'type': '评价', 'content': '哇，这只猴子呀，真勤劳。而且我看出来了，你整的口水都快流出来了，是不是？好，非常好。'},\n",
       " {'type': '发起', 'content': '那接下来我要加大难度了。唉，没有提示你还能不能把刚刚的故事开头讲给我们听？张文婷，'},\n",
       " {'type': '评价', 'content': '棒不棒？好熟练啊，把故事啊，这么大声的就告诉我们了。非常好。'},\n",
       " {'type': '发起', 'content': '这时候谁来？这时候谁来？你说，'},\n",
       " {'type': '讲解', 'content': '乌鸦来。'},\n",
       " {'type': '发起', 'content': '好，乌鸦哇哇的对猴子说了什么呢？谁来做一下乌鸦？董新磊，'},\n",
       " {'type': '评价', 'content': '哦，这只小乌鸦读的真好，读的真顺畅啊。'},\n",
       " {'type': '发起', 'content': '再请一只小乌鸦，好，你来小乌鸦。'},\n",
       " {'type': '其它', 'content': '哎，小乌鸦你等等啊。'},\n",
       " {'type': '发起', 'content': '你为什么要连喊两声“猴哥”呀？叫一声就可以了呀。你为什么还连喊两声呀？'},\n",
       " {'type': '讲解', 'content': '你觉得猴哥可能会听不见，是不是啊？'}]"
      ]
     },
     "execution_count": 9,
     "metadata": {},
     "output_type": "execute_result"
    }
   ],
   "execution_count": 9
  },
  {
   "metadata": {
    "ExecuteTime": {
     "end_time": "2024-09-03T05:48:44.655703Z",
     "start_time": "2024-09-03T05:48:44.650710Z"
    }
   },
   "cell_type": "code",
   "source": "",
   "id": "3044c66404c1ff0",
   "outputs": [],
   "execution_count": 31
  },
  {
   "metadata": {
    "ExecuteTime": {
     "end_time": "2024-09-03T05:47:45.015326Z",
     "start_time": "2024-09-03T05:47:45.007813Z"
    }
   },
   "cell_type": "code",
   "source": "",
   "id": "5c615efc8f7fd3d7",
   "outputs": [
    {
     "name": "stdout",
     "output_type": "stream",
     "text": [
      "1\n"
     ]
    }
   ],
   "execution_count": 28
  },
  {
   "metadata": {
    "ExecuteTime": {
     "end_time": "2024-09-03T03:30:54.867981Z",
     "start_time": "2024-09-03T03:30:54.854264Z"
    }
   },
   "cell_type": "code",
   "source": [
    "if \n",
    "# 分句处理\n",
    "# split_data = split_sentences(data)"
   ],
   "id": "f199d8d58f826415",
   "outputs": [],
   "execution_count": 7
  },
  {
   "metadata": {
    "ExecuteTime": {
     "end_time": "2024-09-03T03:30:55.130084Z",
     "start_time": "2024-09-03T03:30:55.113078Z"
    }
   },
   "cell_type": "code",
   "source": [
    "# split_data_gpt4o_output = split_sentences(gpt4o_output)\n",
    "# split_data_gpt4o_output"
   ],
   "id": "d2cb628d55ce9c53",
   "outputs": [],
   "execution_count": 8
  },
  {
   "metadata": {
    "ExecuteTime": {
     "end_time": "2024-09-03T03:30:55.535159Z",
     "start_time": "2024-09-03T03:30:55.518333Z"
    }
   },
   "cell_type": "code",
   "source": [
    "# split_data_manual = split_sentences(manual_label)\n",
    "# split_data_manual"
   ],
   "id": "7811941e6c4470e1",
   "outputs": [],
   "execution_count": 9
  },
  {
   "metadata": {
    "ExecuteTime": {
     "end_time": "2024-09-03T03:30:55.939524Z",
     "start_time": "2024-09-03T03:30:55.930906Z"
    }
   },
   "cell_type": "code",
   "source": "# len(split_data_manual)\n",
   "id": "b5f4339dff3c972f",
   "outputs": [],
   "execution_count": 10
  },
  {
   "metadata": {
    "ExecuteTime": {
     "end_time": "2024-09-03T03:30:56.532837Z",
     "start_time": "2024-09-03T03:30:56.522449Z"
    }
   },
   "cell_type": "code",
   "source": "# len(split_data_gpt4o_output)",
   "id": "eae68743d4422876",
   "outputs": [],
   "execution_count": 11
  },
  {
   "metadata": {
    "ExecuteTime": {
     "end_time": "2024-09-03T03:30:56.764641Z",
     "start_time": "2024-09-03T03:30:56.754528Z"
    }
   },
   "cell_type": "code",
   "source": "",
   "id": "325566e09d4f2610",
   "outputs": [],
   "execution_count": 11
  },
  {
   "metadata": {
    "ExecuteTime": {
     "end_time": "2024-09-03T03:30:56.969665Z",
     "start_time": "2024-09-03T03:30:56.966664Z"
    }
   },
   "cell_type": "code",
   "source": "",
   "id": "9500a536d7e5a5b8",
   "outputs": [],
   "execution_count": 11
  },
  {
   "metadata": {
    "ExecuteTime": {
     "end_time": "2024-09-03T03:30:57.142232Z",
     "start_time": "2024-09-03T03:30:57.134697Z"
    }
   },
   "cell_type": "code",
   "source": "",
   "id": "2bfcd12cb7d18db9",
   "outputs": [],
   "execution_count": 11
  },
  {
   "metadata": {
    "ExecuteTime": {
     "end_time": "2024-09-03T03:30:57.344891Z",
     "start_time": "2024-09-03T03:30:57.331659Z"
    }
   },
   "cell_type": "code",
   "source": [
    "import pandas as pd \n",
    "content = [item.get(\"content\") for item in split_data_manual]\n",
    "label = [item.get(\"type\") for item in split_data_manual]\n",
    "preds = [item.get(\"type\") for item in split_data_gpt4o_output]\n"
   ],
   "id": "ecbfe48e8f05d2e9",
   "outputs": [],
   "execution_count": 12
  },
  {
   "metadata": {},
   "cell_type": "code",
   "outputs": [],
   "execution_count": null,
   "source": [
    "df = pd.DataFrame()\n",
    "df['content'] = content\n",
    "df['label'] = label\n",
    "df['preds'] = preds\n",
    "df"
   ],
   "id": "96d52061da2e327e"
  },
  {
   "metadata": {
    "ExecuteTime": {
     "end_time": "2024-09-03T03:31:00.635846Z",
     "start_time": "2024-09-03T03:30:57.737514Z"
    }
   },
   "cell_type": "code",
   "source": [
    "# import pandas as pd\n",
    "# from sklearn.metrics import precision_recall_fscore_support, accuracy_score\n",
    "# \n",
    "# # 读取Excel文件\n",
    "# # def calculate_metrics_from_excel(df):\n",
    "# #     # 读取Excel文件\n",
    "# #    \n",
    "# # \n",
    "# #     # 假设Excel文件中有 'label' 和 'preds' 两列\n",
    "# #     y_true = df['label']\n",
    "# #     y_pred = df['preds']\n",
    "# # \n",
    "# #     # 获取所有类型的类别标签\n",
    "# #     types = list(set(y_true) | set(y_pred))\n",
    "# # \n",
    "# #     # 计算每个类型的precision, recall, f1\n",
    "# #     precision, recall, f1, _ = precision_recall_fscore_support(y_true, y_pred, labels=types, zero_division=0)\n",
    "# # \n",
    "# #     # 总体准确率\n",
    "# #     accuracy = accuracy_score(y_true, y_pred)\n",
    "# # \n",
    "# #     # 汇总每个类型的结果\n",
    "# #     type_results = {}\n",
    "# #     for t, p, r, f in zip(types, precision, recall, f1):\n",
    "# #         type_results[t] = {\n",
    "# #             \"precision\": p,\n",
    "# #             \"recall\": r,\n",
    "# #             \"f1\": f\n",
    "# #         }\n",
    "# # \n",
    "# #     # 计算总F1\n",
    "# #     overall_f1 = sum(f1) / len(f1)\n",
    "# # \n",
    "# #     return accuracy, overall_f1, type_results\n",
    "# # \n",
    "# # accuracy, overall_f1, type_results = calculate_metrics_from_excel(df)\n",
    "# # \n",
    "# # print(f\"总体准确率: {accuracy:.2%}\")\n",
    "# # print(f\"总体F1分数: {overall_f1:.2%}\")\n",
    "# # print(\"每个类型的结果:\")\n",
    "# # for t, result in type_results.items():\n",
    "# #     print(f\"类型: {t} - Precision: {result['precision']:.2%}, Recall: {result['recall']:.2%}, F1: {result['f1']:.2%}\")\n"
   ],
   "id": "945aeff9b75df1da",
   "outputs": [],
   "execution_count": 13
  },
  {
   "metadata": {
    "ExecuteTime": {
     "end_time": "2024-09-03T03:31:08.821524Z",
     "start_time": "2024-09-03T03:31:08.802032Z"
    }
   },
   "cell_type": "code",
   "source": [
    "from sklearn.metrics import precision_recall_fscore_support, accuracy_score\n",
    "from difflib import SequenceMatcher\n",
    "from collections import defaultdict\n",
    "\n",
    "def similarity(a, b):\n",
    "    return SequenceMatcher(None, a, b).ratio()\n",
    "\n",
    "def evaluate_model(predictions, labels, threshold=0.99):\n",
    "    y_true = []\n",
    "    y_pred = []\n",
    "\n",
    "    for pred, label in zip(predictions, labels):\n",
    "        if similarity(pred['content'], label['content']) > threshold:\n",
    "            y_true.append(label['type'])\n",
    "            y_pred.append(pred['type'])\n",
    "        else:\n",
    "            y_true.append(label['type'])\n",
    "            y_pred.append('不匹配')  # 如果内容不匹配，视为不匹配\n",
    "\n",
    "    # 计算每个类型的precision, recall, f1\n",
    "    types = list(set(y_true + y_pred))\n",
    "    precision, recall, f1, _ = precision_recall_fscore_support(y_true, y_pred, labels=types, zero_division=0)\n",
    "    \n",
    "    # 总体准确率\n",
    "    accuracy = accuracy_score(y_true, y_pred)\n",
    "    \n",
    "    # 汇总每个类型的结果\n",
    "    type_results = {}\n",
    "    for t, p, r, f in zip(types, precision, recall, f1):\n",
    "        type_results[t] = {\n",
    "            \"precision\": p,\n",
    "            \"recall\": r,\n",
    "            \"f1\": f\n",
    "        }\n",
    "\n",
    "    # 计算总F1\n",
    "    overall_f1 = sum(f1) / len(f1)\n",
    "\n",
    "    return accuracy, overall_f1, type_results\n",
    "\n",
    "# 模型预测的输出\n",
    "predictions =split_data_gpt4o_output\n",
    "\n",
    "# 人工标注的内容\n",
    "labels = split_data_manual\n",
    "\n",
    "accuracy, overall_f1, type_results = evaluate_model(predictions, labels)\n",
    "\n",
    "print(f\"总体准确率: {accuracy:.2%}\")\n",
    "print(f\"总体F1分数: {overall_f1:.2%}\")\n",
    "print(\"每个类型的结果:\")\n",
    "for t, result in type_results.items():\n",
    "    print(f\"类型: {t} - Precision: {result['precision']:.2%}, Recall: {result['recall']:.2%}, F1: {result['f1']:.2%}\")\n"
   ],
   "id": "dff73033fd2f3867",
   "outputs": [
    {
     "name": "stdout",
     "output_type": "stream",
     "text": [
      "总体准确率: 10.26%\n",
      "总体F1分数: 16.03%\n",
      "每个类型的结果:\n",
      "类型: 不匹配 - Precision: 0.00%, Recall: 0.00%, F1: 0.00%\n",
      "类型: 其它 - Precision: 33.33%, Recall: 100.00%, F1: 50.00%\n",
      "类型: 评价 - Precision: 0.00%, Recall: 0.00%, F1: 0.00%\n",
      "类型: 讲解 - Precision: 0.00%, Recall: 0.00%, F1: 0.00%\n",
      "类型: 其他 - Precision: 0.00%, Recall: 0.00%, F1: 0.00%\n",
      "类型: 发起 - Precision: 100.00%, Recall: 30.00%, F1: 46.15%\n"
     ]
    }
   ],
   "execution_count": 14
  },
  {
   "metadata": {
    "ExecuteTime": {
     "end_time": "2024-09-02T08:23:11.956498Z",
     "start_time": "2024-09-02T08:23:11.946298Z"
    }
   },
   "cell_type": "code",
   "source": [
    "\n",
    "def similarity(a, b):\n",
    "    return SequenceMatcher(None, a, b).ratio()\n",
    "a = \"请袁艺喊“开始上课”，声音要响亮啊\"\n",
    "b = \"请袁艺喊“开始上课”，声音要响亮啊\"\n",
    "similarity(a,b)"
   ],
   "id": "1f5a0057b0d9c14b",
   "outputs": [
    {
     "data": {
      "text/plain": [
       "1.0"
      ]
     },
     "execution_count": 28,
     "metadata": {},
     "output_type": "execute_result"
    }
   ],
   "execution_count": 28
  },
  {
   "metadata": {
    "ExecuteTime": {
     "end_time": "2024-09-02T08:33:44.707643Z",
     "start_time": "2024-09-02T08:33:44.690232Z"
    }
   },
   "cell_type": "code",
   "source": [
    "for item1,item2 in zip(split_data_gpt4o_output,split_data_manual):\n",
    "    \n",
    "    print(f'gpt4o输出：{item1.get(\"content\")}\\n人工标注的：{item2.get(\"content\")}\\n模型指标：{similarity(item1.get(\"content\"),item2.get(\"content\"))}')"
   ],
   "id": "b50ba97fb1fe4d98",
   "outputs": [
    {
     "name": "stdout",
     "output_type": "stream",
     "text": [
      "gpt4o输出：请袁艺喊“开始上课”，声音要响亮啊\n",
      "人工标注的：请袁艺喊“开始上课”，声音要响亮啊\n",
      "模型指标：1.0\n",
      "gpt4o输出：同学们好，请坐\n",
      "人工标注的：同学们好，请坐\n",
      "模型指标：1.0\n",
      "gpt4o输出：真棒\n",
      "人工标注的：真棒\n",
      "模型指标：1.0\n",
      "gpt4o输出：昨天呀，我们一起学习了课文八\n",
      "人工标注的：昨天呀，我们一起学习了课文八\n",
      "模型指标：1.0\n",
      "gpt4o输出：今天，小猴子呀要到我们班来做客了\n",
      "人工标注的：今天，小猴子呀要到我们班来做客了\n",
      "模型指标：1.0\n",
      "gpt4o输出：我们来跟他打打招呼\n",
      "人工标注的：我们来跟他打打招呼\n",
      "模型指标：1.0\n",
      "gpt4o输出：“猴子”\n",
      "人工标注的：“猴子”\n",
      "模型指标：1.0\n",
      "gpt4o输出：昨天在写作业的时候呀，小朋友要注意哦\n",
      "人工标注的：昨天在写作业的时候呀，小朋友要注意哦\n",
      "模型指标：1.0\n",
      "gpt4o输出：这个“猴”，反犬旁，旁边是一个单立人，中间有没有一个短竖啊\n",
      "人工标注的：这个“猴”，反犬旁，旁边是一个单立人，中间有没有一个短竖啊\n",
      "模型指标：1.0\n",
      "gpt4o输出：那么昨天在作业当中，方老师看到有人加了一竖，那就不对了，变成错别字了\n",
      "人工标注的：那么昨天在作业当中，方老师看到有人加了一竖，那就不对了，变成错别字了\n",
      "模型指标：1.0\n",
      "gpt4o输出：明白了吗\n",
      "人工标注的：明白了吗\n",
      "模型指标：1.0\n",
      "gpt4o输出：好，现在用眼睛看，用心记住这个字，“猴子”\n",
      "人工标注的：好，现在用眼睛看，用心记住这个字，“猴子”\n",
      "模型指标：1.0\n",
      "gpt4o输出：哎，每天通过学习啊，我们知道了这个猴子啊，种了一些果树\n",
      "人工标注的：哎，每天通过学习啊，我们知道了这个猴子啊，种了一些果树\n",
      "模型指标：1.0\n",
      "gpt4o输出：它分别种了什么树呢\n",
      "人工标注的：它分别种了什么树呢\n",
      "模型指标：1.0\n",
      "gpt4o输出：谁来说说\n",
      "人工标注的：谁来说说\n",
      "模型指标：1.0\n",
      "gpt4o输出：于凯，你来说说看\n",
      "人工标注的：于凯，你来说说看\n",
      "模型指标：1.0\n",
      "gpt4o输出：你慢讲啊\n",
      "人工标注的：你慢讲啊\n",
      "模型指标：1.0\n",
      "gpt4o输出：嗯，\n",
      "人工标注的：嗯，\n",
      "模型指标：1.0\n",
      "gpt4o输出：然后呢\n",
      "人工标注的：然后呢\n",
      "模型指标：1.0\n",
      "gpt4o输出：然后种了杏树\n",
      "人工标注的：然后种了杏树\n",
      "模型指标：1.0\n",
      "gpt4o输出：最后呢\n",
      "人工标注的：最后呢\n",
      "模型指标：1.0\n",
      "gpt4o输出：最后还种了桃树\n",
      "人工标注的：最后还种了桃树\n",
      "模型指标：1.0\n",
      "gpt4o输出：到最后怎么样啊\n",
      "人工标注的：到最后怎么样啊\n",
      "模型指标：1.0\n",
      "gpt4o输出：好，于凯，你能不能连起来把这句话来说一说\n",
      "人工标注的：好，于凯，你能不能连起来把这句话来说一说\n",
      "模型指标：1.0\n",
      "gpt4o输出：“猴子种了”\n",
      "人工标注的：“猴子种了”\n",
      "模型指标：1.0\n",
      "gpt4o输出：非常棒，请坐\n",
      "人工标注的：非常棒，请坐\n",
      "模型指标：1.0\n",
      "gpt4o输出：我们像他一样，用一句话把这个故事，哎，就讲出来了\n",
      "人工标注的：我们像他一样，用一句话把这个故事，哎，就讲出来了\n",
      "模型指标：1.0\n",
      "gpt4o输出：来，我们一起来试试看\n",
      "人工标注的：来，我们一起来试试看\n",
      "模型指标：1.0\n",
      "gpt4o输出：“猴子种了”\n",
      "人工标注的：“猴子种了”\n",
      "模型指标：1.0\n",
      "gpt4o输出：瞧，咱们一句话就能把故事的意思讲出来了\n",
      "人工标注的：瞧，咱们一句话就能把故事的意思讲出来了\n",
      "模型指标：1.0\n",
      "gpt4o输出：小朋友们真能干\n",
      "人工标注的：小朋友们真能干\n",
      "模型指标：1.0\n",
      "gpt4o输出：好，那我们来看看哦，他为什么什么都没种成呢\n",
      "人工标注的：好，那我们来看看哦，他为什么什么都没种成呢\n",
      "模型指标：1.0\n",
      "gpt4o输出：我们来读课文的第一段\n",
      "人工标注的：我们来读课文的第一段\n",
      "模型指标：1.0\n",
      "gpt4o输出：来，谁来读\n",
      "人工标注的：来，谁来读\n",
      "模型指标：1.0\n",
      "gpt4o输出：那等一下啊\n",
      "人工标注的：那等一下啊\n",
      "模型指标：1.0\n",
      "gpt4o输出：好，你来读\n",
      "人工标注的：好，你来读\n",
      "模型指标：1.0\n",
      "gpt4o输出：“猴子”\n",
      "人工标注的：“猴子”\n",
      "模型指标：1.0\n",
      "gpt4o输出：嗯嗯，你先不要坐下，这个“天天”说明什么呀\n",
      "人工标注的：嗯嗯，你先不要坐下，这个“天天”说明什么呀\n",
      "模型指标：1.0\n"
     ]
    }
   ],
   "execution_count": 38
  },
  {
   "metadata": {},
   "cell_type": "code",
   "outputs": [],
   "execution_count": null,
   "source": "",
   "id": "f1add4468c526ca6"
  }
 ],
 "metadata": {
  "kernelspec": {
   "display_name": "Python 3",
   "language": "python",
   "name": "python3"
  },
  "language_info": {
   "codemirror_mode": {
    "name": "ipython",
    "version": 2
   },
   "file_extension": ".py",
   "mimetype": "text/x-python",
   "name": "python",
   "nbconvert_exporter": "python",
   "pygments_lexer": "ipython2",
   "version": "2.7.6"
  }
 },
 "nbformat": 4,
 "nbformat_minor": 5
}
